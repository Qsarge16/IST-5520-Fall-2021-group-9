{
 "cells": [
  {
   "cell_type": "markdown",
   "id": "d8679083",
   "metadata": {},
   "source": [
    "# An Analysis of Baltimore Towing Trends\n",
    "## IST 5520: Data Science w/ Python \n",
    "### By: Noah Donnelly, Nana Amoah, Quintin Sargent, Ethan Hisle, Joseph Rae \n",
    "#### September 21, 2021"
   ]
  },
  {
   "cell_type": "markdown",
   "id": "9c1a9c60",
   "metadata": {},
   "source": [
    "\n",
    "\n",
    "## Introduction"
   ]
  },
  {
   "cell_type": "markdown",
   "id": "4492e508",
   "metadata": {},
   "source": [
    "Over the past 12 years in Baltimore there were more than 265,000 instances of towed vehicles. Baltimore kept detailed records including the vehicle make, model, the tow contractor, the location of the vehicle at the time of the tow, the price of the tow, and where the vehicle was stored. \n",
    "\n",
    "This presents a plethora of information that could be used to answer business questions such as:\n",
    " - How much money did the city make from impounding vehicles? \n",
    " - How much money did the city spend on impounding vehicles/hiring contractors?\n",
    " - Were specific contractors given preferential treatment?\n",
    " - Did certain areas in the city involve more instances of towing than others?\n",
    " - What make or model is more likely to be towed?\n",
    " - What time is the busiest/most likely time for a vehicle to be towed?\n",
    " - What reasons were the most common for towing?\n"
   ]
  },
  {
   "cell_type": "markdown",
   "id": "b9d918e3",
   "metadata": {},
   "source": [
    "The dataset has met all of the criteria required for the project, as the dataset:\n",
    " - It has 39 columns and 265,816 rows so it is large enough to analyze using data science techniques. \n",
    " - The data is not clean. This dataset contains many missing values and the time data will need to be reformatted for ease of   analysis along with many other adjustments. \n",
    " - As far as we have been able to discover, the dataset has not been analyzed by anyone on the internet. The dataset appears to be untouched (this could possibly be due to its restricted access). \n"
   ]
  },
  {
   "cell_type": "markdown",
   "id": "10af371f",
   "metadata": {},
   "source": [
    "# Data Source and Collection"
   ]
  },
  {
   "cell_type": "markdown",
   "id": "3861c080",
   "metadata": {},
   "source": [
    "Data Source and Collection\n",
    "The dataset is downloadable as a csv file (currently the api is not working, or may require special authorization to download,so we may have to use a web scraper to get the data).\n",
    "The data sources are: \n",
    "\n",
    " - [ArcGIS Table](https://data.baltimorecity.gov/datasets/93884de333ae43118871ca47624eb31c/explore)\n",
    " - [Table Description](https://catalog.data.gov/dataset/towing-3d0dc)\n",
    " - [Raw Data](https://www.arcgis.com/home/item.html?id=93884de333ae43118871ca47624eb31c&sublayer=0&sortOrder=desc&sortField=defaultFSOrder#data)\n"
   ]
  }
 ],
 "metadata": {
  "kernelspec": {
   "display_name": "Python 3 (ipykernel)",
   "language": "python",
   "name": "python3"
  },
  "language_info": {
   "codemirror_mode": {
    "name": "ipython",
    "version": 3
   },
   "file_extension": ".py",
   "mimetype": "text/x-python",
   "name": "python",
   "nbconvert_exporter": "python",
   "pygments_lexer": "ipython3",
   "version": "3.9.5"
  }
 },
 "nbformat": 4,
 "nbformat_minor": 5
}
