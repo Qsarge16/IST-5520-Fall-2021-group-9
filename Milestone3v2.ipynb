{
 "cells": [
  {
   "cell_type": "markdown",
   "metadata": {},
   "source": [
    "# An Analysis of Baltimore Towing Trends\n",
    "## IST 5520: Data Science w/ Python \n",
    "### By: Noah Donnelly, Nana Amoah, Quintin Sargent, Ethan Hisle, Joseph Rae \n",
    "#### December 1, 2021"
   ]
  },
  {
   "cell_type": "markdown",
   "metadata": {},
   "source": [
    "\n",
    "\n",
    "# 1) Introduction"
   ]
  },
  {
   "cell_type": "markdown",
   "metadata": {},
   "source": [
    "Scenario: Over the past 12 years in Baltimore there were more than 265,000 instances of towed vehicles. Baltimore kept detailed records including the vehicle make, model, the tow contractor, the location of the vehicle at the time of the tow, the price of the tow, and where the vehicle was stored. Suppose that the City of Baltimore is performing an audit to ensure that their towing practices are unbiased. They are interested in determining if they are unfairly favoring one towing company, if they are unfairly towing specific models and makes of cars, or tow cars from other states more often than others. They hired us, a data science contractor to analyze their data and present the outcome as a neutral party.\n",
    "\n",
    "Some questions that could be analysed for checking if the city of Baltimore has been biased in towing are:\n",
    " - Is the city of Balitmore unfairly favoring one towing company over the other compeititors?\n",
    " - Is the city of Balitmore towing specific types of vehicles more than others?\n",
    " - Is the city of Balitmore towing visiting and traveling vistiors disportionally to local residents?\n",
    " - Can we predict if a car will be auctioned based on different attributes in the data set?\n",
    " \n",
    " Articles and Reports related to bias and corruption problems within the city of Baltimore:\n",
    " - https://foxbaltimore.com/news/local/ig-report-city-towing-contractor-sold-towed-vehicles\n",
    " - https://foxbaltimore.com/news/local/in-depth-maryland-leaders-and-corruption\n",
    " - https://www.baltimoresun.com/latest/bs-md-ci-officer-guilty-20111208-story.html\n",
    " - https://www.baltimoresun.com/maryland/bs-md-towing-history-20110223-story.html"
   ]
  },
  {
   "cell_type": "markdown",
   "metadata": {},
   "source": [
    "The dataset has met all of the criteria required for the project, as the dataset:\n",
    " - It has 39 columns and 265,816 rows so it is large enough to analyze using data science techniques. \n",
    " - The data is not clean. This dataset contains many missing values and the time data will need to be reformatted for ease of   analysis along with many other adjustments. \n",
    " - As far as we have been able to discover, the dataset has not been analyzed by anyone on the internet. The dataset appears to be untouched (this could possibly be due to its restricted access). "
   ]
  },
  {
   "cell_type": "markdown",
   "metadata": {},
   "source": [
    "## 1.2) Variables we will use in the analysis"
   ]
  },
  {
   "cell_type": "markdown",
   "metadata": {},
   "source": [
    "- TowedDateTime (Date, The date and time the car was towed.)\n",
    "- PickupType (String, The reason the car was towed.)\n",
    "- VehicleType (String, The type of the car.) \n",
    "- VehicleYear (String, The year of the car.)\n",
    "- VehicleMake (String, The manufacturer of the car.)\n",
    "- VehicleModel (String, The model of the car.)\n",
    "- VehicleColor (String, The color of the car.)\n",
    "- TagState (String, The state the car was registered in.)\n",
    "- TowCompany (String, The compmany contracted to tow the car.)\n",
    "- TowCharge (Double, The amount charged by the tower to tow the car.)\n",
    "- TowedFromLocation (String, Where the car was when it was towed.)\n",
    "- ReceivingDateTime (Date, The date and time the car was received at the yard.)\n",
    "- StorageYard (String, The storage yard the car was towed to.)\n",
    "- StorageLocation (String, The location of the storage yard.)\n",
    "- HoldDateTime (Date, The date and time the car began to be held.)\n",
    "- HoldReleasedDateTime (Date, The date and time the car was released.)\n",
    "- HoldReleasedNotifyDate (Date, The date and time they notify the owner.)\n",
    "- RemovedFromYardDate (Date, the date and time the car was removed from the yard.) \n",
    "- Status (String, The status of the car (released, auctioned, etc.)\n",
    "- ReleaseDateTime (Date, The date and time the car was released.)\n",
    "- ReleaseType (String, How the car was picked up/realeased.)\n",
    "- TotalPaid (Double, The amount of money paid.)"
   ]
  },
  {
   "cell_type": "markdown",
   "metadata": {},
   "source": [
    "# 2) Data Source and Collection"
   ]
  },
  {
   "cell_type": "markdown",
   "metadata": {},
   "source": [
    "Data Source and Collection\n",
    "The dataset is downloadable as a csv file (currently the api is not working, or may require special authorization to download,so we may have to use a web scraper to get the data).\n",
    "The data sources are: \n",
    "\n",
    " - [ArcGIS Table](https://data.baltimorecity.gov/datasets/93884de333ae43118871ca47624eb31c/explore)\n",
    " - [Table Description](https://catalog.data.gov/dataset/towing-3d0dc)\n",
    " - [Raw Data](https://www.arcgis.com/home/item.html?id=93884de333ae43118871ca47624eb31c&sublayer=0&sortOrder=desc&sortField=defaultFSOrder#data)\n"
   ]
  },
  {
   "cell_type": "markdown",
   "metadata": {},
   "source": [
    "# Data Manipulation"
   ]
  },
  {
   "cell_type": "code",
   "execution_count": 1,
   "metadata": {},
   "outputs": [],
   "source": [
    "# Import modules and set inline mode\n",
    "import pandas as pd\n",
    "import numpy as np\n",
    "import seaborn as sns"
   ]
  },
  {
   "cell_type": "code",
   "execution_count": 2,
   "metadata": {
    "scrolled": true
   },
   "outputs": [
    {
     "name": "stderr",
     "output_type": "stream",
     "text": [
      "C:\\ProgramData\\Anaconda3\\lib\\site-packages\\IPython\\core\\interactiveshell.py:3071: DtypeWarning: Columns (4,7,15,17,18,20,26,27,28,29,30,31,32,33,35) have mixed types.Specify dtype option on import or set low_memory=False.\n",
      "  has_raised = await self.run_ast_nodes(code_ast.body, cell_name,\n"
     ]
    },
    {
     "data": {
      "text/html": [
       "<div>\n",
       "<style scoped>\n",
       "    .dataframe tbody tr th:only-of-type {\n",
       "        vertical-align: middle;\n",
       "    }\n",
       "\n",
       "    .dataframe tbody tr th {\n",
       "        vertical-align: top;\n",
       "    }\n",
       "\n",
       "    .dataframe thead th {\n",
       "        text-align: right;\n",
       "    }\n",
       "</style>\n",
       "<table border=\"1\" class=\"dataframe\">\n",
       "  <thead>\n",
       "    <tr style=\"text-align: right;\">\n",
       "      <th></th>\n",
       "      <th>135868</th>\n",
       "      <th>108714</th>\n",
       "      <th>3282</th>\n",
       "    </tr>\n",
       "  </thead>\n",
       "  <tbody>\n",
       "    <tr>\n",
       "      <th>PropertyNumber</th>\n",
       "      <td>P276210</td>\n",
       "      <td>P249044</td>\n",
       "      <td>F301450</td>\n",
       "    </tr>\n",
       "    <tr>\n",
       "      <th>TowedDateTime</th>\n",
       "      <td>2014/05/01 15:28:00+00</td>\n",
       "      <td>2012/12/07 17:00:00+00</td>\n",
       "      <td>2013/02/26 16:35:00+00</td>\n",
       "    </tr>\n",
       "    <tr>\n",
       "      <th>PickupType</th>\n",
       "      <td>Relocate</td>\n",
       "      <td>Impound (Illegal Parking)</td>\n",
       "      <td>Parking Violation</td>\n",
       "    </tr>\n",
       "    <tr>\n",
       "      <th>VehicleType</th>\n",
       "      <td>Car</td>\n",
       "      <td>Car</td>\n",
       "      <td>NaN</td>\n",
       "    </tr>\n",
       "    <tr>\n",
       "      <th>VehicleYear</th>\n",
       "      <td>06</td>\n",
       "      <td>11</td>\n",
       "      <td>05</td>\n",
       "    </tr>\n",
       "    <tr>\n",
       "      <th>VehicleMake</th>\n",
       "      <td>Honda</td>\n",
       "      <td>Subaru</td>\n",
       "      <td>HONDA</td>\n",
       "    </tr>\n",
       "    <tr>\n",
       "      <th>VehicleModel</th>\n",
       "      <td>Accord</td>\n",
       "      <td>Legacy</td>\n",
       "      <td>CIVIC</td>\n",
       "    </tr>\n",
       "    <tr>\n",
       "      <th>VehicleColor</th>\n",
       "      <td>Gold</td>\n",
       "      <td>Black</td>\n",
       "      <td>NaN</td>\n",
       "    </tr>\n",
       "    <tr>\n",
       "      <th>TagNumber</th>\n",
       "      <td>NaN</td>\n",
       "      <td>61247CD</td>\n",
       "      <td>6ATW16</td>\n",
       "    </tr>\n",
       "    <tr>\n",
       "      <th>TagState</th>\n",
       "      <td>NaN</td>\n",
       "      <td>MD</td>\n",
       "      <td>MD</td>\n",
       "    </tr>\n",
       "    <tr>\n",
       "      <th>TowCompany</th>\n",
       "      <td>City</td>\n",
       "      <td>Fallsway</td>\n",
       "      <td>McDels Towing &amp; Recovery</td>\n",
       "    </tr>\n",
       "    <tr>\n",
       "      <th>TowCharge</th>\n",
       "      <td>0</td>\n",
       "      <td>130</td>\n",
       "      <td>130</td>\n",
       "    </tr>\n",
       "    <tr>\n",
       "      <th>TowedFromLocation</th>\n",
       "      <td>0  St Paul</td>\n",
       "      <td>100  Patterson Pk</td>\n",
       "      <td>W BIDDLE ST</td>\n",
       "    </tr>\n",
       "    <tr>\n",
       "      <th>HowTowed</th>\n",
       "      <td>Front</td>\n",
       "      <td>Front</td>\n",
       "      <td>Partial/Multiple</td>\n",
       "    </tr>\n",
       "    <tr>\n",
       "      <th>SlingUsed</th>\n",
       "      <td>No</td>\n",
       "      <td>No</td>\n",
       "      <td>No</td>\n",
       "    </tr>\n",
       "    <tr>\n",
       "      <th>DollyUsed</th>\n",
       "      <td>No</td>\n",
       "      <td>No</td>\n",
       "      <td>NaN</td>\n",
       "    </tr>\n",
       "    <tr>\n",
       "      <th>rollBackUsed</th>\n",
       "      <td>Yes</td>\n",
       "      <td>Yes</td>\n",
       "      <td>No</td>\n",
       "    </tr>\n",
       "    <tr>\n",
       "      <th>pinPulled</th>\n",
       "      <td>No</td>\n",
       "      <td>No</td>\n",
       "      <td>NaN</td>\n",
       "    </tr>\n",
       "    <tr>\n",
       "      <th>pinReplaced</th>\n",
       "      <td>No</td>\n",
       "      <td>No</td>\n",
       "      <td>NaN</td>\n",
       "    </tr>\n",
       "    <tr>\n",
       "      <th>WheelLift</th>\n",
       "      <td>No</td>\n",
       "      <td>No</td>\n",
       "      <td>No</td>\n",
       "    </tr>\n",
       "    <tr>\n",
       "      <th>Stinger</th>\n",
       "      <td>No</td>\n",
       "      <td>No</td>\n",
       "      <td>NaN</td>\n",
       "    </tr>\n",
       "    <tr>\n",
       "      <th>ReceivingDateTime</th>\n",
       "      <td>2014/05/01 15:28:00+00</td>\n",
       "      <td>2012/12/07 05:00:00+00</td>\n",
       "      <td>2013/02/26 16:48:00+00</td>\n",
       "    </tr>\n",
       "    <tr>\n",
       "      <th>StorageYard</th>\n",
       "      <td>Pulaski</td>\n",
       "      <td>Pulaski</td>\n",
       "      <td>Fallsway Impound Lot</td>\n",
       "    </tr>\n",
       "    <tr>\n",
       "      <th>StorageLocation</th>\n",
       "      <td>6700 Pulaski Highway Baltimore, Maryland 21237</td>\n",
       "      <td>6700 Pulaski Highway Baltimore, Maryland 21237</td>\n",
       "      <td>410 Fallsway Baltimore, Maryland 21202</td>\n",
       "    </tr>\n",
       "    <tr>\n",
       "      <th>StorageTelephone</th>\n",
       "      <td>(410) 396-9958</td>\n",
       "      <td>(410) 396-9958</td>\n",
       "      <td>(410) 396-4639</td>\n",
       "    </tr>\n",
       "    <tr>\n",
       "      <th>TitleRenounciation</th>\n",
       "      <td>0</td>\n",
       "      <td>0</td>\n",
       "      <td>NaN</td>\n",
       "    </tr>\n",
       "    <tr>\n",
       "      <th>TRDateTime</th>\n",
       "      <td>NaN</td>\n",
       "      <td>NaN</td>\n",
       "      <td>NaN</td>\n",
       "    </tr>\n",
       "    <tr>\n",
       "      <th>PersonalPropRemoved</th>\n",
       "      <td>NaN</td>\n",
       "      <td>NaN</td>\n",
       "      <td>NaN</td>\n",
       "    </tr>\n",
       "    <tr>\n",
       "      <th>PersonalPropLeftInVehicle</th>\n",
       "      <td>NaN</td>\n",
       "      <td>NaN</td>\n",
       "      <td>NaN</td>\n",
       "    </tr>\n",
       "    <tr>\n",
       "      <th>HoldType</th>\n",
       "      <td>NaN</td>\n",
       "      <td>NaN</td>\n",
       "      <td>NaN</td>\n",
       "    </tr>\n",
       "    <tr>\n",
       "      <th>HoldDateTime</th>\n",
       "      <td>NaN</td>\n",
       "      <td>NaN</td>\n",
       "      <td>NaN</td>\n",
       "    </tr>\n",
       "    <tr>\n",
       "      <th>HoldReleasedDateTime</th>\n",
       "      <td>NaN</td>\n",
       "      <td>NaN</td>\n",
       "      <td>NaN</td>\n",
       "    </tr>\n",
       "    <tr>\n",
       "      <th>HoldReleasedNotifyDate</th>\n",
       "      <td>NaN</td>\n",
       "      <td>NaN</td>\n",
       "      <td>NaN</td>\n",
       "    </tr>\n",
       "    <tr>\n",
       "      <th>RemovedFromYardDate</th>\n",
       "      <td>2014/05/08 00:00:00+00</td>\n",
       "      <td>2012/12/08 00:00:00+00</td>\n",
       "      <td>NaN</td>\n",
       "    </tr>\n",
       "    <tr>\n",
       "      <th>StolenVehicleFlag</th>\n",
       "      <td>0</td>\n",
       "      <td>0</td>\n",
       "      <td>NaN</td>\n",
       "    </tr>\n",
       "    <tr>\n",
       "      <th>Status</th>\n",
       "      <td>Released</td>\n",
       "      <td>Released</td>\n",
       "      <td>NaN</td>\n",
       "    </tr>\n",
       "    <tr>\n",
       "      <th>ReleaseDateTime</th>\n",
       "      <td>2014/05/08 15:36:00+00</td>\n",
       "      <td>2012/12/08 10:33:00+00</td>\n",
       "      <td>2013/02/27 07:45:00+00</td>\n",
       "    </tr>\n",
       "    <tr>\n",
       "      <th>ReleaseType</th>\n",
       "      <td>Miscellaneous</td>\n",
       "      <td>Reclaimed by Owner</td>\n",
       "      <td>Release to Owner</td>\n",
       "    </tr>\n",
       "    <tr>\n",
       "      <th>TotalPaid</th>\n",
       "      <td>0</td>\n",
       "      <td>272</td>\n",
       "      <td>272</td>\n",
       "    </tr>\n",
       "    <tr>\n",
       "      <th>ESRI_OID</th>\n",
       "      <td>41379</td>\n",
       "      <td>45231</td>\n",
       "      <td>285</td>\n",
       "    </tr>\n",
       "  </tbody>\n",
       "</table>\n",
       "</div>"
      ],
      "text/plain": [
       "                                                                   135868  \\\n",
       "PropertyNumber                                                    P276210   \n",
       "TowedDateTime                                      2014/05/01 15:28:00+00   \n",
       "PickupType                                                       Relocate   \n",
       "VehicleType                                                           Car   \n",
       "VehicleYear                                                            06   \n",
       "VehicleMake                                                         Honda   \n",
       "VehicleModel                                                       Accord   \n",
       "VehicleColor                                                         Gold   \n",
       "TagNumber                                                             NaN   \n",
       "TagState                                                              NaN   \n",
       "TowCompany                                                           City   \n",
       "TowCharge                                                               0   \n",
       "TowedFromLocation                                             0  St Paul    \n",
       "HowTowed                                                            Front   \n",
       "SlingUsed                                                              No   \n",
       "DollyUsed                                                              No   \n",
       "rollBackUsed                                                          Yes   \n",
       "pinPulled                                                              No   \n",
       "pinReplaced                                                            No   \n",
       "WheelLift                                                              No   \n",
       "Stinger                                                                No   \n",
       "ReceivingDateTime                                  2014/05/01 15:28:00+00   \n",
       "StorageYard                                                       Pulaski   \n",
       "StorageLocation            6700 Pulaski Highway Baltimore, Maryland 21237   \n",
       "StorageTelephone                                           (410) 396-9958   \n",
       "TitleRenounciation                                                      0   \n",
       "TRDateTime                                                            NaN   \n",
       "PersonalPropRemoved                                                   NaN   \n",
       "PersonalPropLeftInVehicle                                             NaN   \n",
       "HoldType                                                              NaN   \n",
       "HoldDateTime                                                          NaN   \n",
       "HoldReleasedDateTime                                                  NaN   \n",
       "HoldReleasedNotifyDate                                                NaN   \n",
       "RemovedFromYardDate                                2014/05/08 00:00:00+00   \n",
       "StolenVehicleFlag                                                       0   \n",
       "Status                                                           Released   \n",
       "ReleaseDateTime                                    2014/05/08 15:36:00+00   \n",
       "ReleaseType                                                 Miscellaneous   \n",
       "TotalPaid                                                               0   \n",
       "ESRI_OID                                                            41379   \n",
       "\n",
       "                                                                   108714  \\\n",
       "PropertyNumber                                                    P249044   \n",
       "TowedDateTime                                      2012/12/07 17:00:00+00   \n",
       "PickupType                                      Impound (Illegal Parking)   \n",
       "VehicleType                                                           Car   \n",
       "VehicleYear                                                            11   \n",
       "VehicleMake                                                        Subaru   \n",
       "VehicleModel                                                       Legacy   \n",
       "VehicleColor                                                        Black   \n",
       "TagNumber                                                         61247CD   \n",
       "TagState                                                               MD   \n",
       "TowCompany                                                       Fallsway   \n",
       "TowCharge                                                             130   \n",
       "TowedFromLocation                                       100  Patterson Pk   \n",
       "HowTowed                                                            Front   \n",
       "SlingUsed                                                              No   \n",
       "DollyUsed                                                              No   \n",
       "rollBackUsed                                                          Yes   \n",
       "pinPulled                                                              No   \n",
       "pinReplaced                                                            No   \n",
       "WheelLift                                                              No   \n",
       "Stinger                                                                No   \n",
       "ReceivingDateTime                                  2012/12/07 05:00:00+00   \n",
       "StorageYard                                                       Pulaski   \n",
       "StorageLocation            6700 Pulaski Highway Baltimore, Maryland 21237   \n",
       "StorageTelephone                                           (410) 396-9958   \n",
       "TitleRenounciation                                                      0   \n",
       "TRDateTime                                                            NaN   \n",
       "PersonalPropRemoved                                                   NaN   \n",
       "PersonalPropLeftInVehicle                                             NaN   \n",
       "HoldType                                                              NaN   \n",
       "HoldDateTime                                                          NaN   \n",
       "HoldReleasedDateTime                                                  NaN   \n",
       "HoldReleasedNotifyDate                                                NaN   \n",
       "RemovedFromYardDate                                2012/12/08 00:00:00+00   \n",
       "StolenVehicleFlag                                                       0   \n",
       "Status                                                           Released   \n",
       "ReleaseDateTime                                    2012/12/08 10:33:00+00   \n",
       "ReleaseType                                            Reclaimed by Owner   \n",
       "TotalPaid                                                             272   \n",
       "ESRI_OID                                                            45231   \n",
       "\n",
       "                                                           3282    \n",
       "PropertyNumber                                            F301450  \n",
       "TowedDateTime                              2013/02/26 16:35:00+00  \n",
       "PickupType                                      Parking Violation  \n",
       "VehicleType                                                   NaN  \n",
       "VehicleYear                                                    05  \n",
       "VehicleMake                                                 HONDA  \n",
       "VehicleModel                                                CIVIC  \n",
       "VehicleColor                                                  NaN  \n",
       "TagNumber                                                  6ATW16  \n",
       "TagState                                                       MD  \n",
       "TowCompany                               McDels Towing & Recovery  \n",
       "TowCharge                                                     130  \n",
       "TowedFromLocation                                     W BIDDLE ST  \n",
       "HowTowed                                         Partial/Multiple  \n",
       "SlingUsed                                                      No  \n",
       "DollyUsed                                                     NaN  \n",
       "rollBackUsed                                                   No  \n",
       "pinPulled                                                     NaN  \n",
       "pinReplaced                                                   NaN  \n",
       "WheelLift                                                      No  \n",
       "Stinger                                                       NaN  \n",
       "ReceivingDateTime                          2013/02/26 16:48:00+00  \n",
       "StorageYard                                  Fallsway Impound Lot  \n",
       "StorageLocation            410 Fallsway Baltimore, Maryland 21202  \n",
       "StorageTelephone                                   (410) 396-4639  \n",
       "TitleRenounciation                                            NaN  \n",
       "TRDateTime                                                    NaN  \n",
       "PersonalPropRemoved                                           NaN  \n",
       "PersonalPropLeftInVehicle                                     NaN  \n",
       "HoldType                                                      NaN  \n",
       "HoldDateTime                                                  NaN  \n",
       "HoldReleasedDateTime                                          NaN  \n",
       "HoldReleasedNotifyDate                                        NaN  \n",
       "RemovedFromYardDate                                           NaN  \n",
       "StolenVehicleFlag                                             NaN  \n",
       "Status                                                        NaN  \n",
       "ReleaseDateTime                            2013/02/27 07:45:00+00  \n",
       "ReleaseType                                      Release to Owner  \n",
       "TotalPaid                                                     272  \n",
       "ESRI_OID                                                      285  "
      ]
     },
     "execution_count": 2,
     "metadata": {},
     "output_type": "execute_result"
    }
   ],
   "source": [
    "df = pd.read_csv('Towing.csv',sep = ',')\n",
    "df.sample(3).transpose()"
   ]
  },
  {
   "cell_type": "markdown",
   "metadata": {},
   "source": [
    "These columns were not very usefull mostly due to the high number of null variables so we dropped them."
   ]
  },
  {
   "cell_type": "code",
   "execution_count": 3,
   "metadata": {
    "scrolled": true
   },
   "outputs": [
    {
     "data": {
      "text/html": [
       "<div>\n",
       "<style scoped>\n",
       "    .dataframe tbody tr th:only-of-type {\n",
       "        vertical-align: middle;\n",
       "    }\n",
       "\n",
       "    .dataframe tbody tr th {\n",
       "        vertical-align: top;\n",
       "    }\n",
       "\n",
       "    .dataframe thead th {\n",
       "        text-align: right;\n",
       "    }\n",
       "</style>\n",
       "<table border=\"1\" class=\"dataframe\">\n",
       "  <thead>\n",
       "    <tr style=\"text-align: right;\">\n",
       "      <th></th>\n",
       "      <th>229614</th>\n",
       "      <th>202617</th>\n",
       "      <th>116932</th>\n",
       "    </tr>\n",
       "  </thead>\n",
       "  <tbody>\n",
       "    <tr>\n",
       "      <th>PropertyNumber</th>\n",
       "      <td>P370019</td>\n",
       "      <td>P343012</td>\n",
       "      <td>P257264</td>\n",
       "    </tr>\n",
       "    <tr>\n",
       "      <th>TowedDateTime</th>\n",
       "      <td>2018/10/15 08:05:00+00</td>\n",
       "      <td>2017/07/01 05:35:00+00</td>\n",
       "      <td>2013/05/13 22:20:00+00</td>\n",
       "    </tr>\n",
       "    <tr>\n",
       "      <th>PickupType</th>\n",
       "      <td>Stolen Recovered</td>\n",
       "      <td>Stolen Recovered</td>\n",
       "      <td>Police Action</td>\n",
       "    </tr>\n",
       "    <tr>\n",
       "      <th>VehicleType</th>\n",
       "      <td>Car</td>\n",
       "      <td>Car</td>\n",
       "      <td>Scooter</td>\n",
       "    </tr>\n",
       "    <tr>\n",
       "      <th>VehicleYear</th>\n",
       "      <td>13</td>\n",
       "      <td>4</td>\n",
       "      <td>12</td>\n",
       "    </tr>\n",
       "    <tr>\n",
       "      <th>VehicleMake</th>\n",
       "      <td>Acura</td>\n",
       "      <td>Nissan</td>\n",
       "      <td>Dongfang</td>\n",
       "    </tr>\n",
       "    <tr>\n",
       "      <th>VehicleModel</th>\n",
       "      <td>Tsx</td>\n",
       "      <td>Altima</td>\n",
       "      <td>SUNNY 150</td>\n",
       "    </tr>\n",
       "    <tr>\n",
       "      <th>VehicleColor</th>\n",
       "      <td>Black</td>\n",
       "      <td>White</td>\n",
       "      <td>Blue</td>\n",
       "    </tr>\n",
       "    <tr>\n",
       "      <th>TagNumber</th>\n",
       "      <td>2DB4537</td>\n",
       "      <td>9CB5814</td>\n",
       "      <td>NaN</td>\n",
       "    </tr>\n",
       "    <tr>\n",
       "      <th>TagState</th>\n",
       "      <td>MD</td>\n",
       "      <td>MD</td>\n",
       "      <td>NaN</td>\n",
       "    </tr>\n",
       "    <tr>\n",
       "      <th>TowCompany</th>\n",
       "      <td>Universal Towing LLC</td>\n",
       "      <td>Jim Elliotts Towing (2)</td>\n",
       "      <td>Frankford Towing, LLC</td>\n",
       "    </tr>\n",
       "    <tr>\n",
       "      <th>TowCharge</th>\n",
       "      <td>130</td>\n",
       "      <td>161</td>\n",
       "      <td>130</td>\n",
       "    </tr>\n",
       "    <tr>\n",
       "      <th>TowedFromLocation</th>\n",
       "      <td>2900  Herkimer Road</td>\n",
       "      <td>2400  Erdman Ave</td>\n",
       "      <td>6500  Eastern Ave</td>\n",
       "    </tr>\n",
       "    <tr>\n",
       "      <th>HowTowed</th>\n",
       "      <td>Front</td>\n",
       "      <td>Rear</td>\n",
       "      <td>Front</td>\n",
       "    </tr>\n",
       "    <tr>\n",
       "      <th>SlingUsed</th>\n",
       "      <td>No</td>\n",
       "      <td>No</td>\n",
       "      <td>No</td>\n",
       "    </tr>\n",
       "    <tr>\n",
       "      <th>DollyUsed</th>\n",
       "      <td>No</td>\n",
       "      <td>No</td>\n",
       "      <td>No</td>\n",
       "    </tr>\n",
       "    <tr>\n",
       "      <th>rollBackUsed</th>\n",
       "      <td>No</td>\n",
       "      <td>Yes</td>\n",
       "      <td>Yes</td>\n",
       "    </tr>\n",
       "    <tr>\n",
       "      <th>pinPulled</th>\n",
       "      <td>No</td>\n",
       "      <td>No</td>\n",
       "      <td>No</td>\n",
       "    </tr>\n",
       "    <tr>\n",
       "      <th>pinReplaced</th>\n",
       "      <td>No</td>\n",
       "      <td>No</td>\n",
       "      <td>No</td>\n",
       "    </tr>\n",
       "    <tr>\n",
       "      <th>WheelLift</th>\n",
       "      <td>Yes</td>\n",
       "      <td>No</td>\n",
       "      <td>No</td>\n",
       "    </tr>\n",
       "    <tr>\n",
       "      <th>Stinger</th>\n",
       "      <td>No</td>\n",
       "      <td>No</td>\n",
       "      <td>No</td>\n",
       "    </tr>\n",
       "    <tr>\n",
       "      <th>ReceivingDateTime</th>\n",
       "      <td>2018/10/15 08:05:00+00</td>\n",
       "      <td>2017/07/01 05:35:00+00</td>\n",
       "      <td>2013/05/13 22:20:00+00</td>\n",
       "    </tr>\n",
       "    <tr>\n",
       "      <th>StorageYard</th>\n",
       "      <td>Pulaski</td>\n",
       "      <td>Pulaski</td>\n",
       "      <td>Pulaski</td>\n",
       "    </tr>\n",
       "    <tr>\n",
       "      <th>StorageLocation</th>\n",
       "      <td>6700 Pulaski Highway Baltimore, Maryland 21237</td>\n",
       "      <td>6700 Pulaski Highway Baltimore, Maryland 21237</td>\n",
       "      <td>6700 Pulaski Highway Baltimore, Maryland 21237</td>\n",
       "    </tr>\n",
       "    <tr>\n",
       "      <th>StorageTelephone</th>\n",
       "      <td>(410) 396-9958</td>\n",
       "      <td>(410) 396-9958</td>\n",
       "      <td>(410) 396-9958</td>\n",
       "    </tr>\n",
       "    <tr>\n",
       "      <th>TitleRenounciation</th>\n",
       "      <td>0</td>\n",
       "      <td>0</td>\n",
       "      <td>0</td>\n",
       "    </tr>\n",
       "    <tr>\n",
       "      <th>HoldDateTime</th>\n",
       "      <td>NaN</td>\n",
       "      <td>NaN</td>\n",
       "      <td>2013/05/13 22:20:00+00</td>\n",
       "    </tr>\n",
       "    <tr>\n",
       "      <th>HoldReleasedDateTime</th>\n",
       "      <td>NaN</td>\n",
       "      <td>NaN</td>\n",
       "      <td>2013/06/11 14:21:00+00</td>\n",
       "    </tr>\n",
       "    <tr>\n",
       "      <th>HoldReleasedNotifyDate</th>\n",
       "      <td>NaN</td>\n",
       "      <td>NaN</td>\n",
       "      <td>2013/06/11 00:00:00+00</td>\n",
       "    </tr>\n",
       "    <tr>\n",
       "      <th>RemovedFromYardDate</th>\n",
       "      <td>2018/10/24 00:00:00+00</td>\n",
       "      <td>2018/02/28 00:00:00+00</td>\n",
       "      <td>2013/07/10 00:00:00+00</td>\n",
       "    </tr>\n",
       "    <tr>\n",
       "      <th>StolenVehicleFlag</th>\n",
       "      <td>1</td>\n",
       "      <td>1</td>\n",
       "      <td>0</td>\n",
       "    </tr>\n",
       "    <tr>\n",
       "      <th>Status</th>\n",
       "      <td>Released</td>\n",
       "      <td>Auctioned</td>\n",
       "      <td>Auctioned (Not Released)</td>\n",
       "    </tr>\n",
       "    <tr>\n",
       "      <th>ReleaseDateTime</th>\n",
       "      <td>2018/10/24 11:54:00+00</td>\n",
       "      <td>2018/02/28 08:00:00+00</td>\n",
       "      <td>2013/07/10 08:00:00+00</td>\n",
       "    </tr>\n",
       "    <tr>\n",
       "      <th>ReleaseType</th>\n",
       "      <td>Reclaimed by Insurer</td>\n",
       "      <td>Auctioned</td>\n",
       "      <td>Auctioned</td>\n",
       "    </tr>\n",
       "    <tr>\n",
       "      <th>TotalPaid</th>\n",
       "      <td>130</td>\n",
       "      <td>0</td>\n",
       "      <td>0</td>\n",
       "    </tr>\n",
       "  </tbody>\n",
       "</table>\n",
       "</div>"
      ],
      "text/plain": [
       "                                                                229614  \\\n",
       "PropertyNumber                                                 P370019   \n",
       "TowedDateTime                                   2018/10/15 08:05:00+00   \n",
       "PickupType                                            Stolen Recovered   \n",
       "VehicleType                                                        Car   \n",
       "VehicleYear                                                         13   \n",
       "VehicleMake                                                      Acura   \n",
       "VehicleModel                                                       Tsx   \n",
       "VehicleColor                                                     Black   \n",
       "TagNumber                                                      2DB4537   \n",
       "TagState                                                            MD   \n",
       "TowCompany                                        Universal Towing LLC   \n",
       "TowCharge                                                          130   \n",
       "TowedFromLocation                                 2900  Herkimer Road    \n",
       "HowTowed                                                         Front   \n",
       "SlingUsed                                                           No   \n",
       "DollyUsed                                                           No   \n",
       "rollBackUsed                                                        No   \n",
       "pinPulled                                                           No   \n",
       "pinReplaced                                                         No   \n",
       "WheelLift                                                          Yes   \n",
       "Stinger                                                             No   \n",
       "ReceivingDateTime                               2018/10/15 08:05:00+00   \n",
       "StorageYard                                                    Pulaski   \n",
       "StorageLocation         6700 Pulaski Highway Baltimore, Maryland 21237   \n",
       "StorageTelephone                                        (410) 396-9958   \n",
       "TitleRenounciation                                                   0   \n",
       "HoldDateTime                                                       NaN   \n",
       "HoldReleasedDateTime                                               NaN   \n",
       "HoldReleasedNotifyDate                                             NaN   \n",
       "RemovedFromYardDate                             2018/10/24 00:00:00+00   \n",
       "StolenVehicleFlag                                                    1   \n",
       "Status                                                        Released   \n",
       "ReleaseDateTime                                 2018/10/24 11:54:00+00   \n",
       "ReleaseType                                       Reclaimed by Insurer   \n",
       "TotalPaid                                                          130   \n",
       "\n",
       "                                                                202617  \\\n",
       "PropertyNumber                                                 P343012   \n",
       "TowedDateTime                                   2017/07/01 05:35:00+00   \n",
       "PickupType                                            Stolen Recovered   \n",
       "VehicleType                                                        Car   \n",
       "VehicleYear                                                          4   \n",
       "VehicleMake                                                     Nissan   \n",
       "VehicleModel                                                    Altima   \n",
       "VehicleColor                                                     White   \n",
       "TagNumber                                                      9CB5814   \n",
       "TagState                                                            MD   \n",
       "TowCompany                                     Jim Elliotts Towing (2)   \n",
       "TowCharge                                                          161   \n",
       "TowedFromLocation                                    2400  Erdman Ave    \n",
       "HowTowed                                                          Rear   \n",
       "SlingUsed                                                           No   \n",
       "DollyUsed                                                           No   \n",
       "rollBackUsed                                                       Yes   \n",
       "pinPulled                                                           No   \n",
       "pinReplaced                                                         No   \n",
       "WheelLift                                                           No   \n",
       "Stinger                                                             No   \n",
       "ReceivingDateTime                               2017/07/01 05:35:00+00   \n",
       "StorageYard                                                    Pulaski   \n",
       "StorageLocation         6700 Pulaski Highway Baltimore, Maryland 21237   \n",
       "StorageTelephone                                        (410) 396-9958   \n",
       "TitleRenounciation                                                   0   \n",
       "HoldDateTime                                                       NaN   \n",
       "HoldReleasedDateTime                                               NaN   \n",
       "HoldReleasedNotifyDate                                             NaN   \n",
       "RemovedFromYardDate                             2018/02/28 00:00:00+00   \n",
       "StolenVehicleFlag                                                    1   \n",
       "Status                                                       Auctioned   \n",
       "ReleaseDateTime                                 2018/02/28 08:00:00+00   \n",
       "ReleaseType                                                  Auctioned   \n",
       "TotalPaid                                                            0   \n",
       "\n",
       "                                                                116932  \n",
       "PropertyNumber                                                 P257264  \n",
       "TowedDateTime                                   2013/05/13 22:20:00+00  \n",
       "PickupType                                               Police Action  \n",
       "VehicleType                                                    Scooter  \n",
       "VehicleYear                                                         12  \n",
       "VehicleMake                                                   Dongfang  \n",
       "VehicleModel                                                 SUNNY 150  \n",
       "VehicleColor                                                      Blue  \n",
       "TagNumber                                                          NaN  \n",
       "TagState                                                           NaN  \n",
       "TowCompany                                       Frankford Towing, LLC  \n",
       "TowCharge                                                          130  \n",
       "TowedFromLocation                                    6500  Eastern Ave  \n",
       "HowTowed                                                         Front  \n",
       "SlingUsed                                                           No  \n",
       "DollyUsed                                                           No  \n",
       "rollBackUsed                                                       Yes  \n",
       "pinPulled                                                           No  \n",
       "pinReplaced                                                         No  \n",
       "WheelLift                                                           No  \n",
       "Stinger                                                             No  \n",
       "ReceivingDateTime                               2013/05/13 22:20:00+00  \n",
       "StorageYard                                                    Pulaski  \n",
       "StorageLocation         6700 Pulaski Highway Baltimore, Maryland 21237  \n",
       "StorageTelephone                                        (410) 396-9958  \n",
       "TitleRenounciation                                                   0  \n",
       "HoldDateTime                                    2013/05/13 22:20:00+00  \n",
       "HoldReleasedDateTime                            2013/06/11 14:21:00+00  \n",
       "HoldReleasedNotifyDate                          2013/06/11 00:00:00+00  \n",
       "RemovedFromYardDate                             2013/07/10 00:00:00+00  \n",
       "StolenVehicleFlag                                                    0  \n",
       "Status                                        Auctioned (Not Released)  \n",
       "ReleaseDateTime                                 2013/07/10 08:00:00+00  \n",
       "ReleaseType                                                  Auctioned  \n",
       "TotalPaid                                                            0  "
      ]
     },
     "execution_count": 3,
     "metadata": {},
     "output_type": "execute_result"
    }
   ],
   "source": [
    "dfDropped = df.drop(['TRDateTime','PersonalPropRemoved',\n",
    "                     'PersonalPropLeftInVehicle','HoldType','ESRI_OID'], axis = 1)\n",
    "dfDropped.sample(3).transpose()"
   ]
  },
  {
   "cell_type": "markdown",
   "metadata": {},
   "source": [
    "## Changing column types"
   ]
  },
  {
   "cell_type": "markdown",
   "metadata": {},
   "source": [
    "change year to numeric"
   ]
  },
  {
   "cell_type": "code",
   "execution_count": 4,
   "metadata": {},
   "outputs": [],
   "source": [
    "dfDropped[\"VehicleYear\"] = pd.to_numeric(df[\"VehicleYear\"].str.replace(\"[^0-9.]\",\"\"))\n",
    "def custom_year(year):\n",
    "    if pd.isna(year):\n",
    "        return np.nan\n",
    "    if year <10:\n",
    "        return 2021 - float(\"200\"+str(year))\n",
    "    if year<=21:\n",
    "        return 2021 - float(\"20\"+str(year))\n",
    "    if year>=21 and year<=1900:\n",
    "        return 2021 - float(\"19\"+str(year))\n",
    "    else:\n",
    "        return 2021 - float(year)\n",
    "        \n",
    "dfDropped['VehicleAge'] = dfDropped.apply(lambda x: custom_year(x['VehicleYear']),axis=1)"
   ]
  },
  {
   "cell_type": "code",
   "execution_count": 5,
   "metadata": {
    "scrolled": true
   },
   "outputs": [
    {
     "data": {
      "text/html": [
       "<div>\n",
       "<style scoped>\n",
       "    .dataframe tbody tr th:only-of-type {\n",
       "        vertical-align: middle;\n",
       "    }\n",
       "\n",
       "    .dataframe tbody tr th {\n",
       "        vertical-align: top;\n",
       "    }\n",
       "\n",
       "    .dataframe thead th {\n",
       "        text-align: right;\n",
       "    }\n",
       "</style>\n",
       "<table border=\"1\" class=\"dataframe\">\n",
       "  <thead>\n",
       "    <tr style=\"text-align: right;\">\n",
       "      <th></th>\n",
       "      <th>PropertyNumber</th>\n",
       "      <th>TowedDateTime</th>\n",
       "      <th>PickupType</th>\n",
       "      <th>VehicleType</th>\n",
       "      <th>VehicleYear</th>\n",
       "      <th>VehicleMake</th>\n",
       "      <th>VehicleModel</th>\n",
       "      <th>VehicleColor</th>\n",
       "      <th>TagNumber</th>\n",
       "      <th>TagState</th>\n",
       "      <th>...</th>\n",
       "      <th>HoldDateTime</th>\n",
       "      <th>HoldReleasedDateTime</th>\n",
       "      <th>HoldReleasedNotifyDate</th>\n",
       "      <th>RemovedFromYardDate</th>\n",
       "      <th>StolenVehicleFlag</th>\n",
       "      <th>Status</th>\n",
       "      <th>ReleaseDateTime</th>\n",
       "      <th>ReleaseType</th>\n",
       "      <th>TotalPaid</th>\n",
       "      <th>VehicleAge</th>\n",
       "    </tr>\n",
       "  </thead>\n",
       "  <tbody>\n",
       "    <tr>\n",
       "      <th>210172</th>\n",
       "      <td>P350570</td>\n",
       "      <td>2017/10/30 18:12:00+00</td>\n",
       "      <td>Accident</td>\n",
       "      <td>Car</td>\n",
       "      <td>NaN</td>\n",
       "      <td>Buick</td>\n",
       "      <td>Lesabra</td>\n",
       "      <td>Green</td>\n",
       "      <td>5CK1930</td>\n",
       "      <td>MD</td>\n",
       "      <td>...</td>\n",
       "      <td>NaN</td>\n",
       "      <td>NaN</td>\n",
       "      <td>NaN</td>\n",
       "      <td>2017/11/15 00:00:00+00</td>\n",
       "      <td>0.0</td>\n",
       "      <td>Released</td>\n",
       "      <td>2017/11/15 10:28:00+00</td>\n",
       "      <td>Reclaimed by Insurer</td>\n",
       "      <td>430.0</td>\n",
       "      <td>NaN</td>\n",
       "    </tr>\n",
       "    <tr>\n",
       "      <th>175151</th>\n",
       "      <td>P315522</td>\n",
       "      <td>2016/04/05 02:10:00+00</td>\n",
       "      <td>Accident</td>\n",
       "      <td>Car</td>\n",
       "      <td>4.0</td>\n",
       "      <td>Toyota</td>\n",
       "      <td>Solara</td>\n",
       "      <td>Black</td>\n",
       "      <td>5CE3050</td>\n",
       "      <td>MD</td>\n",
       "      <td>...</td>\n",
       "      <td>2016/04/06 11:51:00+00</td>\n",
       "      <td>2018/03/06 15:23:00+00</td>\n",
       "      <td>2018/03/06 00:00:00+00</td>\n",
       "      <td>2018/06/06 00:00:00+00</td>\n",
       "      <td>0.0</td>\n",
       "      <td>Auctioned</td>\n",
       "      <td>2018/06/06 08:00:00+00</td>\n",
       "      <td>Auctioned</td>\n",
       "      <td>0.0</td>\n",
       "      <td>17.0</td>\n",
       "    </tr>\n",
       "    <tr>\n",
       "      <th>166534</th>\n",
       "      <td>P306889</td>\n",
       "      <td>2015/11/07 14:55:00+00</td>\n",
       "      <td>Accident (Owner/Operator Hospitalized)</td>\n",
       "      <td>Car</td>\n",
       "      <td>14.0</td>\n",
       "      <td>Ford</td>\n",
       "      <td>Focus Se</td>\n",
       "      <td>Black</td>\n",
       "      <td>7BV5227</td>\n",
       "      <td>MD</td>\n",
       "      <td>...</td>\n",
       "      <td>NaN</td>\n",
       "      <td>NaN</td>\n",
       "      <td>NaN</td>\n",
       "      <td>2015/11/09 00:00:00+00</td>\n",
       "      <td>0.0</td>\n",
       "      <td>Released</td>\n",
       "      <td>2015/11/09 15:07:00+00</td>\n",
       "      <td>Reclaimed by Insurer</td>\n",
       "      <td>220.0</td>\n",
       "      <td>7.0</td>\n",
       "    </tr>\n",
       "    <tr>\n",
       "      <th>122565</th>\n",
       "      <td>P262900</td>\n",
       "      <td>2013/08/22 12:36:00+00</td>\n",
       "      <td>Police Action (Arrest of Operator)</td>\n",
       "      <td>Scooter</td>\n",
       "      <td>10.0</td>\n",
       "      <td>Delray</td>\n",
       "      <td>MD50QT-9</td>\n",
       "      <td>Silver/Blk</td>\n",
       "      <td>NaN</td>\n",
       "      <td>NaN</td>\n",
       "      <td>...</td>\n",
       "      <td>NaN</td>\n",
       "      <td>NaN</td>\n",
       "      <td>NaN</td>\n",
       "      <td>NaN</td>\n",
       "      <td>0.0</td>\n",
       "      <td>NaN</td>\n",
       "      <td>NaN</td>\n",
       "      <td>NaN</td>\n",
       "      <td>0.0</td>\n",
       "      <td>11.0</td>\n",
       "    </tr>\n",
       "    <tr>\n",
       "      <th>242112</th>\n",
       "      <td>P382530</td>\n",
       "      <td>2019/08/04 12:30:00+00</td>\n",
       "      <td>Abandoned (Towed by City)</td>\n",
       "      <td>SUV</td>\n",
       "      <td>11.0</td>\n",
       "      <td>Nissan</td>\n",
       "      <td>Murano</td>\n",
       "      <td>Black</td>\n",
       "      <td>5CZ8383</td>\n",
       "      <td>MD</td>\n",
       "      <td>...</td>\n",
       "      <td>NaN</td>\n",
       "      <td>NaN</td>\n",
       "      <td>NaN</td>\n",
       "      <td>2019/11/06 00:00:00+00</td>\n",
       "      <td>0.0</td>\n",
       "      <td>Auctioned</td>\n",
       "      <td>2019/11/06 08:00:00+00</td>\n",
       "      <td>Auctioned</td>\n",
       "      <td>0.0</td>\n",
       "      <td>10.0</td>\n",
       "    </tr>\n",
       "  </tbody>\n",
       "</table>\n",
       "<p>5 rows × 36 columns</p>\n",
       "</div>"
      ],
      "text/plain": [
       "       PropertyNumber           TowedDateTime  \\\n",
       "210172        P350570  2017/10/30 18:12:00+00   \n",
       "175151        P315522  2016/04/05 02:10:00+00   \n",
       "166534        P306889  2015/11/07 14:55:00+00   \n",
       "122565        P262900  2013/08/22 12:36:00+00   \n",
       "242112        P382530  2019/08/04 12:30:00+00   \n",
       "\n",
       "                                    PickupType VehicleType  VehicleYear  \\\n",
       "210172                                Accident         Car          NaN   \n",
       "175151                                Accident         Car          4.0   \n",
       "166534  Accident (Owner/Operator Hospitalized)         Car         14.0   \n",
       "122565      Police Action (Arrest of Operator)     Scooter         10.0   \n",
       "242112               Abandoned (Towed by City)         SUV         11.0   \n",
       "\n",
       "       VehicleMake VehicleModel VehicleColor TagNumber TagState  ...  \\\n",
       "210172       Buick      Lesabra        Green   5CK1930       MD  ...   \n",
       "175151      Toyota       Solara        Black   5CE3050       MD  ...   \n",
       "166534        Ford     Focus Se        Black   7BV5227       MD  ...   \n",
       "122565      Delray     MD50QT-9   Silver/Blk       NaN      NaN  ...   \n",
       "242112      Nissan       Murano        Black   5CZ8383       MD  ...   \n",
       "\n",
       "                  HoldDateTime    HoldReleasedDateTime  \\\n",
       "210172                     NaN                     NaN   \n",
       "175151  2016/04/06 11:51:00+00  2018/03/06 15:23:00+00   \n",
       "166534                     NaN                     NaN   \n",
       "122565                     NaN                     NaN   \n",
       "242112                     NaN                     NaN   \n",
       "\n",
       "        HoldReleasedNotifyDate     RemovedFromYardDate StolenVehicleFlag  \\\n",
       "210172                     NaN  2017/11/15 00:00:00+00               0.0   \n",
       "175151  2018/03/06 00:00:00+00  2018/06/06 00:00:00+00               0.0   \n",
       "166534                     NaN  2015/11/09 00:00:00+00               0.0   \n",
       "122565                     NaN                     NaN               0.0   \n",
       "242112                     NaN  2019/11/06 00:00:00+00               0.0   \n",
       "\n",
       "           Status         ReleaseDateTime           ReleaseType TotalPaid  \\\n",
       "210172   Released  2017/11/15 10:28:00+00  Reclaimed by Insurer     430.0   \n",
       "175151  Auctioned  2018/06/06 08:00:00+00             Auctioned       0.0   \n",
       "166534   Released  2015/11/09 15:07:00+00  Reclaimed by Insurer     220.0   \n",
       "122565        NaN                     NaN                   NaN       0.0   \n",
       "242112  Auctioned  2019/11/06 08:00:00+00             Auctioned       0.0   \n",
       "\n",
       "       VehicleAge  \n",
       "210172        NaN  \n",
       "175151       17.0  \n",
       "166534        7.0  \n",
       "122565       11.0  \n",
       "242112       10.0  \n",
       "\n",
       "[5 rows x 36 columns]"
      ]
     },
     "execution_count": 5,
     "metadata": {},
     "output_type": "execute_result"
    }
   ],
   "source": [
    "dfDropped.sample(5)"
   ]
  },
  {
   "cell_type": "markdown",
   "metadata": {},
   "source": [
    "## Dealing With Null Values"
   ]
  },
  {
   "cell_type": "code",
   "execution_count": 6,
   "metadata": {},
   "outputs": [
    {
     "data": {
      "text/plain": [
       "253520"
      ]
     },
     "execution_count": 6,
     "metadata": {},
     "output_type": "execute_result"
    }
   ],
   "source": [
    "#finds the total number of columns with null values\n",
    "sum([True for idx,row in dfDropped.iterrows() if any(row.isnull())])"
   ]
  },
  {
   "cell_type": "markdown",
   "metadata": {},
   "source": [
    "Maybe dropping columns with a lot of NaNs will help."
   ]
  },
  {
   "cell_type": "code",
   "execution_count": 7,
   "metadata": {},
   "outputs": [],
   "source": [
    "dfDropped = dfDropped.drop([\"HoldDateTime\",\"HoldReleasedDateTime\",\"HoldReleasedNotifyDate\"],axis=1)"
   ]
  },
  {
   "cell_type": "markdown",
   "metadata": {},
   "source": [
    "For less important catigorical variables a unknown type could be added."
   ]
  },
  {
   "cell_type": "code",
   "execution_count": 8,
   "metadata": {},
   "outputs": [],
   "source": [
    "def addUnknown(thing):\n",
    "    if pd.isna(thing):\n",
    "        return \"Unknown\"\n",
    "    else:\n",
    "        return thing\n",
    "toChange = [\"PickupType\",\"VehicleType\",\"VehicleMake\",\"VehicleModel\",\"VehicleColor\",\"Status\",\"ReleaseType\"]\n",
    "for col in toChange:\n",
    "    dfDropped[col] = dfDropped.apply(lambda x: addUnknown(x[col]),axis=1)"
   ]
  },
  {
   "cell_type": "code",
   "execution_count": 9,
   "metadata": {
    "scrolled": true
   },
   "outputs": [
    {
     "data": {
      "text/html": [
       "<div>\n",
       "<style scoped>\n",
       "    .dataframe tbody tr th:only-of-type {\n",
       "        vertical-align: middle;\n",
       "    }\n",
       "\n",
       "    .dataframe tbody tr th {\n",
       "        vertical-align: top;\n",
       "    }\n",
       "\n",
       "    .dataframe thead th {\n",
       "        text-align: right;\n",
       "    }\n",
       "</style>\n",
       "<table border=\"1\" class=\"dataframe\">\n",
       "  <thead>\n",
       "    <tr style=\"text-align: right;\">\n",
       "      <th></th>\n",
       "      <th>PropertyNumber</th>\n",
       "      <th>TowedDateTime</th>\n",
       "      <th>PickupType</th>\n",
       "      <th>VehicleType</th>\n",
       "      <th>VehicleYear</th>\n",
       "      <th>VehicleMake</th>\n",
       "      <th>VehicleModel</th>\n",
       "      <th>VehicleColor</th>\n",
       "      <th>TagNumber</th>\n",
       "      <th>TagState</th>\n",
       "      <th>...</th>\n",
       "      <th>StorageLocation</th>\n",
       "      <th>StorageTelephone</th>\n",
       "      <th>TitleRenounciation</th>\n",
       "      <th>RemovedFromYardDate</th>\n",
       "      <th>StolenVehicleFlag</th>\n",
       "      <th>Status</th>\n",
       "      <th>ReleaseDateTime</th>\n",
       "      <th>ReleaseType</th>\n",
       "      <th>TotalPaid</th>\n",
       "      <th>VehicleAge</th>\n",
       "    </tr>\n",
       "  </thead>\n",
       "  <tbody>\n",
       "    <tr>\n",
       "      <th>86285</th>\n",
       "      <td>P226600</td>\n",
       "      <td>2011/10/24 02:59:00+00</td>\n",
       "      <td>Stolen Recovered</td>\n",
       "      <td>Van</td>\n",
       "      <td>95.0</td>\n",
       "      <td>Dodge</td>\n",
       "      <td>Caravan</td>\n",
       "      <td>Silver</td>\n",
       "      <td>1AE0141</td>\n",
       "      <td>MD</td>\n",
       "      <td>...</td>\n",
       "      <td>6700 Pulaski Highway Baltimore, Maryland 21237</td>\n",
       "      <td>(410) 396-9958</td>\n",
       "      <td>0.0</td>\n",
       "      <td>2011/10/24 00:00:00+00</td>\n",
       "      <td>1.0</td>\n",
       "      <td>Released</td>\n",
       "      <td>2011/10/24 12:47:00+00</td>\n",
       "      <td>Reclaimed by Owner</td>\n",
       "      <td>140.0</td>\n",
       "      <td>26.0</td>\n",
       "    </tr>\n",
       "    <tr>\n",
       "      <th>107852</th>\n",
       "      <td>P248182</td>\n",
       "      <td>2012/11/21 05:28:00+00</td>\n",
       "      <td>Police Action (Misc.)</td>\n",
       "      <td>Car</td>\n",
       "      <td>8.0</td>\n",
       "      <td>Chevrolet</td>\n",
       "      <td>Cobalt</td>\n",
       "      <td>Grey</td>\n",
       "      <td>HDN9484</td>\n",
       "      <td>PA</td>\n",
       "      <td>...</td>\n",
       "      <td>6700 Pulaski Highway Baltimore, Maryland 21237</td>\n",
       "      <td>(410) 396-9958</td>\n",
       "      <td>0.0</td>\n",
       "      <td>2012/11/23 00:00:00+00</td>\n",
       "      <td>0.0</td>\n",
       "      <td>Released</td>\n",
       "      <td>2012/11/23 11:56:00+00</td>\n",
       "      <td>Reclaimed by Owner</td>\n",
       "      <td>235.0</td>\n",
       "      <td>13.0</td>\n",
       "    </tr>\n",
       "  </tbody>\n",
       "</table>\n",
       "<p>2 rows × 33 columns</p>\n",
       "</div>"
      ],
      "text/plain": [
       "       PropertyNumber           TowedDateTime              PickupType  \\\n",
       "86285         P226600  2011/10/24 02:59:00+00        Stolen Recovered   \n",
       "107852        P248182  2012/11/21 05:28:00+00  Police Action (Misc.)    \n",
       "\n",
       "       VehicleType  VehicleYear VehicleMake VehicleModel VehicleColor  \\\n",
       "86285          Van         95.0       Dodge      Caravan       Silver   \n",
       "107852         Car          8.0   Chevrolet       Cobalt         Grey   \n",
       "\n",
       "       TagNumber TagState  ...  \\\n",
       "86285    1AE0141       MD  ...   \n",
       "107852   HDN9484       PA  ...   \n",
       "\n",
       "                                       StorageLocation  StorageTelephone  \\\n",
       "86285   6700 Pulaski Highway Baltimore, Maryland 21237    (410) 396-9958   \n",
       "107852  6700 Pulaski Highway Baltimore, Maryland 21237    (410) 396-9958   \n",
       "\n",
       "       TitleRenounciation     RemovedFromYardDate StolenVehicleFlag    Status  \\\n",
       "86285                 0.0  2011/10/24 00:00:00+00               1.0  Released   \n",
       "107852                0.0  2012/11/23 00:00:00+00               0.0  Released   \n",
       "\n",
       "               ReleaseDateTime         ReleaseType TotalPaid VehicleAge  \n",
       "86285   2011/10/24 12:47:00+00  Reclaimed by Owner     140.0       26.0  \n",
       "107852  2012/11/23 11:56:00+00  Reclaimed by Owner     235.0       13.0  \n",
       "\n",
       "[2 rows x 33 columns]"
      ]
     },
     "execution_count": 9,
     "metadata": {},
     "output_type": "execute_result"
    }
   ],
   "source": [
    "dfDropped.sample(2)"
   ]
  },
  {
   "cell_type": "code",
   "execution_count": 10,
   "metadata": {},
   "outputs": [],
   "source": [
    "#sum([True for idx,row in dfDropped.iterrows() if any(row.isnull())])"
   ]
  },
  {
   "cell_type": "markdown",
   "metadata": {},
   "source": [
    "Drop The remaining rows with NaN"
   ]
  },
  {
   "cell_type": "code",
   "execution_count": 11,
   "metadata": {},
   "outputs": [],
   "source": [
    "dfDropped = dfDropped.dropna()"
   ]
  },
  {
   "cell_type": "code",
   "execution_count": 12,
   "metadata": {
    "scrolled": false
   },
   "outputs": [
    {
     "data": {
      "text/html": [
       "<div>\n",
       "<style scoped>\n",
       "    .dataframe tbody tr th:only-of-type {\n",
       "        vertical-align: middle;\n",
       "    }\n",
       "\n",
       "    .dataframe tbody tr th {\n",
       "        vertical-align: top;\n",
       "    }\n",
       "\n",
       "    .dataframe thead th {\n",
       "        text-align: right;\n",
       "    }\n",
       "</style>\n",
       "<table border=\"1\" class=\"dataframe\">\n",
       "  <thead>\n",
       "    <tr style=\"text-align: right;\">\n",
       "      <th></th>\n",
       "      <th>PropertyNumber</th>\n",
       "      <th>TowedDateTime</th>\n",
       "      <th>PickupType</th>\n",
       "      <th>VehicleType</th>\n",
       "      <th>VehicleYear</th>\n",
       "      <th>VehicleMake</th>\n",
       "      <th>VehicleModel</th>\n",
       "      <th>VehicleColor</th>\n",
       "      <th>TagNumber</th>\n",
       "      <th>TagState</th>\n",
       "      <th>...</th>\n",
       "      <th>StorageLocation</th>\n",
       "      <th>StorageTelephone</th>\n",
       "      <th>TitleRenounciation</th>\n",
       "      <th>RemovedFromYardDate</th>\n",
       "      <th>StolenVehicleFlag</th>\n",
       "      <th>Status</th>\n",
       "      <th>ReleaseDateTime</th>\n",
       "      <th>ReleaseType</th>\n",
       "      <th>TotalPaid</th>\n",
       "      <th>VehicleAge</th>\n",
       "    </tr>\n",
       "  </thead>\n",
       "  <tbody>\n",
       "    <tr>\n",
       "      <th>78842</th>\n",
       "      <td>P219148</td>\n",
       "      <td>2011/06/13 16:20:00+00</td>\n",
       "      <td>Accident</td>\n",
       "      <td>Car</td>\n",
       "      <td>5.0</td>\n",
       "      <td>Toyota</td>\n",
       "      <td>Corolla</td>\n",
       "      <td>Grey</td>\n",
       "      <td>MLS718</td>\n",
       "      <td>MD</td>\n",
       "      <td>...</td>\n",
       "      <td>6700 Pulaski Highway Baltimore, Maryland 21237</td>\n",
       "      <td>(410) 396-9958</td>\n",
       "      <td>0.0</td>\n",
       "      <td>2011/06/14 00:00:00+00</td>\n",
       "      <td>0.0</td>\n",
       "      <td>Released</td>\n",
       "      <td>2011/06/14 14:12:00+00</td>\n",
       "      <td>Reclaimed by Insurer</td>\n",
       "      <td>220.0</td>\n",
       "      <td>16.0</td>\n",
       "    </tr>\n",
       "    <tr>\n",
       "      <th>104477</th>\n",
       "      <td>P244804</td>\n",
       "      <td>2012/09/21 10:22:00+00</td>\n",
       "      <td>Stolen Recovered</td>\n",
       "      <td>SUV</td>\n",
       "      <td>95.0</td>\n",
       "      <td>Chevrolet</td>\n",
       "      <td>Blazer</td>\n",
       "      <td>Red</td>\n",
       "      <td>A216771</td>\n",
       "      <td>MD</td>\n",
       "      <td>...</td>\n",
       "      <td>6700 Pulaski Highway Baltimore, Maryland 21237</td>\n",
       "      <td>(410) 396-9958</td>\n",
       "      <td>0.0</td>\n",
       "      <td>2012/09/25 00:00:00+00</td>\n",
       "      <td>1.0</td>\n",
       "      <td>Released</td>\n",
       "      <td>2012/09/25 16:37:00+00</td>\n",
       "      <td>Reclaimed by Insurer</td>\n",
       "      <td>140.0</td>\n",
       "      <td>26.0</td>\n",
       "    </tr>\n",
       "    <tr>\n",
       "      <th>67811</th>\n",
       "      <td>P208111</td>\n",
       "      <td>2010/11/18 11:39:00+00</td>\n",
       "      <td>Scofflaw</td>\n",
       "      <td>Car</td>\n",
       "      <td>95.0</td>\n",
       "      <td>Saab</td>\n",
       "      <td>900S</td>\n",
       "      <td>White</td>\n",
       "      <td>YSA7314</td>\n",
       "      <td>NC</td>\n",
       "      <td>...</td>\n",
       "      <td>6700 Pulaski Highway Baltimore, Maryland 21237</td>\n",
       "      <td>(410) 396-9958</td>\n",
       "      <td>0.0</td>\n",
       "      <td>2010/11/18 00:00:00+00</td>\n",
       "      <td>0.0</td>\n",
       "      <td>Released</td>\n",
       "      <td>2010/11/18 16:20:00+00</td>\n",
       "      <td>Reclaimed by Owner</td>\n",
       "      <td>397.0</td>\n",
       "      <td>26.0</td>\n",
       "    </tr>\n",
       "    <tr>\n",
       "      <th>183304</th>\n",
       "      <td>P323694</td>\n",
       "      <td>2016/08/15 02:09:00+00</td>\n",
       "      <td>Accident</td>\n",
       "      <td>SUV</td>\n",
       "      <td>98.0</td>\n",
       "      <td>Ford</td>\n",
       "      <td>Expedition</td>\n",
       "      <td>White</td>\n",
       "      <td>1BT7125</td>\n",
       "      <td>MD</td>\n",
       "      <td>...</td>\n",
       "      <td>6700 Pulaski Highway Baltimore, Maryland 21237</td>\n",
       "      <td>(410) 396-9958</td>\n",
       "      <td>0.0</td>\n",
       "      <td>2016/08/24 00:00:00+00</td>\n",
       "      <td>0.0</td>\n",
       "      <td>Released</td>\n",
       "      <td>2016/08/24 12:56:00+00</td>\n",
       "      <td>Reclaimed by Insurer</td>\n",
       "      <td>340.0</td>\n",
       "      <td>23.0</td>\n",
       "    </tr>\n",
       "    <tr>\n",
       "      <th>180762</th>\n",
       "      <td>P321150</td>\n",
       "      <td>2016/07/03 11:27:00+00</td>\n",
       "      <td>Scofflaw</td>\n",
       "      <td>Car</td>\n",
       "      <td>4.0</td>\n",
       "      <td>Toyota</td>\n",
       "      <td>Solara</td>\n",
       "      <td>White</td>\n",
       "      <td>2BW0150</td>\n",
       "      <td>MD</td>\n",
       "      <td>...</td>\n",
       "      <td>6700 Pulaski Highway Baltimore, Maryland 21237</td>\n",
       "      <td>(410) 396-9958</td>\n",
       "      <td>0.0</td>\n",
       "      <td>2016/07/05 00:00:00+00</td>\n",
       "      <td>0.0</td>\n",
       "      <td>Released</td>\n",
       "      <td>2016/07/05 14:02:00+00</td>\n",
       "      <td>Reclaimed by Owner</td>\n",
       "      <td>788.0</td>\n",
       "      <td>17.0</td>\n",
       "    </tr>\n",
       "    <tr>\n",
       "      <th>91372</th>\n",
       "      <td>P231690</td>\n",
       "      <td>2012/01/30 14:00:00+00</td>\n",
       "      <td>Stolen Recovered</td>\n",
       "      <td>Car</td>\n",
       "      <td>4.0</td>\n",
       "      <td>Mercury</td>\n",
       "      <td>Sable</td>\n",
       "      <td>Burgundy</td>\n",
       "      <td>4AM7686</td>\n",
       "      <td>MD</td>\n",
       "      <td>...</td>\n",
       "      <td>6700 Pulaski Highway Baltimore, Maryland 21237</td>\n",
       "      <td>(410) 396-9958</td>\n",
       "      <td>0.0</td>\n",
       "      <td>2012/02/04 00:00:00+00</td>\n",
       "      <td>1.0</td>\n",
       "      <td>Released</td>\n",
       "      <td>2012/02/04 13:43:00+00</td>\n",
       "      <td>Reclaimed by Owner</td>\n",
       "      <td>130.0</td>\n",
       "      <td>17.0</td>\n",
       "    </tr>\n",
       "    <tr>\n",
       "      <th>142115</th>\n",
       "      <td>P282461</td>\n",
       "      <td>2014/08/22 13:50:00+00</td>\n",
       "      <td>Scofflaw</td>\n",
       "      <td>Car</td>\n",
       "      <td>96.0</td>\n",
       "      <td>Chevrolet</td>\n",
       "      <td>Monte Carlo</td>\n",
       "      <td>Red</td>\n",
       "      <td>2BE5281</td>\n",
       "      <td>MD</td>\n",
       "      <td>...</td>\n",
       "      <td>6700 Pulaski Highway Baltimore, Maryland 21237</td>\n",
       "      <td>(410) 396-9958</td>\n",
       "      <td>0.0</td>\n",
       "      <td>2014/09/16 00:00:00+00</td>\n",
       "      <td>0.0</td>\n",
       "      <td>Released</td>\n",
       "      <td>2014/09/16 15:00:00+00</td>\n",
       "      <td>Reclaimed by Owner</td>\n",
       "      <td>1053.0</td>\n",
       "      <td>25.0</td>\n",
       "    </tr>\n",
       "    <tr>\n",
       "      <th>188923</th>\n",
       "      <td>P329314</td>\n",
       "      <td>2016/11/14 01:50:00+00</td>\n",
       "      <td>Burns</td>\n",
       "      <td>Car</td>\n",
       "      <td>98.0</td>\n",
       "      <td>Honda</td>\n",
       "      <td>Accord</td>\n",
       "      <td>Purple</td>\n",
       "      <td>2BB0101</td>\n",
       "      <td>MD</td>\n",
       "      <td>...</td>\n",
       "      <td>6700 Pulaski Highway Baltimore, Maryland 21237</td>\n",
       "      <td>(410) 396-9958</td>\n",
       "      <td>0.0</td>\n",
       "      <td>2017/04/26 00:00:00+00</td>\n",
       "      <td>0.0</td>\n",
       "      <td>Auctioned</td>\n",
       "      <td>2017/04/26 08:00:00+00</td>\n",
       "      <td>Auctioned</td>\n",
       "      <td>0.0</td>\n",
       "      <td>23.0</td>\n",
       "    </tr>\n",
       "    <tr>\n",
       "      <th>84908</th>\n",
       "      <td>P225216</td>\n",
       "      <td>2011/09/27 17:53:00+00</td>\n",
       "      <td>Abandoned (Towed by City)</td>\n",
       "      <td>Car</td>\n",
       "      <td>95.0</td>\n",
       "      <td>Toyota</td>\n",
       "      <td>Corolla</td>\n",
       "      <td>Green</td>\n",
       "      <td>MAC513</td>\n",
       "      <td>MD</td>\n",
       "      <td>...</td>\n",
       "      <td>6700 Pulaski Highway Baltimore, Maryland 21237</td>\n",
       "      <td>(410) 396-9958</td>\n",
       "      <td>0.0</td>\n",
       "      <td>2011/10/19 00:00:00+00</td>\n",
       "      <td>1.0</td>\n",
       "      <td>Auctioned</td>\n",
       "      <td>2011/10/19 08:00:00+00</td>\n",
       "      <td>Auctioned</td>\n",
       "      <td>0.0</td>\n",
       "      <td>26.0</td>\n",
       "    </tr>\n",
       "    <tr>\n",
       "      <th>109005</th>\n",
       "      <td>P249335</td>\n",
       "      <td>2012/12/12 23:10:00+00</td>\n",
       "      <td>Police Action (Arrest of Operator)</td>\n",
       "      <td>Car</td>\n",
       "      <td>8.0</td>\n",
       "      <td>Nissan</td>\n",
       "      <td>Altima</td>\n",
       "      <td>Black</td>\n",
       "      <td>6FZL21</td>\n",
       "      <td>MD</td>\n",
       "      <td>...</td>\n",
       "      <td>6700 Pulaski Highway Baltimore, Maryland 21237</td>\n",
       "      <td>(410) 396-9958</td>\n",
       "      <td>0.0</td>\n",
       "      <td>2012/12/17 00:00:00+00</td>\n",
       "      <td>0.0</td>\n",
       "      <td>Released</td>\n",
       "      <td>2012/12/17 16:41:00+00</td>\n",
       "      <td>Reclaimed by Owner</td>\n",
       "      <td>465.0</td>\n",
       "      <td>13.0</td>\n",
       "    </tr>\n",
       "  </tbody>\n",
       "</table>\n",
       "<p>10 rows × 33 columns</p>\n",
       "</div>"
      ],
      "text/plain": [
       "       PropertyNumber           TowedDateTime  \\\n",
       "78842         P219148  2011/06/13 16:20:00+00   \n",
       "104477        P244804  2012/09/21 10:22:00+00   \n",
       "67811         P208111  2010/11/18 11:39:00+00   \n",
       "183304        P323694  2016/08/15 02:09:00+00   \n",
       "180762        P321150  2016/07/03 11:27:00+00   \n",
       "91372         P231690  2012/01/30 14:00:00+00   \n",
       "142115        P282461  2014/08/22 13:50:00+00   \n",
       "188923        P329314  2016/11/14 01:50:00+00   \n",
       "84908         P225216  2011/09/27 17:53:00+00   \n",
       "109005        P249335  2012/12/12 23:10:00+00   \n",
       "\n",
       "                                PickupType VehicleType  VehicleYear  \\\n",
       "78842                             Accident         Car          5.0   \n",
       "104477                    Stolen Recovered         SUV         95.0   \n",
       "67811                             Scofflaw         Car         95.0   \n",
       "183304                            Accident         SUV         98.0   \n",
       "180762                            Scofflaw         Car          4.0   \n",
       "91372                     Stolen Recovered         Car          4.0   \n",
       "142115                            Scofflaw         Car         96.0   \n",
       "188923                               Burns         Car         98.0   \n",
       "84908            Abandoned (Towed by City)         Car         95.0   \n",
       "109005  Police Action (Arrest of Operator)         Car          8.0   \n",
       "\n",
       "       VehicleMake VehicleModel VehicleColor TagNumber TagState  ...  \\\n",
       "78842       Toyota      Corolla         Grey    MLS718       MD  ...   \n",
       "104477   Chevrolet       Blazer          Red   A216771       MD  ...   \n",
       "67811         Saab         900S        White   YSA7314       NC  ...   \n",
       "183304        Ford   Expedition        White   1BT7125       MD  ...   \n",
       "180762      Toyota       Solara        White   2BW0150       MD  ...   \n",
       "91372      Mercury        Sable     Burgundy   4AM7686       MD  ...   \n",
       "142115   Chevrolet  Monte Carlo          Red   2BE5281       MD  ...   \n",
       "188923       Honda       Accord       Purple   2BB0101       MD  ...   \n",
       "84908       Toyota      Corolla        Green    MAC513       MD  ...   \n",
       "109005      Nissan       Altima        Black    6FZL21       MD  ...   \n",
       "\n",
       "                                       StorageLocation  StorageTelephone  \\\n",
       "78842   6700 Pulaski Highway Baltimore, Maryland 21237    (410) 396-9958   \n",
       "104477  6700 Pulaski Highway Baltimore, Maryland 21237    (410) 396-9958   \n",
       "67811   6700 Pulaski Highway Baltimore, Maryland 21237    (410) 396-9958   \n",
       "183304  6700 Pulaski Highway Baltimore, Maryland 21237    (410) 396-9958   \n",
       "180762  6700 Pulaski Highway Baltimore, Maryland 21237    (410) 396-9958   \n",
       "91372   6700 Pulaski Highway Baltimore, Maryland 21237    (410) 396-9958   \n",
       "142115  6700 Pulaski Highway Baltimore, Maryland 21237    (410) 396-9958   \n",
       "188923  6700 Pulaski Highway Baltimore, Maryland 21237    (410) 396-9958   \n",
       "84908   6700 Pulaski Highway Baltimore, Maryland 21237    (410) 396-9958   \n",
       "109005  6700 Pulaski Highway Baltimore, Maryland 21237    (410) 396-9958   \n",
       "\n",
       "       TitleRenounciation     RemovedFromYardDate StolenVehicleFlag  \\\n",
       "78842                 0.0  2011/06/14 00:00:00+00               0.0   \n",
       "104477                0.0  2012/09/25 00:00:00+00               1.0   \n",
       "67811                 0.0  2010/11/18 00:00:00+00               0.0   \n",
       "183304                0.0  2016/08/24 00:00:00+00               0.0   \n",
       "180762                0.0  2016/07/05 00:00:00+00               0.0   \n",
       "91372                 0.0  2012/02/04 00:00:00+00               1.0   \n",
       "142115                0.0  2014/09/16 00:00:00+00               0.0   \n",
       "188923                0.0  2017/04/26 00:00:00+00               0.0   \n",
       "84908                 0.0  2011/10/19 00:00:00+00               1.0   \n",
       "109005                0.0  2012/12/17 00:00:00+00               0.0   \n",
       "\n",
       "           Status         ReleaseDateTime           ReleaseType TotalPaid  \\\n",
       "78842    Released  2011/06/14 14:12:00+00  Reclaimed by Insurer     220.0   \n",
       "104477   Released  2012/09/25 16:37:00+00  Reclaimed by Insurer     140.0   \n",
       "67811    Released  2010/11/18 16:20:00+00    Reclaimed by Owner     397.0   \n",
       "183304   Released  2016/08/24 12:56:00+00  Reclaimed by Insurer     340.0   \n",
       "180762   Released  2016/07/05 14:02:00+00    Reclaimed by Owner     788.0   \n",
       "91372    Released  2012/02/04 13:43:00+00    Reclaimed by Owner     130.0   \n",
       "142115   Released  2014/09/16 15:00:00+00    Reclaimed by Owner    1053.0   \n",
       "188923  Auctioned  2017/04/26 08:00:00+00             Auctioned       0.0   \n",
       "84908   Auctioned  2011/10/19 08:00:00+00             Auctioned       0.0   \n",
       "109005   Released  2012/12/17 16:41:00+00    Reclaimed by Owner     465.0   \n",
       "\n",
       "       VehicleAge  \n",
       "78842        16.0  \n",
       "104477       26.0  \n",
       "67811        26.0  \n",
       "183304       23.0  \n",
       "180762       17.0  \n",
       "91372        17.0  \n",
       "142115       25.0  \n",
       "188923       23.0  \n",
       "84908        26.0  \n",
       "109005       13.0  \n",
       "\n",
       "[10 rows x 33 columns]"
      ]
     },
     "execution_count": 12,
     "metadata": {},
     "output_type": "execute_result"
    }
   ],
   "source": [
    "dfDropped.sample(10)"
   ]
  },
  {
   "cell_type": "markdown",
   "metadata": {},
   "source": [
    "## Dealing With Time"
   ]
  },
  {
   "cell_type": "code",
   "execution_count": 13,
   "metadata": {},
   "outputs": [],
   "source": [
    "from datetime import datetime, timedelta"
   ]
  },
  {
   "cell_type": "code",
   "execution_count": 14,
   "metadata": {},
   "outputs": [],
   "source": [
    "dfDropped[\"ReceivingDateTime\"] = pd.to_datetime(dfDropped[\"ReceivingDateTime\"], format='%Y/%m/%d %H:%M')\n",
    "dfDropped[\"ReleaseDateTime\"] = pd.to_datetime(dfDropped[\"ReleaseDateTime\"], format='%Y/%m/%d %H:%M')"
   ]
  },
  {
   "cell_type": "code",
   "execution_count": 15,
   "metadata": {},
   "outputs": [
    {
     "data": {
      "text/plain": [
       "Timestamp('2014-02-25 19:53:00.106125568+0000', tz='UTC')"
      ]
     },
     "execution_count": 15,
     "metadata": {},
     "output_type": "execute_result"
    }
   ],
   "source": [
    "dfDropped[\"ReceivingDateTime\"].mean()\n",
    "dfDropped[\"ReleaseDateTime\"].mean()"
   ]
  },
  {
   "cell_type": "code",
   "execution_count": 16,
   "metadata": {},
   "outputs": [
    {
     "data": {
      "text/plain": [
       "Timedelta('29 days 05:04:11.337517')"
      ]
     },
     "execution_count": 16,
     "metadata": {},
     "output_type": "execute_result"
    }
   ],
   "source": [
    "#Calculate The Amount of Time from Tow to Release:\n",
    "dfDropped[\"ReceivedToRelease\"] = dfDropped[\"ReleaseDateTime\"]-dfDropped[\"ReceivingDateTime\"]\n",
    "dfDropped[\"ReceivedToRelease\"].mean()"
   ]
  },
  {
   "cell_type": "code",
   "execution_count": 17,
   "metadata": {},
   "outputs": [],
   "source": [
    "def calculate_days(time):\n",
    "    if time.days >= 0:\n",
    "        return time.days\n",
    "    else:\n",
    "        return 0\n",
    "\n",
    "dfDropped['DaysTillReleased'] = dfDropped['ReceivedToRelease'].apply(lambda x: calculate_days(x))"
   ]
  },
  {
   "cell_type": "code",
   "execution_count": null,
   "metadata": {},
   "outputs": [],
   "source": []
  },
  {
   "cell_type": "markdown",
   "metadata": {},
   "source": [
    "## Detecting Outliers"
   ]
  },
  {
   "cell_type": "code",
   "execution_count": 18,
   "metadata": {},
   "outputs": [
    {
     "data": {
      "text/html": [
       "<div>\n",
       "<style scoped>\n",
       "    .dataframe tbody tr th:only-of-type {\n",
       "        vertical-align: middle;\n",
       "    }\n",
       "\n",
       "    .dataframe tbody tr th {\n",
       "        vertical-align: top;\n",
       "    }\n",
       "\n",
       "    .dataframe thead th {\n",
       "        text-align: right;\n",
       "    }\n",
       "</style>\n",
       "<table border=\"1\" class=\"dataframe\">\n",
       "  <thead>\n",
       "    <tr style=\"text-align: right;\">\n",
       "      <th></th>\n",
       "      <th>VehicleYear</th>\n",
       "      <th>TowCharge</th>\n",
       "      <th>TitleRenounciation</th>\n",
       "      <th>StolenVehicleFlag</th>\n",
       "      <th>TotalPaid</th>\n",
       "      <th>VehicleAge</th>\n",
       "      <th>ReceivedToRelease</th>\n",
       "      <th>DaysTillReleased</th>\n",
       "    </tr>\n",
       "  </thead>\n",
       "  <tbody>\n",
       "    <tr>\n",
       "      <th>count</th>\n",
       "      <td>122690.000000</td>\n",
       "      <td>122690.000000</td>\n",
       "      <td>122690.000000</td>\n",
       "      <td>122690.000000</td>\n",
       "      <td>122690.000000</td>\n",
       "      <td>122690.000000</td>\n",
       "      <td>122690</td>\n",
       "      <td>122690.000000</td>\n",
       "    </tr>\n",
       "    <tr>\n",
       "      <th>mean</th>\n",
       "      <td>29.802967</td>\n",
       "      <td>137.288849</td>\n",
       "      <td>0.004988</td>\n",
       "      <td>0.163159</td>\n",
       "      <td>284.452843</td>\n",
       "      <td>17.925373</td>\n",
       "      <td>29 days 05:04:11.337517</td>\n",
       "      <td>28.716024</td>\n",
       "    </tr>\n",
       "    <tr>\n",
       "      <th>std</th>\n",
       "      <td>40.108429</td>\n",
       "      <td>400.711692</td>\n",
       "      <td>0.070451</td>\n",
       "      <td>0.369512</td>\n",
       "      <td>272.789797</td>\n",
       "      <td>6.049497</td>\n",
       "      <td>102 days 07:26:34.652642</td>\n",
       "      <td>101.754406</td>\n",
       "    </tr>\n",
       "    <tr>\n",
       "      <th>min</th>\n",
       "      <td>0.000000</td>\n",
       "      <td>0.000000</td>\n",
       "      <td>0.000000</td>\n",
       "      <td>0.000000</td>\n",
       "      <td>0.000000</td>\n",
       "      <td>1.000000</td>\n",
       "      <td>-3593 days +21:45:00</td>\n",
       "      <td>0.000000</td>\n",
       "    </tr>\n",
       "    <tr>\n",
       "      <th>25%</th>\n",
       "      <td>3.000000</td>\n",
       "      <td>130.000000</td>\n",
       "      <td>0.000000</td>\n",
       "      <td>0.000000</td>\n",
       "      <td>140.000000</td>\n",
       "      <td>14.000000</td>\n",
       "      <td>1 days 16:15:00</td>\n",
       "      <td>1.000000</td>\n",
       "    </tr>\n",
       "    <tr>\n",
       "      <th>50%</th>\n",
       "      <td>7.000000</td>\n",
       "      <td>130.000000</td>\n",
       "      <td>0.000000</td>\n",
       "      <td>0.000000</td>\n",
       "      <td>235.000000</td>\n",
       "      <td>18.000000</td>\n",
       "      <td>4 days 17:04:00</td>\n",
       "      <td>4.000000</td>\n",
       "    </tr>\n",
       "    <tr>\n",
       "      <th>75%</th>\n",
       "      <td>90.000000</td>\n",
       "      <td>130.000000</td>\n",
       "      <td>0.000000</td>\n",
       "      <td>0.000000</td>\n",
       "      <td>326.000000</td>\n",
       "      <td>22.000000</td>\n",
       "      <td>21 days 00:00:30</td>\n",
       "      <td>20.750000</td>\n",
       "    </tr>\n",
       "    <tr>\n",
       "      <th>max</th>\n",
       "      <td>99.000000</td>\n",
       "      <td>140000.000000</td>\n",
       "      <td>1.000000</td>\n",
       "      <td>1.000000</td>\n",
       "      <td>6794.000000</td>\n",
       "      <td>94.000000</td>\n",
       "      <td>3063 days 23:08:00</td>\n",
       "      <td>3063.000000</td>\n",
       "    </tr>\n",
       "  </tbody>\n",
       "</table>\n",
       "</div>"
      ],
      "text/plain": [
       "         VehicleYear      TowCharge  TitleRenounciation  StolenVehicleFlag  \\\n",
       "count  122690.000000  122690.000000       122690.000000      122690.000000   \n",
       "mean       29.802967     137.288849            0.004988           0.163159   \n",
       "std        40.108429     400.711692            0.070451           0.369512   \n",
       "min         0.000000       0.000000            0.000000           0.000000   \n",
       "25%         3.000000     130.000000            0.000000           0.000000   \n",
       "50%         7.000000     130.000000            0.000000           0.000000   \n",
       "75%        90.000000     130.000000            0.000000           0.000000   \n",
       "max        99.000000  140000.000000            1.000000           1.000000   \n",
       "\n",
       "           TotalPaid     VehicleAge         ReceivedToRelease  \\\n",
       "count  122690.000000  122690.000000                    122690   \n",
       "mean      284.452843      17.925373   29 days 05:04:11.337517   \n",
       "std       272.789797       6.049497  102 days 07:26:34.652642   \n",
       "min         0.000000       1.000000      -3593 days +21:45:00   \n",
       "25%       140.000000      14.000000           1 days 16:15:00   \n",
       "50%       235.000000      18.000000           4 days 17:04:00   \n",
       "75%       326.000000      22.000000          21 days 00:00:30   \n",
       "max      6794.000000      94.000000        3063 days 23:08:00   \n",
       "\n",
       "       DaysTillReleased  \n",
       "count     122690.000000  \n",
       "mean          28.716024  \n",
       "std          101.754406  \n",
       "min            0.000000  \n",
       "25%            1.000000  \n",
       "50%            4.000000  \n",
       "75%           20.750000  \n",
       "max         3063.000000  "
      ]
     },
     "execution_count": 18,
     "metadata": {},
     "output_type": "execute_result"
    }
   ],
   "source": [
    "dfDropped.describe()"
   ]
  },
  {
   "cell_type": "code",
   "execution_count": 19,
   "metadata": {},
   "outputs": [
    {
     "data": {
      "image/png": "[encoded data removed]",
      "text/plain": [
       "<Figure size 432x288 with 1 Axes>"
      ]
     },
     "metadata": {
      "needs_background": "light"
     },
     "output_type": "display_data"
    }
   ],
   "source": [
    "#Detecting outliers among the TowCharge column\n",
    "\n",
    "boxplot1 = sns.boxplot(x=dfDropped[\"TowCharge\"])"
   ]
  },
  {
   "cell_type": "code",
   "execution_count": 20,
   "metadata": {},
   "outputs": [
    {
     "name": "stdout",
     "output_type": "stream",
     "text": [
      "28704\n"
     ]
    },
    {
     "data": {
      "text/html": [
       "<div>\n",
       "<style scoped>\n",
       "    .dataframe tbody tr th:only-of-type {\n",
       "        vertical-align: middle;\n",
       "    }\n",
       "\n",
       "    .dataframe tbody tr th {\n",
       "        vertical-align: top;\n",
       "    }\n",
       "\n",
       "    .dataframe thead th {\n",
       "        text-align: right;\n",
       "    }\n",
       "</style>\n",
       "<table border=\"1\" class=\"dataframe\">\n",
       "  <thead>\n",
       "    <tr style=\"text-align: right;\">\n",
       "      <th></th>\n",
       "      <th>PropertyNumber</th>\n",
       "      <th>TowedDateTime</th>\n",
       "      <th>PickupType</th>\n",
       "      <th>VehicleType</th>\n",
       "      <th>VehicleYear</th>\n",
       "      <th>VehicleMake</th>\n",
       "      <th>VehicleModel</th>\n",
       "      <th>VehicleColor</th>\n",
       "      <th>TagNumber</th>\n",
       "      <th>TagState</th>\n",
       "      <th>...</th>\n",
       "      <th>TitleRenounciation</th>\n",
       "      <th>RemovedFromYardDate</th>\n",
       "      <th>StolenVehicleFlag</th>\n",
       "      <th>Status</th>\n",
       "      <th>ReleaseDateTime</th>\n",
       "      <th>ReleaseType</th>\n",
       "      <th>TotalPaid</th>\n",
       "      <th>VehicleAge</th>\n",
       "      <th>ReceivedToRelease</th>\n",
       "      <th>DaysTillReleased</th>\n",
       "    </tr>\n",
       "  </thead>\n",
       "  <tbody>\n",
       "    <tr>\n",
       "      <th>70283</th>\n",
       "      <td>P210584</td>\n",
       "      <td>2011/01/08 21:19:00+00</td>\n",
       "      <td>Accident</td>\n",
       "      <td>SUV</td>\n",
       "      <td>2.0</td>\n",
       "      <td>Jeep</td>\n",
       "      <td>Liberty</td>\n",
       "      <td>White</td>\n",
       "      <td>3MD9309</td>\n",
       "      <td>MD</td>\n",
       "      <td>...</td>\n",
       "      <td>0.0</td>\n",
       "      <td>2011/01/10 00:00:00+00</td>\n",
       "      <td>0.0</td>\n",
       "      <td>Released</td>\n",
       "      <td>2011-01-10 10:11:00+00:00</td>\n",
       "      <td>Reclaimed by Owner</td>\n",
       "      <td>305.0</td>\n",
       "      <td>19.0</td>\n",
       "      <td>1 days 12:52:00</td>\n",
       "      <td>1</td>\n",
       "    </tr>\n",
       "    <tr>\n",
       "      <th>90524</th>\n",
       "      <td>P230842</td>\n",
       "      <td>2012/01/14 18:46:00+00</td>\n",
       "      <td>Police Action (Arrest of Operator)</td>\n",
       "      <td>SUV</td>\n",
       "      <td>10.0</td>\n",
       "      <td>Landrover</td>\n",
       "      <td>Unknown</td>\n",
       "      <td>Black</td>\n",
       "      <td>3AA8383</td>\n",
       "      <td>MD</td>\n",
       "      <td>...</td>\n",
       "      <td>0.0</td>\n",
       "      <td>2012/01/17 00:00:00+00</td>\n",
       "      <td>0.0</td>\n",
       "      <td>Released</td>\n",
       "      <td>2012-01-17 10:02:00+00:00</td>\n",
       "      <td>Reclaimed by Owner</td>\n",
       "      <td>245.0</td>\n",
       "      <td>11.0</td>\n",
       "      <td>2 days 15:16:00</td>\n",
       "      <td>2</td>\n",
       "    </tr>\n",
       "    <tr>\n",
       "      <th>73416</th>\n",
       "      <td>P213719</td>\n",
       "      <td>2011/03/12 04:45:00+00</td>\n",
       "      <td>Police Action (Arrest of Operator)</td>\n",
       "      <td>Car</td>\n",
       "      <td>5.0</td>\n",
       "      <td>Acura</td>\n",
       "      <td>Rl</td>\n",
       "      <td>Gray</td>\n",
       "      <td>1FVZ70</td>\n",
       "      <td>MD</td>\n",
       "      <td>...</td>\n",
       "      <td>0.0</td>\n",
       "      <td>2011/03/12 00:00:00+00</td>\n",
       "      <td>0.0</td>\n",
       "      <td>Released</td>\n",
       "      <td>2011-03-12 15:21:00+00:00</td>\n",
       "      <td>Reclaimed by Owner</td>\n",
       "      <td>230.0</td>\n",
       "      <td>16.0</td>\n",
       "      <td>0 days 10:36:00</td>\n",
       "      <td>0</td>\n",
       "    </tr>\n",
       "    <tr>\n",
       "      <th>145620</th>\n",
       "      <td>P285967</td>\n",
       "      <td>2014/10/25 07:10:00+00</td>\n",
       "      <td>Burns</td>\n",
       "      <td>Car</td>\n",
       "      <td>12.0</td>\n",
       "      <td>Nissan</td>\n",
       "      <td>Maxima</td>\n",
       "      <td>Gray</td>\n",
       "      <td>5AS1763</td>\n",
       "      <td>MD</td>\n",
       "      <td>...</td>\n",
       "      <td>0.0</td>\n",
       "      <td>2014/12/16 00:00:00+00</td>\n",
       "      <td>1.0</td>\n",
       "      <td>Released</td>\n",
       "      <td>2014-12-16 13:12:00+00:00</td>\n",
       "      <td>Reclaimed by Insurer</td>\n",
       "      <td>310.0</td>\n",
       "      <td>9.0</td>\n",
       "      <td>52 days 06:02:00</td>\n",
       "      <td>52</td>\n",
       "    </tr>\n",
       "    <tr>\n",
       "      <th>95808</th>\n",
       "      <td>P236130</td>\n",
       "      <td>2012/04/21 05:44:00+00</td>\n",
       "      <td>ACCIDENT</td>\n",
       "      <td>Car</td>\n",
       "      <td>5.0</td>\n",
       "      <td>Audi</td>\n",
       "      <td>A8</td>\n",
       "      <td>Black</td>\n",
       "      <td>5ABG88</td>\n",
       "      <td>MD</td>\n",
       "      <td>...</td>\n",
       "      <td>0.0</td>\n",
       "      <td>2012/04/25 00:00:00+00</td>\n",
       "      <td>0.0</td>\n",
       "      <td>Released</td>\n",
       "      <td>2012-04-25 15:23:00+00:00</td>\n",
       "      <td>Reclaimed by Insurer</td>\n",
       "      <td>245.0</td>\n",
       "      <td>16.0</td>\n",
       "      <td>4 days 09:39:00</td>\n",
       "      <td>4</td>\n",
       "    </tr>\n",
       "  </tbody>\n",
       "</table>\n",
       "<p>5 rows × 35 columns</p>\n",
       "</div>"
      ],
      "text/plain": [
       "       PropertyNumber           TowedDateTime  \\\n",
       "70283         P210584  2011/01/08 21:19:00+00   \n",
       "90524         P230842  2012/01/14 18:46:00+00   \n",
       "73416         P213719  2011/03/12 04:45:00+00   \n",
       "145620        P285967  2014/10/25 07:10:00+00   \n",
       "95808         P236130  2012/04/21 05:44:00+00   \n",
       "\n",
       "                                PickupType VehicleType  VehicleYear  \\\n",
       "70283                             Accident         SUV          2.0   \n",
       "90524   Police Action (Arrest of Operator)         SUV         10.0   \n",
       "73416   Police Action (Arrest of Operator)         Car          5.0   \n",
       "145620                               Burns         Car         12.0   \n",
       "95808                            ACCIDENT          Car          5.0   \n",
       "\n",
       "       VehicleMake VehicleModel VehicleColor TagNumber TagState  ...  \\\n",
       "70283         Jeep      Liberty        White   3MD9309       MD  ...   \n",
       "90524    Landrover      Unknown        Black   3AA8383       MD  ...   \n",
       "73416        Acura           Rl         Gray    1FVZ70       MD  ...   \n",
       "145620      Nissan       Maxima         Gray   5AS1763       MD  ...   \n",
       "95808         Audi           A8        Black    5ABG88       MD  ...   \n",
       "\n",
       "       TitleRenounciation     RemovedFromYardDate StolenVehicleFlag    Status  \\\n",
       "70283                 0.0  2011/01/10 00:00:00+00               0.0  Released   \n",
       "90524                 0.0  2012/01/17 00:00:00+00               0.0  Released   \n",
       "73416                 0.0  2011/03/12 00:00:00+00               0.0  Released   \n",
       "145620                0.0  2014/12/16 00:00:00+00               1.0  Released   \n",
       "95808                 0.0  2012/04/25 00:00:00+00               0.0  Released   \n",
       "\n",
       "                 ReleaseDateTime           ReleaseType TotalPaid VehicleAge  \\\n",
       "70283  2011-01-10 10:11:00+00:00    Reclaimed by Owner     305.0       19.0   \n",
       "90524  2012-01-17 10:02:00+00:00    Reclaimed by Owner     245.0       11.0   \n",
       "73416  2011-03-12 15:21:00+00:00    Reclaimed by Owner     230.0       16.0   \n",
       "145620 2014-12-16 13:12:00+00:00  Reclaimed by Insurer     310.0        9.0   \n",
       "95808  2012-04-25 15:23:00+00:00  Reclaimed by Insurer     245.0       16.0   \n",
       "\n",
       "       ReceivedToRelease DaysTillReleased  \n",
       "70283    1 days 12:52:00                1  \n",
       "90524    2 days 15:16:00                2  \n",
       "73416    0 days 10:36:00                0  \n",
       "145620  52 days 06:02:00               52  \n",
       "95808    4 days 09:39:00                4  \n",
       "\n",
       "[5 rows x 35 columns]"
      ]
     },
     "execution_count": 20,
     "metadata": {},
     "output_type": "execute_result"
    }
   ],
   "source": [
    "# Calculate the first quantile\n",
    "first_quantile = dfDropped['TowCharge'].quantile(0.25)\n",
    "\n",
    "# Calculate the first quantile\n",
    "third_quantile = dfDropped['TowCharge'].quantile(0.75)\n",
    "\n",
    "# Calculate the interquantile range (IQR)\n",
    "IQR = third_quantile - first_quantile\n",
    "\n",
    "#prints df with all the outliers\n",
    "TowChargeOut = pd.concat([dfDropped[dfDropped['TowCharge']<first_quantile-1.5*IQR],\n",
    "dfDropped[dfDropped['TowCharge']>third_quantile+1.5*IQR]])\n",
    "\n",
    "print(len(TowChargeOut))\n",
    "TowChargeOut.sample(5)"
   ]
  },
  {
   "cell_type": "code",
   "execution_count": 21,
   "metadata": {},
   "outputs": [
    {
     "data": {
      "image/png": "[encoded data removed]",
      "text/plain": [
       "<Figure size 432x288 with 1 Axes>"
      ]
     },
     "metadata": {
      "needs_background": "light"
     },
     "output_type": "display_data"
    }
   ],
   "source": [
    "#Detecting outliers among the TotalPaid column\n",
    "boxplot2 = sns.boxplot(x=df[\"TotalPaid\"])"
   ]
  },
  {
   "cell_type": "code",
   "execution_count": 22,
   "metadata": {},
   "outputs": [
    {
     "name": "stdout",
     "output_type": "stream",
     "text": [
      "10729\n"
     ]
    },
    {
     "data": {
      "text/html": [
       "<div>\n",
       "<style scoped>\n",
       "    .dataframe tbody tr th:only-of-type {\n",
       "        vertical-align: middle;\n",
       "    }\n",
       "\n",
       "    .dataframe tbody tr th {\n",
       "        vertical-align: top;\n",
       "    }\n",
       "\n",
       "    .dataframe thead th {\n",
       "        text-align: right;\n",
       "    }\n",
       "</style>\n",
       "<table border=\"1\" class=\"dataframe\">\n",
       "  <thead>\n",
       "    <tr style=\"text-align: right;\">\n",
       "      <th></th>\n",
       "      <th>PropertyNumber</th>\n",
       "      <th>TowedDateTime</th>\n",
       "      <th>PickupType</th>\n",
       "      <th>VehicleType</th>\n",
       "      <th>VehicleYear</th>\n",
       "      <th>VehicleMake</th>\n",
       "      <th>VehicleModel</th>\n",
       "      <th>VehicleColor</th>\n",
       "      <th>TagNumber</th>\n",
       "      <th>TagState</th>\n",
       "      <th>...</th>\n",
       "      <th>TitleRenounciation</th>\n",
       "      <th>RemovedFromYardDate</th>\n",
       "      <th>StolenVehicleFlag</th>\n",
       "      <th>Status</th>\n",
       "      <th>ReleaseDateTime</th>\n",
       "      <th>ReleaseType</th>\n",
       "      <th>TotalPaid</th>\n",
       "      <th>VehicleAge</th>\n",
       "      <th>ReceivedToRelease</th>\n",
       "      <th>DaysTillReleased</th>\n",
       "    </tr>\n",
       "  </thead>\n",
       "  <tbody>\n",
       "    <tr>\n",
       "      <th>135236</th>\n",
       "      <td>P275578</td>\n",
       "      <td>2014/04/20 01:45:00+00</td>\n",
       "      <td>Burns</td>\n",
       "      <td>Car</td>\n",
       "      <td>7.0</td>\n",
       "      <td>Acura</td>\n",
       "      <td>Mdx</td>\n",
       "      <td>Silver</td>\n",
       "      <td>4BA7984</td>\n",
       "      <td>MD</td>\n",
       "      <td>...</td>\n",
       "      <td>0.0</td>\n",
       "      <td>2015/09/18 00:00:00+00</td>\n",
       "      <td>0.0</td>\n",
       "      <td>Released</td>\n",
       "      <td>2015-09-18 09:25:00+00:00</td>\n",
       "      <td>Reclaimed by Insurer</td>\n",
       "      <td>716.0</td>\n",
       "      <td>14.0</td>\n",
       "      <td>516 days 07:40:00</td>\n",
       "      <td>516</td>\n",
       "    </tr>\n",
       "    <tr>\n",
       "      <th>61471</th>\n",
       "      <td>P201767</td>\n",
       "      <td>2010/07/23 14:40:00+00</td>\n",
       "      <td>Scofflaw</td>\n",
       "      <td>SUV</td>\n",
       "      <td>3.0</td>\n",
       "      <td>Land Rover</td>\n",
       "      <td>Range Rover</td>\n",
       "      <td>Black</td>\n",
       "      <td>47617M7</td>\n",
       "      <td>MD</td>\n",
       "      <td>...</td>\n",
       "      <td>0.0</td>\n",
       "      <td>2010/07/26 00:00:00+00</td>\n",
       "      <td>0.0</td>\n",
       "      <td>Released</td>\n",
       "      <td>2010-07-26 14:53:00+00:00</td>\n",
       "      <td>Reclaimed by Owner</td>\n",
       "      <td>694.0</td>\n",
       "      <td>18.0</td>\n",
       "      <td>3 days 00:13:00</td>\n",
       "      <td>3</td>\n",
       "    </tr>\n",
       "    <tr>\n",
       "      <th>61193</th>\n",
       "      <td>P201489</td>\n",
       "      <td>2010/07/18 14:39:00+00</td>\n",
       "      <td>Scofflaw</td>\n",
       "      <td>Car</td>\n",
       "      <td>95.0</td>\n",
       "      <td>Volkswagen</td>\n",
       "      <td>Jetta</td>\n",
       "      <td>Burgundy</td>\n",
       "      <td>4CMF46</td>\n",
       "      <td>MD</td>\n",
       "      <td>...</td>\n",
       "      <td>0.0</td>\n",
       "      <td>2010/07/20 00:00:00+00</td>\n",
       "      <td>0.0</td>\n",
       "      <td>Released</td>\n",
       "      <td>2010-07-20 17:01:00+00:00</td>\n",
       "      <td>Reclaimed by Owner</td>\n",
       "      <td>740.0</td>\n",
       "      <td>26.0</td>\n",
       "      <td>2 days 02:22:00</td>\n",
       "      <td>2</td>\n",
       "    </tr>\n",
       "    <tr>\n",
       "      <th>149864</th>\n",
       "      <td>P290214</td>\n",
       "      <td>2015/01/17 01:09:00+00</td>\n",
       "      <td>Police Action (Misc.)</td>\n",
       "      <td>Car</td>\n",
       "      <td>13.0</td>\n",
       "      <td>Nissan</td>\n",
       "      <td>Altima</td>\n",
       "      <td>Red</td>\n",
       "      <td>987YZU</td>\n",
       "      <td>CO</td>\n",
       "      <td>...</td>\n",
       "      <td>0.0</td>\n",
       "      <td>2015/01/22 00:00:00+00</td>\n",
       "      <td>0.0</td>\n",
       "      <td>Released</td>\n",
       "      <td>2015-01-22 12:25:00+00:00</td>\n",
       "      <td>Reclaimed by Owner</td>\n",
       "      <td>767.0</td>\n",
       "      <td>8.0</td>\n",
       "      <td>5 days 11:16:00</td>\n",
       "      <td>5</td>\n",
       "    </tr>\n",
       "    <tr>\n",
       "      <th>108764</th>\n",
       "      <td>P249094</td>\n",
       "      <td>2012/12/08 10:32:00+00</td>\n",
       "      <td>Police Action (Misc.)</td>\n",
       "      <td>SUV</td>\n",
       "      <td>5.0</td>\n",
       "      <td>Kia</td>\n",
       "      <td>Sorento</td>\n",
       "      <td>Burgundy</td>\n",
       "      <td>5MD0620</td>\n",
       "      <td>MD</td>\n",
       "      <td>...</td>\n",
       "      <td>0.0</td>\n",
       "      <td>2012/12/19 00:00:00+00</td>\n",
       "      <td>0.0</td>\n",
       "      <td>Released</td>\n",
       "      <td>2012-12-19 09:23:00+00:00</td>\n",
       "      <td>Reclaimed by Owner</td>\n",
       "      <td>2030.0</td>\n",
       "      <td>16.0</td>\n",
       "      <td>10 days 22:51:00</td>\n",
       "      <td>10</td>\n",
       "    </tr>\n",
       "  </tbody>\n",
       "</table>\n",
       "<p>5 rows × 35 columns</p>\n",
       "</div>"
      ],
      "text/plain": [
       "       PropertyNumber           TowedDateTime              PickupType  \\\n",
       "135236        P275578  2014/04/20 01:45:00+00                   Burns   \n",
       "61471         P201767  2010/07/23 14:40:00+00                Scofflaw   \n",
       "61193         P201489  2010/07/18 14:39:00+00                Scofflaw   \n",
       "149864        P290214  2015/01/17 01:09:00+00  Police Action (Misc.)    \n",
       "108764        P249094  2012/12/08 10:32:00+00  Police Action (Misc.)    \n",
       "\n",
       "       VehicleType  VehicleYear VehicleMake VehicleModel VehicleColor  \\\n",
       "135236         Car          7.0       Acura          Mdx       Silver   \n",
       "61471          SUV          3.0  Land Rover  Range Rover        Black   \n",
       "61193          Car         95.0  Volkswagen        Jetta     Burgundy   \n",
       "149864         Car         13.0      Nissan       Altima          Red   \n",
       "108764         SUV          5.0         Kia      Sorento     Burgundy   \n",
       "\n",
       "       TagNumber TagState  ... TitleRenounciation     RemovedFromYardDate  \\\n",
       "135236   4BA7984       MD  ...                0.0  2015/09/18 00:00:00+00   \n",
       "61471    47617M7       MD  ...                0.0  2010/07/26 00:00:00+00   \n",
       "61193     4CMF46       MD  ...                0.0  2010/07/20 00:00:00+00   \n",
       "149864    987YZU       CO  ...                0.0  2015/01/22 00:00:00+00   \n",
       "108764   5MD0620       MD  ...                0.0  2012/12/19 00:00:00+00   \n",
       "\n",
       "       StolenVehicleFlag    Status           ReleaseDateTime  \\\n",
       "135236               0.0  Released 2015-09-18 09:25:00+00:00   \n",
       "61471                0.0  Released 2010-07-26 14:53:00+00:00   \n",
       "61193                0.0  Released 2010-07-20 17:01:00+00:00   \n",
       "149864               0.0  Released 2015-01-22 12:25:00+00:00   \n",
       "108764               0.0  Released 2012-12-19 09:23:00+00:00   \n",
       "\n",
       "                 ReleaseType TotalPaid VehicleAge ReceivedToRelease  \\\n",
       "135236  Reclaimed by Insurer     716.0       14.0 516 days 07:40:00   \n",
       "61471     Reclaimed by Owner     694.0       18.0   3 days 00:13:00   \n",
       "61193     Reclaimed by Owner     740.0       26.0   2 days 02:22:00   \n",
       "149864    Reclaimed by Owner     767.0        8.0   5 days 11:16:00   \n",
       "108764    Reclaimed by Owner    2030.0       16.0  10 days 22:51:00   \n",
       "\n",
       "       DaysTillReleased  \n",
       "135236              516  \n",
       "61471                 3  \n",
       "61193                 2  \n",
       "149864                5  \n",
       "108764               10  \n",
       "\n",
       "[5 rows x 35 columns]"
      ]
     },
     "execution_count": 22,
     "metadata": {},
     "output_type": "execute_result"
    }
   ],
   "source": [
    "# Calculate the first quantile\n",
    "first_quantile = dfDropped['TotalPaid'].quantile(0.25)\n",
    "\n",
    "# Calculate the first quantile\n",
    "third_quantile = dfDropped['TotalPaid'].quantile(0.75)\n",
    "\n",
    "# Calculate the interquantile range (IQR)\n",
    "IQR = third_quantile - first_quantile\n",
    "\n",
    "#prints df with all the outliers\n",
    "TotalPaidOut = pd.concat([dfDropped[dfDropped['TotalPaid']<first_quantile-1.5*IQR],\n",
    "dfDropped[dfDropped['TotalPaid']>third_quantile+1.5*IQR]])\n",
    "\n",
    "print(len(TotalPaidOut))\n",
    "TotalPaidOut.sample(5)"
   ]
  },
  {
   "cell_type": "markdown",
   "metadata": {},
   "source": [
    "Find outliers in year"
   ]
  },
  {
   "cell_type": "code",
   "execution_count": 23,
   "metadata": {
    "scrolled": true
   },
   "outputs": [
    {
     "data": {
      "image/png": "[encoded data removed]",
      "text/plain": [
       "<Figure size 432x288 with 1 Axes>"
      ]
     },
     "metadata": {
      "needs_background": "light"
     },
     "output_type": "display_data"
    }
   ],
   "source": [
    "boxplot2 = sns.boxplot(x= dfDropped[\"VehicleAge\"])"
   ]
  },
  {
   "cell_type": "code",
   "execution_count": 24,
   "metadata": {},
   "outputs": [
    {
     "name": "stdout",
     "output_type": "stream",
     "text": [
      "752\n"
     ]
    }
   ],
   "source": [
    "# Calculate the first quantile\n",
    "first_quantile = dfDropped['VehicleAge'].quantile(0.25)\n",
    "\n",
    "# Calculate the first quantile\n",
    "third_quantile = dfDropped['VehicleAge'].quantile(0.75)\n",
    "\n",
    "# Calculate the interquantile range (IQR)\n",
    "IQR = third_quantile - first_quantile\n",
    "\n",
    "#prints df with all the outliers\n",
    "YearOut = pd.concat([dfDropped[dfDropped['VehicleAge']<first_quantile-1.5*IQR],\n",
    "dfDropped[dfDropped['VehicleAge']>third_quantile+1.5*IQR]])\n",
    "\n",
    "print(len(YearOut))"
   ]
  },
  {
   "cell_type": "markdown",
   "metadata": {},
   "source": []
  },
  {
   "cell_type": "markdown",
   "metadata": {},
   "source": [
    "Since we would lose so much data if we dropped all the outliers we chose not to drop all the outliers."
   ]
  },
  {
   "cell_type": "code",
   "execution_count": 25,
   "metadata": {},
   "outputs": [],
   "source": [
    "dfNew = dfDropped"
   ]
  },
  {
   "cell_type": "code",
   "execution_count": 26,
   "metadata": {},
   "outputs": [],
   "source": [
    "#dfNew = dfDropped.drop(TowChargeOut.index, errors='ignore')\n",
    "#dfNew = dfNew.drop(TotalPaidOut.index, errors='ignore')\n",
    "#dfNew = dfNew.drop(YearOut.index, errors='ignore')"
   ]
  },
  {
   "cell_type": "code",
   "execution_count": 27,
   "metadata": {
    "scrolled": true
   },
   "outputs": [
    {
     "data": {
      "text/html": [
       "<div>\n",
       "<style scoped>\n",
       "    .dataframe tbody tr th:only-of-type {\n",
       "        vertical-align: middle;\n",
       "    }\n",
       "\n",
       "    .dataframe tbody tr th {\n",
       "        vertical-align: top;\n",
       "    }\n",
       "\n",
       "    .dataframe thead th {\n",
       "        text-align: right;\n",
       "    }\n",
       "</style>\n",
       "<table border=\"1\" class=\"dataframe\">\n",
       "  <thead>\n",
       "    <tr style=\"text-align: right;\">\n",
       "      <th></th>\n",
       "      <th>PropertyNumber</th>\n",
       "      <th>TowedDateTime</th>\n",
       "      <th>PickupType</th>\n",
       "      <th>VehicleType</th>\n",
       "      <th>VehicleYear</th>\n",
       "      <th>VehicleMake</th>\n",
       "      <th>VehicleModel</th>\n",
       "      <th>VehicleColor</th>\n",
       "      <th>TagNumber</th>\n",
       "      <th>TagState</th>\n",
       "      <th>...</th>\n",
       "      <th>TitleRenounciation</th>\n",
       "      <th>RemovedFromYardDate</th>\n",
       "      <th>StolenVehicleFlag</th>\n",
       "      <th>Status</th>\n",
       "      <th>ReleaseDateTime</th>\n",
       "      <th>ReleaseType</th>\n",
       "      <th>TotalPaid</th>\n",
       "      <th>VehicleAge</th>\n",
       "      <th>ReceivedToRelease</th>\n",
       "      <th>DaysTillReleased</th>\n",
       "    </tr>\n",
       "  </thead>\n",
       "  <tbody>\n",
       "    <tr>\n",
       "      <th>78631</th>\n",
       "      <td>P218937</td>\n",
       "      <td>2011/06/10 02:36:00+00</td>\n",
       "      <td>Police Action (Misc.)</td>\n",
       "      <td>Car</td>\n",
       "      <td>0.0</td>\n",
       "      <td>Toyota</td>\n",
       "      <td>Avalon</td>\n",
       "      <td>Gray</td>\n",
       "      <td>3CSC46</td>\n",
       "      <td>MD</td>\n",
       "      <td>...</td>\n",
       "      <td>0.0</td>\n",
       "      <td>2011/06/10 00:00:00+00</td>\n",
       "      <td>0.0</td>\n",
       "      <td>Released</td>\n",
       "      <td>2011-06-10 12:30:00+00:00</td>\n",
       "      <td>Reclaimed by Owner</td>\n",
       "      <td>220.0</td>\n",
       "      <td>21.0</td>\n",
       "      <td>0 days 09:54:00</td>\n",
       "      <td>0</td>\n",
       "    </tr>\n",
       "    <tr>\n",
       "      <th>86122</th>\n",
       "      <td>P226437</td>\n",
       "      <td>2011/10/21 02:53:00+00</td>\n",
       "      <td>Accident (Death of Operator)</td>\n",
       "      <td>SUV</td>\n",
       "      <td>2.0</td>\n",
       "      <td>Dodge</td>\n",
       "      <td>Durango</td>\n",
       "      <td>Black</td>\n",
       "      <td>T90AYE</td>\n",
       "      <td>NJ</td>\n",
       "      <td>...</td>\n",
       "      <td>0.0</td>\n",
       "      <td>2011/12/13 00:00:00+00</td>\n",
       "      <td>0.0</td>\n",
       "      <td>Released</td>\n",
       "      <td>2011-12-13 10:15:00+00:00</td>\n",
       "      <td>Reclaimed by Insurer</td>\n",
       "      <td>980.0</td>\n",
       "      <td>19.0</td>\n",
       "      <td>53 days 07:22:00</td>\n",
       "      <td>53</td>\n",
       "    </tr>\n",
       "    <tr>\n",
       "      <th>135598</th>\n",
       "      <td>P275940</td>\n",
       "      <td>2014/04/26 21:44:00+00</td>\n",
       "      <td>Stolen Recovered</td>\n",
       "      <td>Van</td>\n",
       "      <td>95.0</td>\n",
       "      <td>Chevrolet</td>\n",
       "      <td>SPORRT VAN G20</td>\n",
       "      <td>Green</td>\n",
       "      <td>8AZ0374</td>\n",
       "      <td>MD</td>\n",
       "      <td>...</td>\n",
       "      <td>0.0</td>\n",
       "      <td>2014/06/11 00:00:00+00</td>\n",
       "      <td>1.0</td>\n",
       "      <td>Auctioned</td>\n",
       "      <td>2014-06-11 08:00:00+00:00</td>\n",
       "      <td>Auctioned</td>\n",
       "      <td>0.0</td>\n",
       "      <td>26.0</td>\n",
       "      <td>45 days 10:16:00</td>\n",
       "      <td>45</td>\n",
       "    </tr>\n",
       "    <tr>\n",
       "      <th>177877</th>\n",
       "      <td>P318249</td>\n",
       "      <td>2016/05/19 10:28:00+00</td>\n",
       "      <td>Stolen Recovered</td>\n",
       "      <td>Car</td>\n",
       "      <td>12.0</td>\n",
       "      <td>Nissan</td>\n",
       "      <td>Altima</td>\n",
       "      <td>Silver</td>\n",
       "      <td>3BG2442</td>\n",
       "      <td>MD</td>\n",
       "      <td>...</td>\n",
       "      <td>0.0</td>\n",
       "      <td>2016/05/25 00:00:00+00</td>\n",
       "      <td>1.0</td>\n",
       "      <td>Released</td>\n",
       "      <td>2016-05-25 12:18:00+00:00</td>\n",
       "      <td>Reclaimed by Insurer</td>\n",
       "      <td>130.0</td>\n",
       "      <td>9.0</td>\n",
       "      <td>6 days 01:50:00</td>\n",
       "      <td>6</td>\n",
       "    </tr>\n",
       "    <tr>\n",
       "      <th>58331</th>\n",
       "      <td>P198625</td>\n",
       "      <td>2010/05/28 22:54:00+00</td>\n",
       "      <td>Accident (Owner/Operator Hospitalized)</td>\n",
       "      <td>SUV</td>\n",
       "      <td>4.0</td>\n",
       "      <td>Jeep</td>\n",
       "      <td>Cherokee</td>\n",
       "      <td>Gray</td>\n",
       "      <td>43594M8</td>\n",
       "      <td>MD</td>\n",
       "      <td>...</td>\n",
       "      <td>0.0</td>\n",
       "      <td>2010/07/28 00:00:00+00</td>\n",
       "      <td>0.0</td>\n",
       "      <td>Auctioned</td>\n",
       "      <td>2010-07-28 08:00:00+00:00</td>\n",
       "      <td>Auctioned</td>\n",
       "      <td>0.0</td>\n",
       "      <td>17.0</td>\n",
       "      <td>60 days 09:06:00</td>\n",
       "      <td>60</td>\n",
       "    </tr>\n",
       "  </tbody>\n",
       "</table>\n",
       "<p>5 rows × 35 columns</p>\n",
       "</div>"
      ],
      "text/plain": [
       "       PropertyNumber           TowedDateTime  \\\n",
       "78631         P218937  2011/06/10 02:36:00+00   \n",
       "86122         P226437  2011/10/21 02:53:00+00   \n",
       "135598        P275940  2014/04/26 21:44:00+00   \n",
       "177877        P318249  2016/05/19 10:28:00+00   \n",
       "58331         P198625  2010/05/28 22:54:00+00   \n",
       "\n",
       "                                    PickupType VehicleType  VehicleYear  \\\n",
       "78631                   Police Action (Misc.)          Car          0.0   \n",
       "86122             Accident (Death of Operator)         SUV          2.0   \n",
       "135598                        Stolen Recovered         Van         95.0   \n",
       "177877                        Stolen Recovered         Car         12.0   \n",
       "58331   Accident (Owner/Operator Hospitalized)         SUV          4.0   \n",
       "\n",
       "       VehicleMake    VehicleModel VehicleColor TagNumber TagState  ...  \\\n",
       "78631       Toyota          Avalon         Gray    3CSC46       MD  ...   \n",
       "86122        Dodge         Durango        Black    T90AYE       NJ  ...   \n",
       "135598   Chevrolet  SPORRT VAN G20        Green   8AZ0374       MD  ...   \n",
       "177877      Nissan          Altima       Silver   3BG2442       MD  ...   \n",
       "58331         Jeep        Cherokee         Gray   43594M8       MD  ...   \n",
       "\n",
       "       TitleRenounciation     RemovedFromYardDate StolenVehicleFlag  \\\n",
       "78631                 0.0  2011/06/10 00:00:00+00               0.0   \n",
       "86122                 0.0  2011/12/13 00:00:00+00               0.0   \n",
       "135598                0.0  2014/06/11 00:00:00+00               1.0   \n",
       "177877                0.0  2016/05/25 00:00:00+00               1.0   \n",
       "58331                 0.0  2010/07/28 00:00:00+00               0.0   \n",
       "\n",
       "           Status           ReleaseDateTime           ReleaseType TotalPaid  \\\n",
       "78631    Released 2011-06-10 12:30:00+00:00    Reclaimed by Owner     220.0   \n",
       "86122    Released 2011-12-13 10:15:00+00:00  Reclaimed by Insurer     980.0   \n",
       "135598  Auctioned 2014-06-11 08:00:00+00:00             Auctioned       0.0   \n",
       "177877   Released 2016-05-25 12:18:00+00:00  Reclaimed by Insurer     130.0   \n",
       "58331   Auctioned 2010-07-28 08:00:00+00:00             Auctioned       0.0   \n",
       "\n",
       "       VehicleAge ReceivedToRelease DaysTillReleased  \n",
       "78631        21.0   0 days 09:54:00                0  \n",
       "86122        19.0  53 days 07:22:00               53  \n",
       "135598       26.0  45 days 10:16:00               45  \n",
       "177877        9.0   6 days 01:50:00                6  \n",
       "58331        17.0  60 days 09:06:00               60  \n",
       "\n",
       "[5 rows x 35 columns]"
      ]
     },
     "execution_count": 27,
     "metadata": {},
     "output_type": "execute_result"
    }
   ],
   "source": [
    "dfNew.sample(5)"
   ]
  },
  {
   "cell_type": "code",
   "execution_count": 28,
   "metadata": {},
   "outputs": [
    {
     "data": {
      "text/html": [
       "<div>\n",
       "<style scoped>\n",
       "    .dataframe tbody tr th:only-of-type {\n",
       "        vertical-align: middle;\n",
       "    }\n",
       "\n",
       "    .dataframe tbody tr th {\n",
       "        vertical-align: top;\n",
       "    }\n",
       "\n",
       "    .dataframe thead th {\n",
       "        text-align: right;\n",
       "    }\n",
       "</style>\n",
       "<table border=\"1\" class=\"dataframe\">\n",
       "  <thead>\n",
       "    <tr style=\"text-align: right;\">\n",
       "      <th></th>\n",
       "      <th>VehicleYear</th>\n",
       "      <th>TowCharge</th>\n",
       "      <th>TitleRenounciation</th>\n",
       "      <th>StolenVehicleFlag</th>\n",
       "      <th>TotalPaid</th>\n",
       "      <th>VehicleAge</th>\n",
       "      <th>ReceivedToRelease</th>\n",
       "      <th>DaysTillReleased</th>\n",
       "    </tr>\n",
       "  </thead>\n",
       "  <tbody>\n",
       "    <tr>\n",
       "      <th>count</th>\n",
       "      <td>122690.000000</td>\n",
       "      <td>122690.000000</td>\n",
       "      <td>122690.000000</td>\n",
       "      <td>122690.000000</td>\n",
       "      <td>122690.000000</td>\n",
       "      <td>122690.000000</td>\n",
       "      <td>122690</td>\n",
       "      <td>122690.000000</td>\n",
       "    </tr>\n",
       "    <tr>\n",
       "      <th>mean</th>\n",
       "      <td>29.802967</td>\n",
       "      <td>137.288849</td>\n",
       "      <td>0.004988</td>\n",
       "      <td>0.163159</td>\n",
       "      <td>284.452843</td>\n",
       "      <td>17.925373</td>\n",
       "      <td>29 days 05:04:11.337517</td>\n",
       "      <td>28.716024</td>\n",
       "    </tr>\n",
       "    <tr>\n",
       "      <th>std</th>\n",
       "      <td>40.108429</td>\n",
       "      <td>400.711692</td>\n",
       "      <td>0.070451</td>\n",
       "      <td>0.369512</td>\n",
       "      <td>272.789797</td>\n",
       "      <td>6.049497</td>\n",
       "      <td>102 days 07:26:34.652642</td>\n",
       "      <td>101.754406</td>\n",
       "    </tr>\n",
       "    <tr>\n",
       "      <th>min</th>\n",
       "      <td>0.000000</td>\n",
       "      <td>0.000000</td>\n",
       "      <td>0.000000</td>\n",
       "      <td>0.000000</td>\n",
       "      <td>0.000000</td>\n",
       "      <td>1.000000</td>\n",
       "      <td>-3593 days +21:45:00</td>\n",
       "      <td>0.000000</td>\n",
       "    </tr>\n",
       "    <tr>\n",
       "      <th>25%</th>\n",
       "      <td>3.000000</td>\n",
       "      <td>130.000000</td>\n",
       "      <td>0.000000</td>\n",
       "      <td>0.000000</td>\n",
       "      <td>140.000000</td>\n",
       "      <td>14.000000</td>\n",
       "      <td>1 days 16:15:00</td>\n",
       "      <td>1.000000</td>\n",
       "    </tr>\n",
       "    <tr>\n",
       "      <th>50%</th>\n",
       "      <td>7.000000</td>\n",
       "      <td>130.000000</td>\n",
       "      <td>0.000000</td>\n",
       "      <td>0.000000</td>\n",
       "      <td>235.000000</td>\n",
       "      <td>18.000000</td>\n",
       "      <td>4 days 17:04:00</td>\n",
       "      <td>4.000000</td>\n",
       "    </tr>\n",
       "    <tr>\n",
       "      <th>75%</th>\n",
       "      <td>90.000000</td>\n",
       "      <td>130.000000</td>\n",
       "      <td>0.000000</td>\n",
       "      <td>0.000000</td>\n",
       "      <td>326.000000</td>\n",
       "      <td>22.000000</td>\n",
       "      <td>21 days 00:00:30</td>\n",
       "      <td>20.750000</td>\n",
       "    </tr>\n",
       "    <tr>\n",
       "      <th>max</th>\n",
       "      <td>99.000000</td>\n",
       "      <td>140000.000000</td>\n",
       "      <td>1.000000</td>\n",
       "      <td>1.000000</td>\n",
       "      <td>6794.000000</td>\n",
       "      <td>94.000000</td>\n",
       "      <td>3063 days 23:08:00</td>\n",
       "      <td>3063.000000</td>\n",
       "    </tr>\n",
       "  </tbody>\n",
       "</table>\n",
       "</div>"
      ],
      "text/plain": [
       "         VehicleYear      TowCharge  TitleRenounciation  StolenVehicleFlag  \\\n",
       "count  122690.000000  122690.000000       122690.000000      122690.000000   \n",
       "mean       29.802967     137.288849            0.004988           0.163159   \n",
       "std        40.108429     400.711692            0.070451           0.369512   \n",
       "min         0.000000       0.000000            0.000000           0.000000   \n",
       "25%         3.000000     130.000000            0.000000           0.000000   \n",
       "50%         7.000000     130.000000            0.000000           0.000000   \n",
       "75%        90.000000     130.000000            0.000000           0.000000   \n",
       "max        99.000000  140000.000000            1.000000           1.000000   \n",
       "\n",
       "           TotalPaid     VehicleAge         ReceivedToRelease  \\\n",
       "count  122690.000000  122690.000000                    122690   \n",
       "mean      284.452843      17.925373   29 days 05:04:11.337517   \n",
       "std       272.789797       6.049497  102 days 07:26:34.652642   \n",
       "min         0.000000       1.000000      -3593 days +21:45:00   \n",
       "25%       140.000000      14.000000           1 days 16:15:00   \n",
       "50%       235.000000      18.000000           4 days 17:04:00   \n",
       "75%       326.000000      22.000000          21 days 00:00:30   \n",
       "max      6794.000000      94.000000        3063 days 23:08:00   \n",
       "\n",
       "       DaysTillReleased  \n",
       "count     122690.000000  \n",
       "mean          28.716024  \n",
       "std          101.754406  \n",
       "min            0.000000  \n",
       "25%            1.000000  \n",
       "50%            4.000000  \n",
       "75%           20.750000  \n",
       "max         3063.000000  "
      ]
     },
     "execution_count": 28,
     "metadata": {},
     "output_type": "execute_result"
    }
   ],
   "source": [
    "dfNew.describe()"
   ]
  },
  {
   "cell_type": "markdown",
   "metadata": {},
   "source": [
    "## Data Exploration"
   ]
  },
  {
   "cell_type": "code",
   "execution_count": 29,
   "metadata": {},
   "outputs": [],
   "source": [
    "sns.set(rc = {'figure.figsize':(15,8)})"
   ]
  },
  {
   "cell_type": "markdown",
   "metadata": {},
   "source": [
    "### Is the city of Balitmore unfairly favoring one towing company over the other compeititors?"
   ]
  },
  {
   "cell_type": "code",
   "execution_count": 30,
   "metadata": {},
   "outputs": [
    {
     "data": {
      "text/plain": [
       "<matplotlib.axes._subplots.AxesSubplot at 0x20102885ca0>"
      ]
     },
     "execution_count": 30,
     "metadata": {},
     "output_type": "execute_result"
    },
    {
     "data": {
      "image/png": "[encoded data removed]",
      "text/plain": [
       "<Figure size 1080x576 with 1 Axes>"
      ]
     },
     "metadata": {},
     "output_type": "display_data"
    }
   ],
   "source": [
    "dfNew['TowCompany'].value_counts().plot(kind='bar')"
   ]
  },
  {
   "cell_type": "markdown",
   "metadata": {},
   "source": [
    "It looks like there is more than 1 entry for each of the different towing companies. These should be combined together."
   ]
  },
  {
   "cell_type": "code",
   "execution_count": 31,
   "metadata": {},
   "outputs": [],
   "source": [
    "dfNew['TowCompany'] = dfNew['TowCompany'].str.replace('\\s([\\s\\S]*)$', '')\n",
    "dfNew['TowCompany'] = dfNew['TowCompany'].str.replace('[^a-zA-Z\\d\\s:]', '')"
   ]
  },
  {
   "cell_type": "code",
   "execution_count": 32,
   "metadata": {},
   "outputs": [
    {
     "data": {
      "text/plain": [
       "<matplotlib.axes._subplots.AxesSubplot at 0x20103075e20>"
      ]
     },
     "execution_count": 32,
     "metadata": {},
     "output_type": "execute_result"
    },
    {
     "data": {
      "image/png": "[encoded data removed]",
      "text/plain": [
       "<Figure size 1080x576 with 1 Axes>"
      ]
     },
     "metadata": {},
     "output_type": "display_data"
    }
   ],
   "source": [
    "dfNew['TowCompany'].value_counts().plot(kind='bar')"
   ]
  },
  {
   "cell_type": "markdown",
   "metadata": {},
   "source": [
    "Frankford is the most popular towing company followed by the city and Bermans."
   ]
  },
  {
   "cell_type": "markdown",
   "metadata": {},
   "source": [
    "### Is the city of Balitmore towing specific types of vehicles more than others? Are different types of vehicles charged different amounts?"
   ]
  },
  {
   "cell_type": "code",
   "execution_count": 33,
   "metadata": {},
   "outputs": [
    {
     "data": {
      "text/plain": [
       "<matplotlib.axes._subplots.AxesSubplot at 0x20103e5a340>"
      ]
     },
     "execution_count": 33,
     "metadata": {},
     "output_type": "execute_result"
    },
    {
     "data": {
      "image/png": "[encoded data removed]",
      "text/plain": [
       "<Figure size 1080x576 with 1 Axes>"
      ]
     },
     "metadata": {},
     "output_type": "display_data"
    }
   ],
   "source": [
    "dfNew['VehicleType'].value_counts().plot(kind='bar')"
   ]
  },
  {
   "cell_type": "markdown",
   "metadata": {},
   "source": [
    "As expected the most popular types of vehicles are towed the most."
   ]
  },
  {
   "cell_type": "code",
   "execution_count": 34,
   "metadata": {},
   "outputs": [
    {
     "data": {
      "image/png": "[encoded data removed]",
      "text/plain": [
       "<Figure size 1080x576 with 1 Axes>"
      ]
     },
     "metadata": {},
     "output_type": "display_data"
    }
   ],
   "source": [
    "ax = sns.barplot(x=\"VehicleType\", y=\"TotalPaid\", data=dfNew)\n",
    "ax.tick_params(axis='x', rotation=90)\n"
   ]
  },
  {
   "cell_type": "code",
   "execution_count": 35,
   "metadata": {},
   "outputs": [
    {
     "data": {
      "image/png": "[encoded data removed]",
      "text/plain": [
       "<Figure size 1080x576 with 1 Axes>"
      ]
     },
     "metadata": {},
     "output_type": "display_data"
    }
   ],
   "source": [
    "ax = sns.barplot(x=\"VehicleMake\", y=\"TotalPaid\", data=dfNew)\n",
    "ax.tick_params(axis='x', rotation=90)"
   ]
  },
  {
   "cell_type": "markdown",
   "metadata": {},
   "source": [
    "It seems that smaller vehicles like dirt bikes and scooters have the lowest tow charge and some of the biggest vehicles such as tractors and trucks have the highest tow charge."
   ]
  },
  {
   "cell_type": "markdown",
   "metadata": {},
   "source": [
    "### Is the city of Balitmore towing visiting and traveling vistiors disportionally to local residents?"
   ]
  },
  {
   "cell_type": "code",
   "execution_count": 36,
   "metadata": {},
   "outputs": [
    {
     "data": {
      "text/plain": [
       "<matplotlib.axes._subplots.AxesSubplot at 0x20103f6b640>"
      ]
     },
     "execution_count": 36,
     "metadata": {},
     "output_type": "execute_result"
    },
    {
     "data": {
      "image/png": "[encoded data removed]",
      "text/plain": [
       "<Figure size 1080x576 with 1 Axes>"
      ]
     },
     "metadata": {},
     "output_type": "display_data"
    }
   ],
   "source": [
    "#Graph of the top 10 states vehicles are towed from\n",
    "dfNew['TagState'].value_counts().sort_values(ascending=False)[:10].plot(kind='bar')"
   ]
  },
  {
   "cell_type": "markdown",
   "metadata": {},
   "source": [
    "Most of the vehicles towed are from Maryland folowed by Virgia and Pennsylvania which are adjacent states. "
   ]
  },
  {
   "cell_type": "code",
   "execution_count": 37,
   "metadata": {},
   "outputs": [
    {
     "data": {
      "image/png": "[encoded data removed]",
      "text/plain": [
       "<Figure size 1080x576 with 1 Axes>"
      ]
     },
     "metadata": {},
     "output_type": "display_data"
    }
   ],
   "source": [
    "ax = sns.barplot(x=\"TagState\", y=\"TotalPaid\", data=dfNew)\n",
    "ax.tick_params(axis='x', rotation=90)"
   ]
  },
  {
   "cell_type": "markdown",
   "metadata": {},
   "source": [
    "### Other Graphs"
   ]
  },
  {
   "cell_type": "code",
   "execution_count": 38,
   "metadata": {},
   "outputs": [
    {
     "data": {
      "text/plain": [
       "Text(0.5, 0, 'Age')"
      ]
     },
     "execution_count": 38,
     "metadata": {},
     "output_type": "execute_result"
    },
    {
     "data": {
      "image/png": "[encoded data removed]",
      "text/plain": [
       "<Figure size 1080x576 with 1 Axes>"
      ]
     },
     "metadata": {},
     "output_type": "display_data"
    }
   ],
   "source": [
    "ax = sns.distplot(dfNew['VehicleAge'], bins=20)\n",
    "ax.set_title('Histgram of Vehicle Age')\n",
    "ax.set_xlabel('Age')"
   ]
  },
  {
   "cell_type": "markdown",
   "metadata": {},
   "source": [
    "It seems like most cars towed are around 20 years old but some are much older. Probably antique cars."
   ]
  },
  {
   "cell_type": "code",
   "execution_count": 39,
   "metadata": {},
   "outputs": [
    {
     "data": {
      "text/plain": [
       "Text(0.5, 0, 'Cost')"
      ]
     },
     "execution_count": 39,
     "metadata": {},
     "output_type": "execute_result"
    },
    {
     "data": {
      "image/png": "[encoded data removed]",
      "text/plain": [
       "<Figure size 1080x576 with 1 Axes>"
      ]
     },
     "metadata": {},
     "output_type": "display_data"
    }
   ],
   "source": [
    "ax = sns.distplot(dfNew['TotalPaid'],bins=20)\n",
    "ax.set_title('Histgram of Price Paid')\n",
    "ax.set_xlabel('Cost')"
   ]
  },
  {
   "cell_type": "markdown",
   "metadata": {},
   "source": [
    "It looks like there are 3 common prices and then some less common amounts afterwords."
   ]
  },
  {
   "cell_type": "code",
   "execution_count": 40,
   "metadata": {
    "scrolled": true
   },
   "outputs": [
    {
     "data": {
      "text/plain": [
       "<matplotlib.axes._subplots.AxesSubplot at 0x20105c842b0>"
      ]
     },
     "execution_count": 40,
     "metadata": {},
     "output_type": "execute_result"
    },
    {
     "data": {
      "image/png": "[encoded data removed]",
      "text/plain": [
       "<Figure size 1080x576 with 1 Axes>"
      ]
     },
     "metadata": {},
     "output_type": "display_data"
    }
   ],
   "source": [
    "dfNew['PickupType'].value_counts().plot(kind='bar')"
   ]
  },
  {
   "cell_type": "code",
   "execution_count": 41,
   "metadata": {},
   "outputs": [
    {
     "data": {
      "text/plain": [
       "<matplotlib.axes._subplots.AxesSubplot at 0x20105581760>"
      ]
     },
     "execution_count": 41,
     "metadata": {},
     "output_type": "execute_result"
    },
    {
     "data": {
      "image/png": "[encoded data removed]",
      "text/plain": [
       "<Figure size 1080x576 with 1 Axes>"
      ]
     },
     "metadata": {},
     "output_type": "display_data"
    }
   ],
   "source": [
    "dfNew['ReleaseType'].value_counts().plot(kind='bar')"
   ]
  },
  {
   "cell_type": "code",
   "execution_count": 42,
   "metadata": {},
   "outputs": [
    {
     "data": {
      "image/png": "[encoded data removed]",
      "text/plain": [
       "<Figure size 432x432 with 3 Axes>"
      ]
     },
     "metadata": {},
     "output_type": "display_data"
    }
   ],
   "source": [
    "# Use seaborn to draw scatterplot\n",
    "ax = sns.jointplot(x=\"DaysTillReleased\", y=\"TotalPaid\", data=dfNew[['DaysTillReleased','TotalPaid']])\n",
    "#ax.set_axis_labels('% lower status of the population','house price')"
   ]
  },
  {
   "cell_type": "markdown",
   "metadata": {},
   "source": [
    "It does not seem like there is a correlation between days till released and the total paid"
   ]
  },
  {
   "cell_type": "markdown",
   "metadata": {},
   "source": [
    "### Can we predict if a car will be auctioned based on different attributes in the data set?"
   ]
  },
  {
   "cell_type": "markdown",
   "metadata": {},
   "source": [
    "We Would want to know this because if the city can predict what Vehicles will go to auction then they may want to do something different with them. For example, they could take store them near the place that the auction takes place."
   ]
  },
  {
   "cell_type": "markdown",
   "metadata": {},
   "source": [
    "#### Create X and Y"
   ]
  },
  {
   "cell_type": "code",
   "execution_count": 43,
   "metadata": {},
   "outputs": [
    {
     "data": {
      "text/html": [
       "<div>\n",
       "<style scoped>\n",
       "    .dataframe tbody tr th:only-of-type {\n",
       "        vertical-align: middle;\n",
       "    }\n",
       "\n",
       "    .dataframe tbody tr th {\n",
       "        vertical-align: top;\n",
       "    }\n",
       "\n",
       "    .dataframe thead th {\n",
       "        text-align: right;\n",
       "    }\n",
       "</style>\n",
       "<table border=\"1\" class=\"dataframe\">\n",
       "  <thead>\n",
       "    <tr style=\"text-align: right;\">\n",
       "      <th></th>\n",
       "      <th>50214</th>\n",
       "      <th>50215</th>\n",
       "      <th>50216</th>\n",
       "    </tr>\n",
       "  </thead>\n",
       "  <tbody>\n",
       "    <tr>\n",
       "      <th>PropertyNumber</th>\n",
       "      <td>P190502</td>\n",
       "      <td>P190504</td>\n",
       "      <td>P190505</td>\n",
       "    </tr>\n",
       "    <tr>\n",
       "      <th>TowedDateTime</th>\n",
       "      <td>2010/01/01 00:00:00+00</td>\n",
       "      <td>2010/01/01 00:30:00+00</td>\n",
       "      <td>2010/01/01 00:02:00+00</td>\n",
       "    </tr>\n",
       "    <tr>\n",
       "      <th>PickupType</th>\n",
       "      <td>Police Action (Narcotic)</td>\n",
       "      <td>Police Action (Narcotic)</td>\n",
       "      <td>ACCIDENT</td>\n",
       "    </tr>\n",
       "    <tr>\n",
       "      <th>VehicleType</th>\n",
       "      <td>Car</td>\n",
       "      <td>Car</td>\n",
       "      <td>Taxi</td>\n",
       "    </tr>\n",
       "    <tr>\n",
       "      <th>VehicleYear</th>\n",
       "      <td>95</td>\n",
       "      <td>3</td>\n",
       "      <td>0</td>\n",
       "    </tr>\n",
       "    <tr>\n",
       "      <th>VehicleMake</th>\n",
       "      <td>Ford</td>\n",
       "      <td>Acura</td>\n",
       "      <td>Ford</td>\n",
       "    </tr>\n",
       "    <tr>\n",
       "      <th>VehicleModel</th>\n",
       "      <td>Taurus</td>\n",
       "      <td>3.2 TL</td>\n",
       "      <td>Crown Victoria</td>\n",
       "    </tr>\n",
       "    <tr>\n",
       "      <th>VehicleColor</th>\n",
       "      <td>Gray</td>\n",
       "      <td>Blue</td>\n",
       "      <td>Grn/Wht</td>\n",
       "    </tr>\n",
       "    <tr>\n",
       "      <th>TagNumber</th>\n",
       "      <td>LBN579</td>\n",
       "      <td>88837K</td>\n",
       "      <td>A199068</td>\n",
       "    </tr>\n",
       "    <tr>\n",
       "      <th>TagState</th>\n",
       "      <td>MD</td>\n",
       "      <td>MD</td>\n",
       "      <td>MD</td>\n",
       "    </tr>\n",
       "    <tr>\n",
       "      <th>TowCompany</th>\n",
       "      <td>Bermans</td>\n",
       "      <td>Aarons</td>\n",
       "      <td>Frankford</td>\n",
       "    </tr>\n",
       "    <tr>\n",
       "      <th>TowCharge</th>\n",
       "      <td>140</td>\n",
       "      <td>130</td>\n",
       "      <td>130</td>\n",
       "    </tr>\n",
       "    <tr>\n",
       "      <th>TowedFromLocation</th>\n",
       "      <td>4400  Pimlico Rd</td>\n",
       "      <td>3200  Fenwick</td>\n",
       "      <td>300  Light St</td>\n",
       "    </tr>\n",
       "    <tr>\n",
       "      <th>HowTowed</th>\n",
       "      <td>Front</td>\n",
       "      <td>Rear</td>\n",
       "      <td>Front</td>\n",
       "    </tr>\n",
       "    <tr>\n",
       "      <th>SlingUsed</th>\n",
       "      <td>No</td>\n",
       "      <td>No</td>\n",
       "      <td>No</td>\n",
       "    </tr>\n",
       "    <tr>\n",
       "      <th>DollyUsed</th>\n",
       "      <td>No</td>\n",
       "      <td>No</td>\n",
       "      <td>No</td>\n",
       "    </tr>\n",
       "    <tr>\n",
       "      <th>rollBackUsed</th>\n",
       "      <td>Yes</td>\n",
       "      <td>Yes</td>\n",
       "      <td>Yes</td>\n",
       "    </tr>\n",
       "    <tr>\n",
       "      <th>pinPulled</th>\n",
       "      <td>No</td>\n",
       "      <td>No</td>\n",
       "      <td>No</td>\n",
       "    </tr>\n",
       "    <tr>\n",
       "      <th>pinReplaced</th>\n",
       "      <td>No</td>\n",
       "      <td>No</td>\n",
       "      <td>No</td>\n",
       "    </tr>\n",
       "    <tr>\n",
       "      <th>WheelLift</th>\n",
       "      <td>No</td>\n",
       "      <td>No</td>\n",
       "      <td>No</td>\n",
       "    </tr>\n",
       "    <tr>\n",
       "      <th>Stinger</th>\n",
       "      <td>No</td>\n",
       "      <td>No</td>\n",
       "      <td>No</td>\n",
       "    </tr>\n",
       "    <tr>\n",
       "      <th>ReceivingDateTime</th>\n",
       "      <td>2010-01-01 00:00:00+00:00</td>\n",
       "      <td>2010-01-01 00:30:00+00:00</td>\n",
       "      <td>2010-01-01 00:02:00+00:00</td>\n",
       "    </tr>\n",
       "    <tr>\n",
       "      <th>StorageYard</th>\n",
       "      <td>Pulaski</td>\n",
       "      <td>Pulaski</td>\n",
       "      <td>Pulaski</td>\n",
       "    </tr>\n",
       "    <tr>\n",
       "      <th>StorageLocation</th>\n",
       "      <td>6700 Pulaski Highway Baltimore, Maryland 21237</td>\n",
       "      <td>6700 Pulaski Highway Baltimore, Maryland 21237</td>\n",
       "      <td>6700 Pulaski Highway Baltimore, Maryland 21237</td>\n",
       "    </tr>\n",
       "    <tr>\n",
       "      <th>StorageTelephone</th>\n",
       "      <td>(410) 396-9958</td>\n",
       "      <td>(410) 396-9958</td>\n",
       "      <td>(410) 396-9958</td>\n",
       "    </tr>\n",
       "    <tr>\n",
       "      <th>TitleRenounciation</th>\n",
       "      <td>0</td>\n",
       "      <td>0</td>\n",
       "      <td>0</td>\n",
       "    </tr>\n",
       "    <tr>\n",
       "      <th>RemovedFromYardDate</th>\n",
       "      <td>2010/01/05 00:00:00+00</td>\n",
       "      <td>2010/06/03 00:00:00+00</td>\n",
       "      <td>2010/01/09 00:00:00+00</td>\n",
       "    </tr>\n",
       "    <tr>\n",
       "      <th>StolenVehicleFlag</th>\n",
       "      <td>0</td>\n",
       "      <td>0</td>\n",
       "      <td>0</td>\n",
       "    </tr>\n",
       "    <tr>\n",
       "      <th>Status</th>\n",
       "      <td>Released</td>\n",
       "      <td>Released</td>\n",
       "      <td>Released</td>\n",
       "    </tr>\n",
       "    <tr>\n",
       "      <th>ReleaseDateTime</th>\n",
       "      <td>2010-01-05 10:20:00+00:00</td>\n",
       "      <td>2010-06-03 12:25:00+00:00</td>\n",
       "      <td>2010-01-09 11:16:00+00:00</td>\n",
       "    </tr>\n",
       "    <tr>\n",
       "      <th>ReleaseType</th>\n",
       "      <td>Reclaimed by Owner</td>\n",
       "      <td>Administrative No Charge</td>\n",
       "      <td>Reclaimed by Owner</td>\n",
       "    </tr>\n",
       "    <tr>\n",
       "      <th>TotalPaid</th>\n",
       "      <td>230</td>\n",
       "      <td>0</td>\n",
       "      <td>265</td>\n",
       "    </tr>\n",
       "    <tr>\n",
       "      <th>VehicleAge</th>\n",
       "      <td>26</td>\n",
       "      <td>18</td>\n",
       "      <td>21</td>\n",
       "    </tr>\n",
       "    <tr>\n",
       "      <th>ReceivedToRelease</th>\n",
       "      <td>4 days 10:20:00</td>\n",
       "      <td>153 days 11:55:00</td>\n",
       "      <td>8 days 11:14:00</td>\n",
       "    </tr>\n",
       "    <tr>\n",
       "      <th>DaysTillReleased</th>\n",
       "      <td>4</td>\n",
       "      <td>153</td>\n",
       "      <td>8</td>\n",
       "    </tr>\n",
       "  </tbody>\n",
       "</table>\n",
       "</div>"
      ],
      "text/plain": [
       "                                                              50214  \\\n",
       "PropertyNumber                                              P190502   \n",
       "TowedDateTime                                2010/01/01 00:00:00+00   \n",
       "PickupType                                 Police Action (Narcotic)   \n",
       "VehicleType                                                     Car   \n",
       "VehicleYear                                                      95   \n",
       "VehicleMake                                                    Ford   \n",
       "VehicleModel                                                 Taurus   \n",
       "VehicleColor                                                   Gray   \n",
       "TagNumber                                                    LBN579   \n",
       "TagState                                                         MD   \n",
       "TowCompany                                                  Bermans   \n",
       "TowCharge                                                       140   \n",
       "TowedFromLocation                                 4400  Pimlico Rd    \n",
       "HowTowed                                                      Front   \n",
       "SlingUsed                                                        No   \n",
       "DollyUsed                                                        No   \n",
       "rollBackUsed                                                    Yes   \n",
       "pinPulled                                                        No   \n",
       "pinReplaced                                                      No   \n",
       "WheelLift                                                        No   \n",
       "Stinger                                                          No   \n",
       "ReceivingDateTime                         2010-01-01 00:00:00+00:00   \n",
       "StorageYard                                                 Pulaski   \n",
       "StorageLocation      6700 Pulaski Highway Baltimore, Maryland 21237   \n",
       "StorageTelephone                                     (410) 396-9958   \n",
       "TitleRenounciation                                                0   \n",
       "RemovedFromYardDate                          2010/01/05 00:00:00+00   \n",
       "StolenVehicleFlag                                                 0   \n",
       "Status                                                     Released   \n",
       "ReleaseDateTime                           2010-01-05 10:20:00+00:00   \n",
       "ReleaseType                                      Reclaimed by Owner   \n",
       "TotalPaid                                                       230   \n",
       "VehicleAge                                                       26   \n",
       "ReceivedToRelease                                   4 days 10:20:00   \n",
       "DaysTillReleased                                                  4   \n",
       "\n",
       "                                                              50215  \\\n",
       "PropertyNumber                                              P190504   \n",
       "TowedDateTime                                2010/01/01 00:30:00+00   \n",
       "PickupType                                 Police Action (Narcotic)   \n",
       "VehicleType                                                     Car   \n",
       "VehicleYear                                                       3   \n",
       "VehicleMake                                                   Acura   \n",
       "VehicleModel                                                 3.2 TL   \n",
       "VehicleColor                                                   Blue   \n",
       "TagNumber                                                    88837K   \n",
       "TagState                                                         MD   \n",
       "TowCompany                                                   Aarons   \n",
       "TowCharge                                                       130   \n",
       "TowedFromLocation                                    3200  Fenwick    \n",
       "HowTowed                                                       Rear   \n",
       "SlingUsed                                                        No   \n",
       "DollyUsed                                                        No   \n",
       "rollBackUsed                                                    Yes   \n",
       "pinPulled                                                        No   \n",
       "pinReplaced                                                      No   \n",
       "WheelLift                                                        No   \n",
       "Stinger                                                          No   \n",
       "ReceivingDateTime                         2010-01-01 00:30:00+00:00   \n",
       "StorageYard                                                 Pulaski   \n",
       "StorageLocation      6700 Pulaski Highway Baltimore, Maryland 21237   \n",
       "StorageTelephone                                     (410) 396-9958   \n",
       "TitleRenounciation                                                0   \n",
       "RemovedFromYardDate                          2010/06/03 00:00:00+00   \n",
       "StolenVehicleFlag                                                 0   \n",
       "Status                                                     Released   \n",
       "ReleaseDateTime                           2010-06-03 12:25:00+00:00   \n",
       "ReleaseType                                Administrative No Charge   \n",
       "TotalPaid                                                         0   \n",
       "VehicleAge                                                       18   \n",
       "ReceivedToRelease                                 153 days 11:55:00   \n",
       "DaysTillReleased                                                153   \n",
       "\n",
       "                                                              50216  \n",
       "PropertyNumber                                              P190505  \n",
       "TowedDateTime                                2010/01/01 00:02:00+00  \n",
       "PickupType                                                ACCIDENT   \n",
       "VehicleType                                                    Taxi  \n",
       "VehicleYear                                                       0  \n",
       "VehicleMake                                                    Ford  \n",
       "VehicleModel                                         Crown Victoria  \n",
       "VehicleColor                                                Grn/Wht  \n",
       "TagNumber                                                   A199068  \n",
       "TagState                                                         MD  \n",
       "TowCompany                                                Frankford  \n",
       "TowCharge                                                       130  \n",
       "TowedFromLocation                                    300  Light St   \n",
       "HowTowed                                                      Front  \n",
       "SlingUsed                                                        No  \n",
       "DollyUsed                                                        No  \n",
       "rollBackUsed                                                    Yes  \n",
       "pinPulled                                                        No  \n",
       "pinReplaced                                                      No  \n",
       "WheelLift                                                        No  \n",
       "Stinger                                                          No  \n",
       "ReceivingDateTime                         2010-01-01 00:02:00+00:00  \n",
       "StorageYard                                                 Pulaski  \n",
       "StorageLocation      6700 Pulaski Highway Baltimore, Maryland 21237  \n",
       "StorageTelephone                                     (410) 396-9958  \n",
       "TitleRenounciation                                                0  \n",
       "RemovedFromYardDate                          2010/01/09 00:00:00+00  \n",
       "StolenVehicleFlag                                                 0  \n",
       "Status                                                     Released  \n",
       "ReleaseDateTime                           2010-01-09 11:16:00+00:00  \n",
       "ReleaseType                                      Reclaimed by Owner  \n",
       "TotalPaid                                                       265  \n",
       "VehicleAge                                                       21  \n",
       "ReceivedToRelease                                   8 days 11:14:00  \n",
       "DaysTillReleased                                                  8  "
      ]
     },
     "execution_count": 43,
     "metadata": {},
     "output_type": "execute_result"
    }
   ],
   "source": [
    "dfNew.head(3).transpose()"
   ]
  },
  {
   "cell_type": "code",
   "execution_count": 44,
   "metadata": {},
   "outputs": [
    {
     "data": {
      "text/html": [
       "<div>\n",
       "<style scoped>\n",
       "    .dataframe tbody tr th:only-of-type {\n",
       "        vertical-align: middle;\n",
       "    }\n",
       "\n",
       "    .dataframe tbody tr th {\n",
       "        vertical-align: top;\n",
       "    }\n",
       "\n",
       "    .dataframe thead th {\n",
       "        text-align: right;\n",
       "    }\n",
       "</style>\n",
       "<table border=\"1\" class=\"dataframe\">\n",
       "  <thead>\n",
       "    <tr style=\"text-align: right;\">\n",
       "      <th></th>\n",
       "      <th>VehicleYear</th>\n",
       "      <th>TowCharge</th>\n",
       "      <th>TitleRenounciation</th>\n",
       "      <th>StolenVehicleFlag</th>\n",
       "      <th>TotalPaid</th>\n",
       "      <th>VehicleAge</th>\n",
       "      <th>ReceivedToRelease</th>\n",
       "      <th>DaysTillReleased</th>\n",
       "    </tr>\n",
       "  </thead>\n",
       "  <tbody>\n",
       "    <tr>\n",
       "      <th>count</th>\n",
       "      <td>122690.000000</td>\n",
       "      <td>122690.000000</td>\n",
       "      <td>122690.000000</td>\n",
       "      <td>122690.000000</td>\n",
       "      <td>122690.000000</td>\n",
       "      <td>122690.000000</td>\n",
       "      <td>122690</td>\n",
       "      <td>122690.000000</td>\n",
       "    </tr>\n",
       "    <tr>\n",
       "      <th>mean</th>\n",
       "      <td>29.802967</td>\n",
       "      <td>137.288849</td>\n",
       "      <td>0.004988</td>\n",
       "      <td>0.163159</td>\n",
       "      <td>284.452843</td>\n",
       "      <td>17.925373</td>\n",
       "      <td>29 days 05:04:11.337517</td>\n",
       "      <td>28.716024</td>\n",
       "    </tr>\n",
       "    <tr>\n",
       "      <th>std</th>\n",
       "      <td>40.108429</td>\n",
       "      <td>400.711692</td>\n",
       "      <td>0.070451</td>\n",
       "      <td>0.369512</td>\n",
       "      <td>272.789797</td>\n",
       "      <td>6.049497</td>\n",
       "      <td>102 days 07:26:34.652642</td>\n",
       "      <td>101.754406</td>\n",
       "    </tr>\n",
       "    <tr>\n",
       "      <th>min</th>\n",
       "      <td>0.000000</td>\n",
       "      <td>0.000000</td>\n",
       "      <td>0.000000</td>\n",
       "      <td>0.000000</td>\n",
       "      <td>0.000000</td>\n",
       "      <td>1.000000</td>\n",
       "      <td>-3593 days +21:45:00</td>\n",
       "      <td>0.000000</td>\n",
       "    </tr>\n",
       "    <tr>\n",
       "      <th>25%</th>\n",
       "      <td>3.000000</td>\n",
       "      <td>130.000000</td>\n",
       "      <td>0.000000</td>\n",
       "      <td>0.000000</td>\n",
       "      <td>140.000000</td>\n",
       "      <td>14.000000</td>\n",
       "      <td>1 days 16:15:00</td>\n",
       "      <td>1.000000</td>\n",
       "    </tr>\n",
       "    <tr>\n",
       "      <th>50%</th>\n",
       "      <td>7.000000</td>\n",
       "      <td>130.000000</td>\n",
       "      <td>0.000000</td>\n",
       "      <td>0.000000</td>\n",
       "      <td>235.000000</td>\n",
       "      <td>18.000000</td>\n",
       "      <td>4 days 17:04:00</td>\n",
       "      <td>4.000000</td>\n",
       "    </tr>\n",
       "    <tr>\n",
       "      <th>75%</th>\n",
       "      <td>90.000000</td>\n",
       "      <td>130.000000</td>\n",
       "      <td>0.000000</td>\n",
       "      <td>0.000000</td>\n",
       "      <td>326.000000</td>\n",
       "      <td>22.000000</td>\n",
       "      <td>21 days 00:00:30</td>\n",
       "      <td>20.750000</td>\n",
       "    </tr>\n",
       "    <tr>\n",
       "      <th>max</th>\n",
       "      <td>99.000000</td>\n",
       "      <td>140000.000000</td>\n",
       "      <td>1.000000</td>\n",
       "      <td>1.000000</td>\n",
       "      <td>6794.000000</td>\n",
       "      <td>94.000000</td>\n",
       "      <td>3063 days 23:08:00</td>\n",
       "      <td>3063.000000</td>\n",
       "    </tr>\n",
       "  </tbody>\n",
       "</table>\n",
       "</div>"
      ],
      "text/plain": [
       "         VehicleYear      TowCharge  TitleRenounciation  StolenVehicleFlag  \\\n",
       "count  122690.000000  122690.000000       122690.000000      122690.000000   \n",
       "mean       29.802967     137.288849            0.004988           0.163159   \n",
       "std        40.108429     400.711692            0.070451           0.369512   \n",
       "min         0.000000       0.000000            0.000000           0.000000   \n",
       "25%         3.000000     130.000000            0.000000           0.000000   \n",
       "50%         7.000000     130.000000            0.000000           0.000000   \n",
       "75%        90.000000     130.000000            0.000000           0.000000   \n",
       "max        99.000000  140000.000000            1.000000           1.000000   \n",
       "\n",
       "           TotalPaid     VehicleAge         ReceivedToRelease  \\\n",
       "count  122690.000000  122690.000000                    122690   \n",
       "mean      284.452843      17.925373   29 days 05:04:11.337517   \n",
       "std       272.789797       6.049497  102 days 07:26:34.652642   \n",
       "min         0.000000       1.000000      -3593 days +21:45:00   \n",
       "25%       140.000000      14.000000           1 days 16:15:00   \n",
       "50%       235.000000      18.000000           4 days 17:04:00   \n",
       "75%       326.000000      22.000000          21 days 00:00:30   \n",
       "max      6794.000000      94.000000        3063 days 23:08:00   \n",
       "\n",
       "       DaysTillReleased  \n",
       "count     122690.000000  \n",
       "mean          28.716024  \n",
       "std          101.754406  \n",
       "min            0.000000  \n",
       "25%            1.000000  \n",
       "50%            4.000000  \n",
       "75%           20.750000  \n",
       "max         3063.000000  "
      ]
     },
     "execution_count": 44,
     "metadata": {},
     "output_type": "execute_result"
    }
   ],
   "source": [
    "dfNew.describe()"
   ]
  },
  {
   "cell_type": "code",
   "execution_count": 45,
   "metadata": {},
   "outputs": [
    {
     "data": {
      "text/plain": [
       "Index(['PropertyNumber', 'TowedDateTime', 'PickupType', 'VehicleType',\n",
       "       'VehicleYear', 'VehicleMake', 'VehicleModel', 'VehicleColor',\n",
       "       'TagNumber', 'TagState', 'TowCompany', 'TowCharge', 'TowedFromLocation',\n",
       "       'HowTowed', 'SlingUsed', 'DollyUsed', 'rollBackUsed', 'pinPulled',\n",
       "       'pinReplaced', 'WheelLift', 'Stinger', 'ReceivingDateTime',\n",
       "       'StorageYard', 'StorageLocation', 'StorageTelephone',\n",
       "       'TitleRenounciation', 'RemovedFromYardDate', 'StolenVehicleFlag',\n",
       "       'Status', 'ReleaseDateTime', 'ReleaseType', 'TotalPaid', 'VehicleAge',\n",
       "       'ReceivedToRelease', 'DaysTillReleased'],\n",
       "      dtype='object')"
      ]
     },
     "execution_count": 45,
     "metadata": {},
     "output_type": "execute_result"
    }
   ],
   "source": [
    "dfNew.columns"
   ]
  },
  {
   "cell_type": "code",
   "execution_count": 46,
   "metadata": {},
   "outputs": [
    {
     "data": {
      "text/html": [
       "<div>\n",
       "<style scoped>\n",
       "    .dataframe tbody tr th:only-of-type {\n",
       "        vertical-align: middle;\n",
       "    }\n",
       "\n",
       "    .dataframe tbody tr th {\n",
       "        vertical-align: top;\n",
       "    }\n",
       "\n",
       "    .dataframe thead th {\n",
       "        text-align: right;\n",
       "    }\n",
       "</style>\n",
       "<table border=\"1\" class=\"dataframe\">\n",
       "  <thead>\n",
       "    <tr style=\"text-align: right;\">\n",
       "      <th></th>\n",
       "      <th>VehicleYear</th>\n",
       "      <th>TowCharge</th>\n",
       "      <th>TitleRenounciation</th>\n",
       "      <th>StolenVehicleFlag</th>\n",
       "      <th>TotalPaid</th>\n",
       "      <th>VehicleAge</th>\n",
       "      <th>DaysTillReleased</th>\n",
       "    </tr>\n",
       "  </thead>\n",
       "  <tbody>\n",
       "    <tr>\n",
       "      <th>VehicleYear</th>\n",
       "      <td>1.000000</td>\n",
       "      <td>-0.000414</td>\n",
       "      <td>0.033352</td>\n",
       "      <td>-0.023039</td>\n",
       "      <td>-0.110532</td>\n",
       "      <td>0.645336</td>\n",
       "      <td>0.038016</td>\n",
       "    </tr>\n",
       "    <tr>\n",
       "      <th>TowCharge</th>\n",
       "      <td>-0.000414</td>\n",
       "      <td>1.000000</td>\n",
       "      <td>-0.000107</td>\n",
       "      <td>0.000366</td>\n",
       "      <td>0.015545</td>\n",
       "      <td>0.002858</td>\n",
       "      <td>0.001587</td>\n",
       "    </tr>\n",
       "    <tr>\n",
       "      <th>TitleRenounciation</th>\n",
       "      <td>0.033352</td>\n",
       "      <td>-0.000107</td>\n",
       "      <td>1.000000</td>\n",
       "      <td>0.022902</td>\n",
       "      <td>0.006650</td>\n",
       "      <td>0.043597</td>\n",
       "      <td>0.047114</td>\n",
       "    </tr>\n",
       "    <tr>\n",
       "      <th>StolenVehicleFlag</th>\n",
       "      <td>-0.023039</td>\n",
       "      <td>0.000366</td>\n",
       "      <td>0.022902</td>\n",
       "      <td>1.000000</td>\n",
       "      <td>-0.133797</td>\n",
       "      <td>-0.027912</td>\n",
       "      <td>-0.040298</td>\n",
       "    </tr>\n",
       "    <tr>\n",
       "      <th>TotalPaid</th>\n",
       "      <td>-0.110532</td>\n",
       "      <td>0.015545</td>\n",
       "      <td>0.006650</td>\n",
       "      <td>-0.133797</td>\n",
       "      <td>1.000000</td>\n",
       "      <td>-0.156874</td>\n",
       "      <td>-0.144783</td>\n",
       "    </tr>\n",
       "    <tr>\n",
       "      <th>VehicleAge</th>\n",
       "      <td>0.645336</td>\n",
       "      <td>0.002858</td>\n",
       "      <td>0.043597</td>\n",
       "      <td>-0.027912</td>\n",
       "      <td>-0.156874</td>\n",
       "      <td>1.000000</td>\n",
       "      <td>0.084797</td>\n",
       "    </tr>\n",
       "    <tr>\n",
       "      <th>DaysTillReleased</th>\n",
       "      <td>0.038016</td>\n",
       "      <td>0.001587</td>\n",
       "      <td>0.047114</td>\n",
       "      <td>-0.040298</td>\n",
       "      <td>-0.144783</td>\n",
       "      <td>0.084797</td>\n",
       "      <td>1.000000</td>\n",
       "    </tr>\n",
       "  </tbody>\n",
       "</table>\n",
       "</div>"
      ],
      "text/plain": [
       "                    VehicleYear  TowCharge  TitleRenounciation  \\\n",
       "VehicleYear            1.000000  -0.000414            0.033352   \n",
       "TowCharge             -0.000414   1.000000           -0.000107   \n",
       "TitleRenounciation     0.033352  -0.000107            1.000000   \n",
       "StolenVehicleFlag     -0.023039   0.000366            0.022902   \n",
       "TotalPaid             -0.110532   0.015545            0.006650   \n",
       "VehicleAge             0.645336   0.002858            0.043597   \n",
       "DaysTillReleased       0.038016   0.001587            0.047114   \n",
       "\n",
       "                    StolenVehicleFlag  TotalPaid  VehicleAge  DaysTillReleased  \n",
       "VehicleYear                 -0.023039  -0.110532    0.645336          0.038016  \n",
       "TowCharge                    0.000366   0.015545    0.002858          0.001587  \n",
       "TitleRenounciation           0.022902   0.006650    0.043597          0.047114  \n",
       "StolenVehicleFlag            1.000000  -0.133797   -0.027912         -0.040298  \n",
       "TotalPaid                   -0.133797   1.000000   -0.156874         -0.144783  \n",
       "VehicleAge                  -0.027912  -0.156874    1.000000          0.084797  \n",
       "DaysTillReleased            -0.040298  -0.144783    0.084797          1.000000  "
      ]
     },
     "execution_count": 46,
     "metadata": {},
     "output_type": "execute_result"
    }
   ],
   "source": [
    "dfNew.corr()"
   ]
  },
  {
   "cell_type": "code",
   "execution_count": 47,
   "metadata": {},
   "outputs": [
    {
     "data": {
      "text/html": [
       "<div>\n",
       "<style scoped>\n",
       "    .dataframe tbody tr th:only-of-type {\n",
       "        vertical-align: middle;\n",
       "    }\n",
       "\n",
       "    .dataframe tbody tr th {\n",
       "        vertical-align: top;\n",
       "    }\n",
       "\n",
       "    .dataframe thead th {\n",
       "        text-align: right;\n",
       "    }\n",
       "</style>\n",
       "<table border=\"1\" class=\"dataframe\">\n",
       "  <thead>\n",
       "    <tr style=\"text-align: right;\">\n",
       "      <th>col_0</th>\n",
       "      <th>count</th>\n",
       "    </tr>\n",
       "    <tr>\n",
       "      <th>ReleaseType</th>\n",
       "      <th></th>\n",
       "    </tr>\n",
       "  </thead>\n",
       "  <tbody>\n",
       "    <tr>\n",
       "      <th>False</th>\n",
       "      <td>101363</td>\n",
       "    </tr>\n",
       "    <tr>\n",
       "      <th>True</th>\n",
       "      <td>21327</td>\n",
       "    </tr>\n",
       "  </tbody>\n",
       "</table>\n",
       "</div>"
      ],
      "text/plain": [
       "col_0         count\n",
       "ReleaseType        \n",
       "False        101363\n",
       "True          21327"
      ]
     },
     "execution_count": 47,
     "metadata": {},
     "output_type": "execute_result"
    }
   ],
   "source": [
    "pd.crosstab((dfNew['ReleaseType']=='Auctioned'), columns='count')"
   ]
  },
  {
   "cell_type": "code",
   "execution_count": 48,
   "metadata": {},
   "outputs": [
    {
     "data": {
      "text/plain": [
       "0.17382834786861195"
      ]
     },
     "execution_count": 48,
     "metadata": {},
     "output_type": "execute_result"
    }
   ],
   "source": [
    "21327/(101363+21327)"
   ]
  },
  {
   "cell_type": "markdown",
   "metadata": {},
   "source": [
    "17.3% of cars that are towed are auctioned."
   ]
  },
  {
   "cell_type": "code",
   "execution_count": 49,
   "metadata": {},
   "outputs": [],
   "source": [
    "y= (dfNew['ReleaseType']=='Auctioned').apply(lambda x: int(x))"
   ]
  },
  {
   "cell_type": "code",
   "execution_count": 50,
   "metadata": {},
   "outputs": [
    {
     "data": {
      "text/plain": [
       "50214    0\n",
       "50215    0\n",
       "50216    0\n",
       "50218    0\n",
       "50219    0\n",
       "Name: ReleaseType, dtype: int64"
      ]
     },
     "execution_count": 50,
     "metadata": {},
     "output_type": "execute_result"
    }
   ],
   "source": [
    "y.head()"
   ]
  },
  {
   "cell_type": "markdown",
   "metadata": {},
   "source": [
    "Columns to include: PickupType, VehicleType, TagState, TowCompany, TowCharge, HowTowed,TitleRenounciation, StolenVehicleFlag, TotalPaid, VehicleAge, DaysTillReleased"
   ]
  },
  {
   "cell_type": "code",
   "execution_count": 51,
   "metadata": {},
   "outputs": [],
   "source": [
    "X = pd.DataFrame({'Const':1,\n",
    "                'TowCharge':dfNew['TowCharge'], \n",
    "                'TitleRenounciation':dfNew['TitleRenounciation'],\n",
    "                'StolenVehicleFlag':dfNew['StolenVehicleFlag'],\n",
    "                'TotalPaid':dfNew['TotalPaid'],\n",
    "                'VehicleAge':dfNew['VehicleAge'], \n",
    "                'DaysTillReleased':dfNew['DaysTillReleased']})"
   ]
  },
  {
   "cell_type": "code",
   "execution_count": 52,
   "metadata": {},
   "outputs": [],
   "source": [
    "X = pd.concat([X, pd.get_dummies(dfNew['VehicleType'])], axis=1)\n",
    "X = X.drop(dfNew[\"VehicleType\"].value_counts().index[6:], axis=1)"
   ]
  },
  {
   "cell_type": "code",
   "execution_count": 53,
   "metadata": {},
   "outputs": [],
   "source": [
    "X = pd.concat([X, pd.get_dummies(dfNew['HowTowed'])], axis=1)\n",
    "X = X.drop(['Partial/Multiple'], axis=1)"
   ]
  },
  {
   "cell_type": "code",
   "execution_count": 54,
   "metadata": {},
   "outputs": [
    {
     "data": {
      "text/plain": [
       "Police Action (Misc.)                               23508\n",
       "Accident                                            20213\n",
       "Stolen Recovered                                    17879\n",
       "Scofflaw                                            13773\n",
       "Accident (Owner/Operator Hospitalized)              11118\n",
       "Police Action (Arrest of Operator)                  10008\n",
       "Police Action (Narcotic)                             8640\n",
       "Abandoned (Towed by City)                            6727\n",
       "Impound (Illegal Parking)                            5798\n",
       "Burns                                                1467\n",
       "Police Action                                        1365\n",
       "Abandoned (Towed by Private Tower)                    576\n",
       "ACCIDENT                                              381\n",
       "Relocate                                              291\n",
       "STOLEN POLICE HOLD                                    212\n",
       "street cleaning                                       194\n",
       "Stolen Recovered (Car Jacking Victim)                 143\n",
       "Impound/Scofflaw                                      111\n",
       "Accident (Death of Operator)                           83\n",
       "Commercial Vehicle Restriction                         67\n",
       "Police Action (Victim of Crime)                        59\n",
       "Police Action (Death of Operator)                      53\n",
       "Police Action (Serial Number Violation)                11\n",
       "misc holds                                              5\n",
       "Remove Abandoned Vehicles Everywhere (Voluntary)        5\n",
       "Unknown                                                 2\n",
       "Disabled                                                1\n",
       "Name: PickupType, dtype: int64"
      ]
     },
     "execution_count": 54,
     "metadata": {},
     "output_type": "execute_result"
    }
   ],
   "source": [
    "dfNew[\"PickupType\"].value_counts()\n",
    "#[6:]"
   ]
  },
  {
   "cell_type": "code",
   "execution_count": 55,
   "metadata": {},
   "outputs": [],
   "source": [
    "X = pd.concat([X, pd.get_dummies(dfNew['TowCompany'])], axis=1)\n",
    "X = X.drop(dfNew[\"TowCompany\"].value_counts().index[4:], axis=1)"
   ]
  },
  {
   "cell_type": "code",
   "execution_count": 56,
   "metadata": {},
   "outputs": [],
   "source": [
    "X = pd.concat([X, pd.get_dummies(dfNew['TagState'])], axis=1)\n",
    "X = X.drop(dfNew[\"TagState\"].value_counts().index[3:], axis=1)"
   ]
  },
  {
   "cell_type": "code",
   "execution_count": 57,
   "metadata": {},
   "outputs": [],
   "source": [
    "X = pd.concat([X, pd.get_dummies(dfNew['PickupType'])], axis=1)\n",
    "X = X.drop(dfNew[\"PickupType\"].value_counts().index[5:], axis=1)"
   ]
  },
  {
   "cell_type": "code",
   "execution_count": 58,
   "metadata": {},
   "outputs": [
    {
     "data": {
      "text/html": [
       "<div>\n",
       "<style scoped>\n",
       "    .dataframe tbody tr th:only-of-type {\n",
       "        vertical-align: middle;\n",
       "    }\n",
       "\n",
       "    .dataframe tbody tr th {\n",
       "        vertical-align: top;\n",
       "    }\n",
       "\n",
       "    .dataframe thead th {\n",
       "        text-align: right;\n",
       "    }\n",
       "</style>\n",
       "<table border=\"1\" class=\"dataframe\">\n",
       "  <thead>\n",
       "    <tr style=\"text-align: right;\">\n",
       "      <th></th>\n",
       "      <th>120440</th>\n",
       "      <th>75207</th>\n",
       "    </tr>\n",
       "  </thead>\n",
       "  <tbody>\n",
       "    <tr>\n",
       "      <th>Const</th>\n",
       "      <td>1.0</td>\n",
       "      <td>1.0</td>\n",
       "    </tr>\n",
       "    <tr>\n",
       "      <th>TowCharge</th>\n",
       "      <td>130.0</td>\n",
       "      <td>130.0</td>\n",
       "    </tr>\n",
       "    <tr>\n",
       "      <th>TitleRenounciation</th>\n",
       "      <td>0.0</td>\n",
       "      <td>0.0</td>\n",
       "    </tr>\n",
       "    <tr>\n",
       "      <th>StolenVehicleFlag</th>\n",
       "      <td>0.0</td>\n",
       "      <td>0.0</td>\n",
       "    </tr>\n",
       "    <tr>\n",
       "      <th>TotalPaid</th>\n",
       "      <td>0.0</td>\n",
       "      <td>220.0</td>\n",
       "    </tr>\n",
       "    <tr>\n",
       "      <th>VehicleAge</th>\n",
       "      <td>22.0</td>\n",
       "      <td>26.0</td>\n",
       "    </tr>\n",
       "    <tr>\n",
       "      <th>DaysTillReleased</th>\n",
       "      <td>49.0</td>\n",
       "      <td>2.0</td>\n",
       "    </tr>\n",
       "    <tr>\n",
       "      <th>Car</th>\n",
       "      <td>0.0</td>\n",
       "      <td>1.0</td>\n",
       "    </tr>\n",
       "    <tr>\n",
       "      <th>Pick-up Truck</th>\n",
       "      <td>1.0</td>\n",
       "      <td>0.0</td>\n",
       "    </tr>\n",
       "    <tr>\n",
       "      <th>SUV</th>\n",
       "      <td>0.0</td>\n",
       "      <td>0.0</td>\n",
       "    </tr>\n",
       "    <tr>\n",
       "      <th>Station Wagon</th>\n",
       "      <td>0.0</td>\n",
       "      <td>0.0</td>\n",
       "    </tr>\n",
       "    <tr>\n",
       "      <th>Truck</th>\n",
       "      <td>0.0</td>\n",
       "      <td>0.0</td>\n",
       "    </tr>\n",
       "    <tr>\n",
       "      <th>Van</th>\n",
       "      <td>0.0</td>\n",
       "      <td>0.0</td>\n",
       "    </tr>\n",
       "    <tr>\n",
       "      <th>Front</th>\n",
       "      <td>1.0</td>\n",
       "      <td>1.0</td>\n",
       "    </tr>\n",
       "    <tr>\n",
       "      <th>Rear</th>\n",
       "      <td>0.0</td>\n",
       "      <td>0.0</td>\n",
       "    </tr>\n",
       "    <tr>\n",
       "      <th>Bermans</th>\n",
       "      <td>0.0</td>\n",
       "      <td>0.0</td>\n",
       "    </tr>\n",
       "    <tr>\n",
       "      <th>City</th>\n",
       "      <td>1.0</td>\n",
       "      <td>0.0</td>\n",
       "    </tr>\n",
       "    <tr>\n",
       "      <th>Frankford</th>\n",
       "      <td>0.0</td>\n",
       "      <td>0.0</td>\n",
       "    </tr>\n",
       "    <tr>\n",
       "      <th>Universal</th>\n",
       "      <td>0.0</td>\n",
       "      <td>0.0</td>\n",
       "    </tr>\n",
       "    <tr>\n",
       "      <th>MD</th>\n",
       "      <td>1.0</td>\n",
       "      <td>1.0</td>\n",
       "    </tr>\n",
       "    <tr>\n",
       "      <th>PA</th>\n",
       "      <td>0.0</td>\n",
       "      <td>0.0</td>\n",
       "    </tr>\n",
       "    <tr>\n",
       "      <th>VA</th>\n",
       "      <td>0.0</td>\n",
       "      <td>0.0</td>\n",
       "    </tr>\n",
       "    <tr>\n",
       "      <th>Accident</th>\n",
       "      <td>0.0</td>\n",
       "      <td>0.0</td>\n",
       "    </tr>\n",
       "    <tr>\n",
       "      <th>Accident (Owner/Operator Hospitalized)</th>\n",
       "      <td>0.0</td>\n",
       "      <td>0.0</td>\n",
       "    </tr>\n",
       "    <tr>\n",
       "      <th>Police Action (Misc.)</th>\n",
       "      <td>0.0</td>\n",
       "      <td>1.0</td>\n",
       "    </tr>\n",
       "    <tr>\n",
       "      <th>Scofflaw</th>\n",
       "      <td>0.0</td>\n",
       "      <td>0.0</td>\n",
       "    </tr>\n",
       "    <tr>\n",
       "      <th>Stolen Recovered</th>\n",
       "      <td>0.0</td>\n",
       "      <td>0.0</td>\n",
       "    </tr>\n",
       "  </tbody>\n",
       "</table>\n",
       "</div>"
      ],
      "text/plain": [
       "                                        120440  75207 \n",
       "Const                                      1.0     1.0\n",
       "TowCharge                                130.0   130.0\n",
       "TitleRenounciation                         0.0     0.0\n",
       "StolenVehicleFlag                          0.0     0.0\n",
       "TotalPaid                                  0.0   220.0\n",
       "VehicleAge                                22.0    26.0\n",
       "DaysTillReleased                          49.0     2.0\n",
       "Car                                        0.0     1.0\n",
       "Pick-up Truck                              1.0     0.0\n",
       "SUV                                        0.0     0.0\n",
       "Station Wagon                              0.0     0.0\n",
       "Truck                                      0.0     0.0\n",
       "Van                                        0.0     0.0\n",
       "Front                                      1.0     1.0\n",
       "Rear                                       0.0     0.0\n",
       "Bermans                                    0.0     0.0\n",
       "City                                       1.0     0.0\n",
       "Frankford                                  0.0     0.0\n",
       "Universal                                  0.0     0.0\n",
       "MD                                         1.0     1.0\n",
       "PA                                         0.0     0.0\n",
       "VA                                         0.0     0.0\n",
       "Accident                                   0.0     0.0\n",
       "Accident (Owner/Operator Hospitalized)     0.0     0.0\n",
       "Police Action (Misc.)                      0.0     1.0\n",
       "Scofflaw                                   0.0     0.0\n",
       "Stolen Recovered                           0.0     0.0"
      ]
     },
     "execution_count": 58,
     "metadata": {},
     "output_type": "execute_result"
    }
   ],
   "source": [
    "X.sample(2).transpose()"
   ]
  },
  {
   "cell_type": "code",
   "execution_count": 59,
   "metadata": {},
   "outputs": [],
   "source": [
    "import statsmodels.api as sm"
   ]
  },
  {
   "cell_type": "markdown",
   "metadata": {},
   "source": [
    "#### Logistic Regression Model"
   ]
  },
  {
   "cell_type": "code",
   "execution_count": 60,
   "metadata": {},
   "outputs": [
    {
     "name": "stdout",
     "output_type": "stream",
     "text": [
      "Optimization terminated successfully.\n",
      "         Current function value: 0.045223\n",
      "         Iterations 12\n"
     ]
    },
    {
     "data": {
      "text/html": [
       "<table class=\"simpletable\">\n",
       "<caption>Logit Regression Results</caption>\n",
       "<tr>\n",
       "  <th>Dep. Variable:</th>      <td>ReleaseType</td>   <th>  No. Observations:  </th>  <td>122690</td> \n",
       "</tr>\n",
       "<tr>\n",
       "  <th>Model:</th>                 <td>Logit</td>      <th>  Df Residuals:      </th>  <td>122663</td> \n",
       "</tr>\n",
       "<tr>\n",
       "  <th>Method:</th>                 <td>MLE</td>       <th>  Df Model:          </th>  <td>    26</td> \n",
       "</tr>\n",
       "<tr>\n",
       "  <th>Date:</th>            <td>Fri, 03 Dec 2021</td> <th>  Pseudo R-squ.:     </th>  <td>0.9021</td> \n",
       "</tr>\n",
       "<tr>\n",
       "  <th>Time:</th>                <td>07:20:25</td>     <th>  Log-Likelihood:    </th> <td> -5548.4</td>\n",
       "</tr>\n",
       "<tr>\n",
       "  <th>converged:</th>             <td>True</td>       <th>  LL-Null:           </th> <td> -56671.</td>\n",
       "</tr>\n",
       "<tr>\n",
       "  <th>Covariance Type:</th>     <td>nonrobust</td>    <th>  LLR p-value:       </th>  <td> 0.000</td> \n",
       "</tr>\n",
       "</table>\n",
       "<table class=\"simpletable\">\n",
       "<tr>\n",
       "                     <td></td>                       <th>coef</th>     <th>std err</th>      <th>z</th>      <th>P>|z|</th>  <th>[0.025</th>    <th>0.975]</th>  \n",
       "</tr>\n",
       "<tr>\n",
       "  <th>Const</th>                                  <td>   -0.1477</td> <td>    0.380</td> <td>   -0.389</td> <td> 0.697</td> <td>   -0.892</td> <td>    0.597</td>\n",
       "</tr>\n",
       "<tr>\n",
       "  <th>TowCharge</th>                              <td>    0.0002</td> <td> 3.12e-05</td> <td>    7.703</td> <td> 0.000</td> <td>    0.000</td> <td>    0.000</td>\n",
       "</tr>\n",
       "<tr>\n",
       "  <th>TitleRenounciation</th>                     <td>   37.8210</td> <td>    1.059</td> <td>   35.710</td> <td> 0.000</td> <td>   35.745</td> <td>   39.897</td>\n",
       "</tr>\n",
       "<tr>\n",
       "  <th>StolenVehicleFlag</th>                      <td>   -1.1044</td> <td>    0.136</td> <td>   -8.110</td> <td> 0.000</td> <td>   -1.371</td> <td>   -0.838</td>\n",
       "</tr>\n",
       "<tr>\n",
       "  <th>TotalPaid</th>                              <td>   -0.0433</td> <td>    0.001</td> <td>  -84.369</td> <td> 0.000</td> <td>   -0.044</td> <td>   -0.042</td>\n",
       "</tr>\n",
       "<tr>\n",
       "  <th>VehicleAge</th>                             <td>    0.0515</td> <td>    0.005</td> <td>   10.395</td> <td> 0.000</td> <td>    0.042</td> <td>    0.061</td>\n",
       "</tr>\n",
       "<tr>\n",
       "  <th>DaysTillReleased</th>                       <td>   -0.0004</td> <td>    0.000</td> <td>   -3.995</td> <td> 0.000</td> <td>   -0.001</td> <td>   -0.000</td>\n",
       "</tr>\n",
       "<tr>\n",
       "  <th>Car</th>                                    <td>    2.2391</td> <td>    0.119</td> <td>   18.797</td> <td> 0.000</td> <td>    2.006</td> <td>    2.473</td>\n",
       "</tr>\n",
       "<tr>\n",
       "  <th>Pick-up Truck</th>                          <td>    2.0440</td> <td>    0.169</td> <td>   12.072</td> <td> 0.000</td> <td>    1.712</td> <td>    2.376</td>\n",
       "</tr>\n",
       "<tr>\n",
       "  <th>SUV</th>                                    <td>    2.2404</td> <td>    0.137</td> <td>   16.369</td> <td> 0.000</td> <td>    1.972</td> <td>    2.509</td>\n",
       "</tr>\n",
       "<tr>\n",
       "  <th>Station Wagon</th>                          <td>    2.7343</td> <td>    0.261</td> <td>   10.482</td> <td> 0.000</td> <td>    2.223</td> <td>    3.246</td>\n",
       "</tr>\n",
       "<tr>\n",
       "  <th>Truck</th>                                  <td>    2.2957</td> <td>    0.553</td> <td>    4.148</td> <td> 0.000</td> <td>    1.211</td> <td>    3.380</td>\n",
       "</tr>\n",
       "<tr>\n",
       "  <th>Van</th>                                    <td>    2.4728</td> <td>    0.139</td> <td>   17.822</td> <td> 0.000</td> <td>    2.201</td> <td>    2.745</td>\n",
       "</tr>\n",
       "<tr>\n",
       "  <th>Front</th>                                  <td>   -0.4354</td> <td>    0.369</td> <td>   -1.180</td> <td> 0.238</td> <td>   -1.159</td> <td>    0.288</td>\n",
       "</tr>\n",
       "<tr>\n",
       "  <th>Rear</th>                                   <td>   -0.3049</td> <td>    0.374</td> <td>   -0.816</td> <td> 0.415</td> <td>   -1.037</td> <td>    0.428</td>\n",
       "</tr>\n",
       "<tr>\n",
       "  <th>Bermans</th>                                <td>   -0.3562</td> <td>    0.119</td> <td>   -2.993</td> <td> 0.003</td> <td>   -0.590</td> <td>   -0.123</td>\n",
       "</tr>\n",
       "<tr>\n",
       "  <th>City</th>                                   <td>    0.4783</td> <td>    0.084</td> <td>    5.716</td> <td> 0.000</td> <td>    0.314</td> <td>    0.642</td>\n",
       "</tr>\n",
       "<tr>\n",
       "  <th>Frankford</th>                              <td>   -0.2089</td> <td>    0.081</td> <td>   -2.577</td> <td> 0.010</td> <td>   -0.368</td> <td>   -0.050</td>\n",
       "</tr>\n",
       "<tr>\n",
       "  <th>Universal</th>                              <td>    0.2704</td> <td>    0.103</td> <td>    2.624</td> <td> 0.009</td> <td>    0.068</td> <td>    0.472</td>\n",
       "</tr>\n",
       "<tr>\n",
       "  <th>MD</th>                                     <td>   -0.3533</td> <td>    0.107</td> <td>   -3.315</td> <td> 0.001</td> <td>   -0.562</td> <td>   -0.144</td>\n",
       "</tr>\n",
       "<tr>\n",
       "  <th>PA</th>                                     <td>    0.4003</td> <td>    0.218</td> <td>    1.835</td> <td> 0.066</td> <td>   -0.027</td> <td>    0.828</td>\n",
       "</tr>\n",
       "<tr>\n",
       "  <th>VA</th>                                     <td>   -0.0123</td> <td>    0.195</td> <td>   -0.063</td> <td> 0.950</td> <td>   -0.394</td> <td>    0.369</td>\n",
       "</tr>\n",
       "<tr>\n",
       "  <th>Accident</th>                               <td>    2.0255</td> <td>    0.148</td> <td>   13.648</td> <td> 0.000</td> <td>    1.735</td> <td>    2.316</td>\n",
       "</tr>\n",
       "<tr>\n",
       "  <th>Accident (Owner/Operator Hospitalized)</th> <td>    1.8015</td> <td>    0.185</td> <td>    9.738</td> <td> 0.000</td> <td>    1.439</td> <td>    2.164</td>\n",
       "</tr>\n",
       "<tr>\n",
       "  <th>Police Action (Misc.) </th>                 <td>    1.0289</td> <td>    0.101</td> <td>   10.203</td> <td> 0.000</td> <td>    0.831</td> <td>    1.227</td>\n",
       "</tr>\n",
       "<tr>\n",
       "  <th>Scofflaw</th>                               <td>    0.3719</td> <td>    0.089</td> <td>    4.169</td> <td> 0.000</td> <td>    0.197</td> <td>    0.547</td>\n",
       "</tr>\n",
       "<tr>\n",
       "  <th>Stolen Recovered</th>                       <td>    0.2806</td> <td>    0.151</td> <td>    1.865</td> <td> 0.062</td> <td>   -0.014</td> <td>    0.576</td>\n",
       "</tr>\n",
       "</table><br/><br/>Possibly complete quasi-separation: A fraction 0.34 of observations can be<br/>perfectly predicted. This might indicate that there is complete<br/>quasi-separation. In this case some parameters will not be identified."
      ],
      "text/plain": [
       "<class 'statsmodels.iolib.summary.Summary'>\n",
       "\"\"\"\n",
       "                           Logit Regression Results                           \n",
       "==============================================================================\n",
       "Dep. Variable:            ReleaseType   No. Observations:               122690\n",
       "Model:                          Logit   Df Residuals:                   122663\n",
       "Method:                           MLE   Df Model:                           26\n",
       "Date:                Fri, 03 Dec 2021   Pseudo R-squ.:                  0.9021\n",
       "Time:                        07:20:25   Log-Likelihood:                -5548.4\n",
       "converged:                       True   LL-Null:                       -56671.\n",
       "Covariance Type:            nonrobust   LLR p-value:                     0.000\n",
       "==========================================================================================================\n",
       "                                             coef    std err          z      P>|z|      [0.025      0.975]\n",
       "----------------------------------------------------------------------------------------------------------\n",
       "Const                                     -0.1477      0.380     -0.389      0.697      -0.892       0.597\n",
       "TowCharge                                  0.0002   3.12e-05      7.703      0.000       0.000       0.000\n",
       "TitleRenounciation                        37.8210      1.059     35.710      0.000      35.745      39.897\n",
       "StolenVehicleFlag                         -1.1044      0.136     -8.110      0.000      -1.371      -0.838\n",
       "TotalPaid                                 -0.0433      0.001    -84.369      0.000      -0.044      -0.042\n",
       "VehicleAge                                 0.0515      0.005     10.395      0.000       0.042       0.061\n",
       "DaysTillReleased                          -0.0004      0.000     -3.995      0.000      -0.001      -0.000\n",
       "Car                                        2.2391      0.119     18.797      0.000       2.006       2.473\n",
       "Pick-up Truck                              2.0440      0.169     12.072      0.000       1.712       2.376\n",
       "SUV                                        2.2404      0.137     16.369      0.000       1.972       2.509\n",
       "Station Wagon                              2.7343      0.261     10.482      0.000       2.223       3.246\n",
       "Truck                                      2.2957      0.553      4.148      0.000       1.211       3.380\n",
       "Van                                        2.4728      0.139     17.822      0.000       2.201       2.745\n",
       "Front                                     -0.4354      0.369     -1.180      0.238      -1.159       0.288\n",
       "Rear                                      -0.3049      0.374     -0.816      0.415      -1.037       0.428\n",
       "Bermans                                   -0.3562      0.119     -2.993      0.003      -0.590      -0.123\n",
       "City                                       0.4783      0.084      5.716      0.000       0.314       0.642\n",
       "Frankford                                 -0.2089      0.081     -2.577      0.010      -0.368      -0.050\n",
       "Universal                                  0.2704      0.103      2.624      0.009       0.068       0.472\n",
       "MD                                        -0.3533      0.107     -3.315      0.001      -0.562      -0.144\n",
       "PA                                         0.4003      0.218      1.835      0.066      -0.027       0.828\n",
       "VA                                        -0.0123      0.195     -0.063      0.950      -0.394       0.369\n",
       "Accident                                   2.0255      0.148     13.648      0.000       1.735       2.316\n",
       "Accident (Owner/Operator Hospitalized)     1.8015      0.185      9.738      0.000       1.439       2.164\n",
       "Police Action (Misc.)                      1.0289      0.101     10.203      0.000       0.831       1.227\n",
       "Scofflaw                                   0.3719      0.089      4.169      0.000       0.197       0.547\n",
       "Stolen Recovered                           0.2806      0.151      1.865      0.062      -0.014       0.576\n",
       "==========================================================================================================\n",
       "\n",
       "Possibly complete quasi-separation: A fraction 0.34 of observations can be\n",
       "perfectly predicted. This might indicate that there is complete\n",
       "quasi-separation. In this case some parameters will not be identified.\n",
       "\"\"\""
      ]
     },
     "execution_count": 60,
     "metadata": {},
     "output_type": "execute_result"
    }
   ],
   "source": [
    "mod = sm.Logit(y,X)\n",
    "fit = mod.fit()\n",
    "fit.summary()"
   ]
  },
  {
   "cell_type": "code",
   "execution_count": 61,
   "metadata": {},
   "outputs": [
    {
     "data": {
      "text/html": [
       "<table class=\"simpletable\">\n",
       "<caption>Logit Marginal Effects</caption>\n",
       "<tr>\n",
       "  <th>Dep. Variable:</th> <td>ReleaseType</td>\n",
       "</tr>\n",
       "<tr>\n",
       "  <th>Method:</th>           <td>dydx</td>    \n",
       "</tr>\n",
       "<tr>\n",
       "  <th>At:</th>              <td>overall</td>  \n",
       "</tr>\n",
       "</table>\n",
       "<table class=\"simpletable\">\n",
       "<tr>\n",
       "                     <th></th>                       <th>dy/dx</th>    <th>std err</th>      <th>z</th>      <th>P>|z|</th>  <th>[0.025</th>    <th>0.975]</th>  \n",
       "</tr>\n",
       "<tr>\n",
       "  <th>TowCharge</th>                              <td> 2.571e-06</td> <td> 3.36e-07</td> <td>    7.657</td> <td> 0.000</td> <td> 1.91e-06</td> <td> 3.23e-06</td>\n",
       "</tr>\n",
       "<tr>\n",
       "  <th>TitleRenounciation</th>                     <td>    0.4042</td> <td>    0.013</td> <td>   32.012</td> <td> 0.000</td> <td>    0.379</td> <td>    0.429</td>\n",
       "</tr>\n",
       "<tr>\n",
       "  <th>StolenVehicleFlag</th>                      <td>   -0.0118</td> <td>    0.001</td> <td>   -8.063</td> <td> 0.000</td> <td>   -0.015</td> <td>   -0.009</td>\n",
       "</tr>\n",
       "<tr>\n",
       "  <th>TotalPaid</th>                              <td>   -0.0005</td> <td> 8.34e-06</td> <td>  -55.485</td> <td> 0.000</td> <td>   -0.000</td> <td>   -0.000</td>\n",
       "</tr>\n",
       "<tr>\n",
       "  <th>VehicleAge</th>                             <td>    0.0006</td> <td> 5.37e-05</td> <td>   10.239</td> <td> 0.000</td> <td>    0.000</td> <td>    0.001</td>\n",
       "</tr>\n",
       "<tr>\n",
       "  <th>DaysTillReleased</th>                       <td>-4.518e-06</td> <td> 1.13e-06</td> <td>   -3.987</td> <td> 0.000</td> <td>-6.74e-06</td> <td> -2.3e-06</td>\n",
       "</tr>\n",
       "<tr>\n",
       "  <th>Car</th>                                    <td>    0.0239</td> <td>    0.001</td> <td>   18.352</td> <td> 0.000</td> <td>    0.021</td> <td>    0.026</td>\n",
       "</tr>\n",
       "<tr>\n",
       "  <th>Pick-up Truck</th>                          <td>    0.0218</td> <td>    0.002</td> <td>   11.960</td> <td> 0.000</td> <td>    0.018</td> <td>    0.025</td>\n",
       "</tr>\n",
       "<tr>\n",
       "  <th>SUV</th>                                    <td>    0.0239</td> <td>    0.001</td> <td>   16.065</td> <td> 0.000</td> <td>    0.021</td> <td>    0.027</td>\n",
       "</tr>\n",
       "<tr>\n",
       "  <th>Station Wagon</th>                          <td>    0.0292</td> <td>    0.003</td> <td>   10.376</td> <td> 0.000</td> <td>    0.024</td> <td>    0.035</td>\n",
       "</tr>\n",
       "<tr>\n",
       "  <th>Truck</th>                                  <td>    0.0245</td> <td>    0.006</td> <td>    4.143</td> <td> 0.000</td> <td>    0.013</td> <td>    0.036</td>\n",
       "</tr>\n",
       "<tr>\n",
       "  <th>Van</th>                                    <td>    0.0264</td> <td>    0.002</td> <td>   17.364</td> <td> 0.000</td> <td>    0.023</td> <td>    0.029</td>\n",
       "</tr>\n",
       "<tr>\n",
       "  <th>Front</th>                                  <td>   -0.0047</td> <td>    0.004</td> <td>   -1.179</td> <td> 0.238</td> <td>   -0.012</td> <td>    0.003</td>\n",
       "</tr>\n",
       "<tr>\n",
       "  <th>Rear</th>                                   <td>   -0.0033</td> <td>    0.004</td> <td>   -0.816</td> <td> 0.415</td> <td>   -0.011</td> <td>    0.005</td>\n",
       "</tr>\n",
       "<tr>\n",
       "  <th>Bermans</th>                                <td>   -0.0038</td> <td>    0.001</td> <td>   -2.988</td> <td> 0.003</td> <td>   -0.006</td> <td>   -0.001</td>\n",
       "</tr>\n",
       "<tr>\n",
       "  <th>City</th>                                   <td>    0.0051</td> <td>    0.001</td> <td>    5.690</td> <td> 0.000</td> <td>    0.003</td> <td>    0.007</td>\n",
       "</tr>\n",
       "<tr>\n",
       "  <th>Frankford</th>                              <td>   -0.0022</td> <td>    0.001</td> <td>   -2.575</td> <td> 0.010</td> <td>   -0.004</td> <td>   -0.001</td>\n",
       "</tr>\n",
       "<tr>\n",
       "  <th>Universal</th>                              <td>    0.0029</td> <td>    0.001</td> <td>    2.621</td> <td> 0.009</td> <td>    0.001</td> <td>    0.005</td>\n",
       "</tr>\n",
       "<tr>\n",
       "  <th>MD</th>                                     <td>   -0.0038</td> <td>    0.001</td> <td>   -3.310</td> <td> 0.001</td> <td>   -0.006</td> <td>   -0.002</td>\n",
       "</tr>\n",
       "<tr>\n",
       "  <th>PA</th>                                     <td>    0.0043</td> <td>    0.002</td> <td>    1.834</td> <td> 0.067</td> <td>   -0.000</td> <td>    0.009</td>\n",
       "</tr>\n",
       "<tr>\n",
       "  <th>VA</th>                                     <td>   -0.0001</td> <td>    0.002</td> <td>   -0.063</td> <td> 0.950</td> <td>   -0.004</td> <td>    0.004</td>\n",
       "</tr>\n",
       "<tr>\n",
       "  <th>Accident</th>                               <td>    0.0216</td> <td>    0.002</td> <td>   13.305</td> <td> 0.000</td> <td>    0.018</td> <td>    0.025</td>\n",
       "</tr>\n",
       "<tr>\n",
       "  <th>Accident (Owner/Operator Hospitalized)</th> <td>    0.0193</td> <td>    0.002</td> <td>    9.616</td> <td> 0.000</td> <td>    0.015</td> <td>    0.023</td>\n",
       "</tr>\n",
       "<tr>\n",
       "  <th>Police Action (Misc.) </th>                 <td>    0.0110</td> <td>    0.001</td> <td>   10.060</td> <td> 0.000</td> <td>    0.009</td> <td>    0.013</td>\n",
       "</tr>\n",
       "<tr>\n",
       "  <th>Scofflaw</th>                               <td>    0.0040</td> <td>    0.001</td> <td>    4.156</td> <td> 0.000</td> <td>    0.002</td> <td>    0.006</td>\n",
       "</tr>\n",
       "<tr>\n",
       "  <th>Stolen Recovered</th>                       <td>    0.0030</td> <td>    0.002</td> <td>    1.861</td> <td> 0.063</td> <td>   -0.000</td> <td>    0.006</td>\n",
       "</tr>\n",
       "</table>"
      ],
      "text/plain": [
       "<class 'statsmodels.iolib.summary.Summary'>\n",
       "\"\"\"\n",
       "        Logit Marginal Effects       \n",
       "=====================================\n",
       "Dep. Variable:            ReleaseType\n",
       "Method:                          dydx\n",
       "At:                           overall\n",
       "==========================================================================================================\n",
       "                                            dy/dx    std err          z      P>|z|      [0.025      0.975]\n",
       "----------------------------------------------------------------------------------------------------------\n",
       "TowCharge                               2.571e-06   3.36e-07      7.657      0.000    1.91e-06    3.23e-06\n",
       "TitleRenounciation                         0.4042      0.013     32.012      0.000       0.379       0.429\n",
       "StolenVehicleFlag                         -0.0118      0.001     -8.063      0.000      -0.015      -0.009\n",
       "TotalPaid                                 -0.0005   8.34e-06    -55.485      0.000      -0.000      -0.000\n",
       "VehicleAge                                 0.0006   5.37e-05     10.239      0.000       0.000       0.001\n",
       "DaysTillReleased                       -4.518e-06   1.13e-06     -3.987      0.000   -6.74e-06    -2.3e-06\n",
       "Car                                        0.0239      0.001     18.352      0.000       0.021       0.026\n",
       "Pick-up Truck                              0.0218      0.002     11.960      0.000       0.018       0.025\n",
       "SUV                                        0.0239      0.001     16.065      0.000       0.021       0.027\n",
       "Station Wagon                              0.0292      0.003     10.376      0.000       0.024       0.035\n",
       "Truck                                      0.0245      0.006      4.143      0.000       0.013       0.036\n",
       "Van                                        0.0264      0.002     17.364      0.000       0.023       0.029\n",
       "Front                                     -0.0047      0.004     -1.179      0.238      -0.012       0.003\n",
       "Rear                                      -0.0033      0.004     -0.816      0.415      -0.011       0.005\n",
       "Bermans                                   -0.0038      0.001     -2.988      0.003      -0.006      -0.001\n",
       "City                                       0.0051      0.001      5.690      0.000       0.003       0.007\n",
       "Frankford                                 -0.0022      0.001     -2.575      0.010      -0.004      -0.001\n",
       "Universal                                  0.0029      0.001      2.621      0.009       0.001       0.005\n",
       "MD                                        -0.0038      0.001     -3.310      0.001      -0.006      -0.002\n",
       "PA                                         0.0043      0.002      1.834      0.067      -0.000       0.009\n",
       "VA                                        -0.0001      0.002     -0.063      0.950      -0.004       0.004\n",
       "Accident                                   0.0216      0.002     13.305      0.000       0.018       0.025\n",
       "Accident (Owner/Operator Hospitalized)     0.0193      0.002      9.616      0.000       0.015       0.023\n",
       "Police Action (Misc.)                      0.0110      0.001     10.060      0.000       0.009       0.013\n",
       "Scofflaw                                   0.0040      0.001      4.156      0.000       0.002       0.006\n",
       "Stolen Recovered                           0.0030      0.002      1.861      0.063      -0.000       0.006\n",
       "==========================================================================================================\n",
       "\"\"\""
      ]
     },
     "execution_count": 61,
     "metadata": {},
     "output_type": "execute_result"
    }
   ],
   "source": [
    "mfx = fit.get_margeff()\n",
    "mfx.summary()"
   ]
  },
  {
   "cell_type": "markdown",
   "metadata": {},
   "source": [
    "It seems like one of the biggest factors in if a car is autioned is if the title was renounced. If the title was renounced the vehicle was 40% more likely to be auctioned off."
   ]
  },
  {
   "cell_type": "markdown",
   "metadata": {},
   "source": [
    "#### Partition Data"
   ]
  },
  {
   "cell_type": "code",
   "execution_count": 62,
   "metadata": {},
   "outputs": [],
   "source": [
    "from sklearn.model_selection import train_test_split\n",
    "\n",
    "train_y,test_y,train_X,test_X = train_test_split(y, X,\n",
    "                                                 test_size=0.2,\n",
    "                                                 random_state=123)"
   ]
  },
  {
   "cell_type": "markdown",
   "metadata": {},
   "source": [
    "#### Normalize Data"
   ]
  },
  {
   "cell_type": "code",
   "execution_count": 63,
   "metadata": {},
   "outputs": [],
   "source": [
    "from sklearn import preprocessing\n",
    "scaler = preprocessing.MinMaxScaler().fit(train_X)"
   ]
  },
  {
   "cell_type": "code",
   "execution_count": 64,
   "metadata": {},
   "outputs": [],
   "source": [
    "train_X_scale = scaler.transform(train_X)\n",
    "train_X_scale = pd.DataFrame(train_X_scale)\n",
    "train_X_scale.columns = train_X.columns"
   ]
  },
  {
   "cell_type": "code",
   "execution_count": 65,
   "metadata": {},
   "outputs": [],
   "source": [
    "test_X_scale = scaler.transform(test_X)\n",
    "test_X_scale = pd.DataFrame(test_X_scale)\n",
    "test_X_scale.columns = test_X.columns"
   ]
  },
  {
   "cell_type": "markdown",
   "metadata": {},
   "source": [
    "#### K-NN"
   ]
  },
  {
   "cell_type": "code",
   "execution_count": 66,
   "metadata": {},
   "outputs": [],
   "source": [
    "from sklearn import neighbors\n",
    "knn5 = neighbors.KNeighborsClassifier(n_neighbors=5, \n",
    "                                      weights='uniform', \n",
    "                                      algorithm='auto')"
   ]
  },
  {
   "cell_type": "code",
   "execution_count": 67,
   "metadata": {},
   "outputs": [
    {
     "data": {
      "text/plain": [
       "KNeighborsClassifier()"
      ]
     },
     "execution_count": 67,
     "metadata": {},
     "output_type": "execute_result"
    }
   ],
   "source": [
    "knn5.fit(train_X_scale, train_y)"
   ]
  },
  {
   "cell_type": "code",
   "execution_count": 68,
   "metadata": {},
   "outputs": [],
   "source": [
    "pred_y_knn5 = knn5.predict(test_X_scale)"
   ]
  },
  {
   "cell_type": "code",
   "execution_count": 69,
   "metadata": {},
   "outputs": [
    {
     "name": "stdout",
     "output_type": "stream",
     "text": [
      "[[20086   188]\n",
      " [  416  3848]]\n"
     ]
    }
   ],
   "source": [
    "from sklearn import metrics\n",
    "\n",
    "# Print confusion matrix\n",
    "cm = metrics.confusion_matrix(test_y, pred_y_knn5)\n",
    "print(cm)"
   ]
  },
  {
   "cell_type": "code",
   "execution_count": 70,
   "metadata": {},
   "outputs": [
    {
     "data": {
      "text/plain": [
       "<matplotlib.axes._subplots.AxesSubplot at 0x201065d6430>"
      ]
     },
     "execution_count": 70,
     "metadata": {},
     "output_type": "execute_result"
    },
    {
     "data": {
      "image/png": "[encoded data removed]",
      "text/plain": [
       "<Figure size 1080x576 with 2 Axes>"
      ]
     },
     "metadata": {},
     "output_type": "display_data"
    }
   ],
   "source": [
    "sns.heatmap(cm, cmap=\"coolwarm\")"
   ]
  },
  {
   "cell_type": "code",
   "execution_count": 71,
   "metadata": {},
   "outputs": [
    {
     "name": "stdout",
     "output_type": "stream",
     "text": [
      "              precision    recall  f1-score   support\n",
      "\n",
      "           0       0.98      0.99      0.99     20274\n",
      "           1       0.95      0.90      0.93      4264\n",
      "\n",
      "    accuracy                           0.98     24538\n",
      "   macro avg       0.97      0.95      0.96     24538\n",
      "weighted avg       0.98      0.98      0.98     24538\n",
      "\n"
     ]
    }
   ],
   "source": [
    "print(metrics.classification_report(test_y, pred_y_knn5))"
   ]
  },
  {
   "cell_type": "code",
   "execution_count": 72,
   "metadata": {},
   "outputs": [
    {
     "name": "stdout",
     "output_type": "stream",
     "text": [
      "The accuracy is: 0.9753851169614476\n",
      "The AUC is: 0.9465830319741493\n",
      "The Cohen Kappa is: 0.9124297314414833\n"
     ]
    }
   ],
   "source": [
    "print(f\"The accuracy is: {metrics.accuracy_score(test_y, pred_y_knn5)}\")\n",
    "print(f\"The AUC is: {metrics.roc_auc_score(test_y, pred_y_knn5)}\")\n",
    "print(f\"The Cohen Kappa is: {metrics.cohen_kappa_score(test_y, pred_y_knn5)}\")"
   ]
  },
  {
   "cell_type": "code",
   "execution_count": 73,
   "metadata": {},
   "outputs": [
    {
     "name": "stdout",
     "output_type": "stream",
     "text": [
      "AUC is  94.01 % for k = 2\n",
      "AUC is  95.54 % for k = 3\n",
      "AUC is  93.99 % for k = 4\n",
      "AUC is  94.66 % for k = 5\n",
      "AUC is  93.25 % for k = 6\n",
      "AUC is  93.74 % for k = 7\n"
     ]
    }
   ],
   "source": [
    "for k in range(1,7):\n",
    "    k = k + 1\n",
    "    knn = neighbors.KNeighborsClassifier(n_neighbors = k, \n",
    "                                         weights='uniform', \n",
    "                                         algorithm='auto')\n",
    "    knn.fit(train_X_scale, train_y)\n",
    "    pred_y = knn.predict(test_X_scale)\n",
    "    print(\"AUC is \", round(metrics.roc_auc_score(test_y, pred_y)*100,2),\"% for k =\",k)"
   ]
  },
  {
   "cell_type": "markdown",
   "metadata": {},
   "source": [
    "A K value of 5 has the best AUC."
   ]
  },
  {
   "cell_type": "markdown",
   "metadata": {},
   "source": [
    "#### Gaussian Naive Bayes Classifier"
   ]
  },
  {
   "cell_type": "code",
   "execution_count": 74,
   "metadata": {},
   "outputs": [],
   "source": [
    "from sklearn import naive_bayes"
   ]
  },
  {
   "cell_type": "code",
   "execution_count": 75,
   "metadata": {},
   "outputs": [],
   "source": [
    "g_nb = naive_bayes.GaussianNB()"
   ]
  },
  {
   "cell_type": "code",
   "execution_count": 76,
   "metadata": {},
   "outputs": [
    {
     "data": {
      "text/plain": [
       "GaussianNB()"
      ]
     },
     "execution_count": 76,
     "metadata": {},
     "output_type": "execute_result"
    }
   ],
   "source": [
    "g_nb.fit(train_X, train_y)"
   ]
  },
  {
   "cell_type": "code",
   "execution_count": 77,
   "metadata": {},
   "outputs": [],
   "source": [
    "pred_y_gnb = g_nb.predict(test_X)"
   ]
  },
  {
   "cell_type": "code",
   "execution_count": 78,
   "metadata": {},
   "outputs": [
    {
     "data": {
      "text/plain": [
       "array([[19555,   719],\n",
       "       [ 1242,  3022]], dtype=int64)"
      ]
     },
     "execution_count": 78,
     "metadata": {},
     "output_type": "execute_result"
    }
   ],
   "source": [
    "cm_gnb = metrics.confusion_matrix(test_y, pred_y_gnb)\n",
    "cm_gnb"
   ]
  },
  {
   "cell_type": "code",
   "execution_count": 79,
   "metadata": {},
   "outputs": [
    {
     "data": {
      "text/plain": [
       "<matplotlib.axes._subplots.AxesSubplot at 0x20105d97700>"
      ]
     },
     "execution_count": 79,
     "metadata": {},
     "output_type": "execute_result"
    },
    {
     "data": {
      "image/png": "[encoded data removed]",
      "text/plain": [
       "<Figure size 1080x576 with 2 Axes>"
      ]
     },
     "metadata": {},
     "output_type": "display_data"
    }
   ],
   "source": [
    "sns.heatmap(cm_gnb, cmap=\"coolwarm\")"
   ]
  },
  {
   "cell_type": "code",
   "execution_count": 80,
   "metadata": {},
   "outputs": [
    {
     "name": "stdout",
     "output_type": "stream",
     "text": [
      "              precision    recall  f1-score   support\n",
      "\n",
      "           0       0.94      0.96      0.95     20274\n",
      "           1       0.81      0.71      0.76      4264\n",
      "\n",
      "    accuracy                           0.92     24538\n",
      "   macro avg       0.87      0.84      0.85     24538\n",
      "weighted avg       0.92      0.92      0.92     24538\n",
      "\n"
     ]
    }
   ],
   "source": [
    "print(metrics.classification_report(test_y, pred_y_gnb))"
   ]
  },
  {
   "cell_type": "code",
   "execution_count": 81,
   "metadata": {},
   "outputs": [
    {
     "name": "stdout",
     "output_type": "stream",
     "text": [
      "The accuracy is: 0.9200831363599316\n",
      "The AUC is: 0.8366300306809838\n",
      "The Cohen Kappa is: 0.707524852294301\n"
     ]
    }
   ],
   "source": [
    "print(f\"The accuracy is: {metrics.accuracy_score(test_y, pred_y_gnb)}\")\n",
    "print(f\"The AUC is: {metrics.roc_auc_score(test_y, pred_y_gnb)}\")\n",
    "print(f\"The Cohen Kappa is: {metrics.cohen_kappa_score(test_y, pred_y_gnb)}\")"
   ]
  },
  {
   "cell_type": "code",
   "execution_count": null,
   "metadata": {},
   "outputs": [],
   "source": []
  },
  {
   "cell_type": "markdown",
   "metadata": {},
   "source": [
    "#### Bernoulli Naive Bayes Classifier"
   ]
  },
  {
   "cell_type": "code",
   "execution_count": 82,
   "metadata": {},
   "outputs": [],
   "source": [
    "b_nb = naive_bayes.BernoulliNB()"
   ]
  },
  {
   "cell_type": "code",
   "execution_count": 83,
   "metadata": {},
   "outputs": [
    {
     "data": {
      "text/plain": [
       "BernoulliNB()"
      ]
     },
     "execution_count": 83,
     "metadata": {},
     "output_type": "execute_result"
    }
   ],
   "source": [
    "b_nb.fit(train_X, train_y)"
   ]
  },
  {
   "cell_type": "code",
   "execution_count": 84,
   "metadata": {},
   "outputs": [],
   "source": [
    "pred_y_bnb = b_nb.predict(test_X)"
   ]
  },
  {
   "cell_type": "code",
   "execution_count": 85,
   "metadata": {},
   "outputs": [
    {
     "data": {
      "text/plain": [
       "array([[20106,   168],\n",
       "       [  111,  4153]], dtype=int64)"
      ]
     },
     "execution_count": 85,
     "metadata": {},
     "output_type": "execute_result"
    }
   ],
   "source": [
    "cm_bnb = metrics.confusion_matrix(test_y, pred_y_bnb)\n",
    "cm_bnb"
   ]
  },
  {
   "cell_type": "code",
   "execution_count": 86,
   "metadata": {},
   "outputs": [
    {
     "data": {
      "text/plain": [
       "<matplotlib.axes._subplots.AxesSubplot at 0x20105f23430>"
      ]
     },
     "execution_count": 86,
     "metadata": {},
     "output_type": "execute_result"
    },
    {
     "data": {
      "image/png": "[encoded data removed]",
      "text/plain": [
       "<Figure size 1080x576 with 2 Axes>"
      ]
     },
     "metadata": {},
     "output_type": "display_data"
    }
   ],
   "source": [
    "sns.heatmap(cm_bnb, cmap=\"coolwarm\")"
   ]
  },
  {
   "cell_type": "code",
   "execution_count": 87,
   "metadata": {},
   "outputs": [
    {
     "name": "stdout",
     "output_type": "stream",
     "text": [
      "              precision    recall  f1-score   support\n",
      "\n",
      "           0       0.99      0.99      0.99     20274\n",
      "           1       0.96      0.97      0.97      4264\n",
      "\n",
      "    accuracy                           0.99     24538\n",
      "   macro avg       0.98      0.98      0.98     24538\n",
      "weighted avg       0.99      0.99      0.99     24538\n",
      "\n"
     ]
    }
   ],
   "source": [
    "print(metrics.classification_report(test_y, pred_y_bnb))"
   ]
  },
  {
   "cell_type": "code",
   "execution_count": 88,
   "metadata": {},
   "outputs": [
    {
     "name": "stdout",
     "output_type": "stream",
     "text": [
      "The accuracy is: 0.9886298801858342\n",
      "The AUC is: 0.9828408148885597\n",
      "The Cohen Kappa is: 0.9606114040817231\n"
     ]
    }
   ],
   "source": [
    "print(f\"The accuracy is: {metrics.accuracy_score(test_y, pred_y_bnb)}\")\n",
    "print(f\"The AUC is: {metrics.roc_auc_score(test_y, pred_y_bnb)}\")\n",
    "print(f\"The Cohen Kappa is: {metrics.cohen_kappa_score(test_y, pred_y_bnb)}\")"
   ]
  },
  {
   "cell_type": "markdown",
   "metadata": {},
   "source": [
    "#### Decision Tree Classifier"
   ]
  },
  {
   "cell_type": "code",
   "execution_count": 89,
   "metadata": {},
   "outputs": [],
   "source": [
    "from sklearn import tree"
   ]
  },
  {
   "cell_type": "code",
   "execution_count": 90,
   "metadata": {},
   "outputs": [],
   "source": [
    "dt = tree.DecisionTreeClassifier(criterion='entropy', class_weight=\"balanced\")"
   ]
  },
  {
   "cell_type": "code",
   "execution_count": 91,
   "metadata": {},
   "outputs": [
    {
     "data": {
      "text/plain": [
       "DecisionTreeClassifier(class_weight='balanced', criterion='entropy')"
      ]
     },
     "execution_count": 91,
     "metadata": {},
     "output_type": "execute_result"
    }
   ],
   "source": [
    "dt.fit(train_X, train_y)"
   ]
  },
  {
   "cell_type": "code",
   "execution_count": 92,
   "metadata": {},
   "outputs": [],
   "source": [
    "pred_y_dt = dt.predict(test_X)"
   ]
  },
  {
   "cell_type": "code",
   "execution_count": 93,
   "metadata": {},
   "outputs": [
    {
     "data": {
      "text/plain": [
       "array([[20182,    92],\n",
       "       [  110,  4154]], dtype=int64)"
      ]
     },
     "execution_count": 93,
     "metadata": {},
     "output_type": "execute_result"
    }
   ],
   "source": [
    "metrics.confusion_matrix(test_y, pred_y_dt)"
   ]
  },
  {
   "cell_type": "code",
   "execution_count": 94,
   "metadata": {},
   "outputs": [
    {
     "name": "stdout",
     "output_type": "stream",
     "text": [
      "              precision    recall  f1-score   support\n",
      "\n",
      "           0       0.99      1.00      1.00     20274\n",
      "           1       0.98      0.97      0.98      4264\n",
      "\n",
      "    accuracy                           0.99     24538\n",
      "   macro avg       0.99      0.98      0.99     24538\n",
      "weighted avg       0.99      0.99      0.99     24538\n",
      "\n"
     ]
    }
   ],
   "source": [
    "print(metrics.classification_report(test_y, pred_y_dt))"
   ]
  },
  {
   "cell_type": "code",
   "execution_count": 95,
   "metadata": {},
   "outputs": [
    {
     "name": "stdout",
     "output_type": "stream",
     "text": [
      "The accuracy is: 0.9917678702420735\n",
      "The AUC is: 0.9848323974680091\n",
      "The Cohen Kappa is: 0.9712837071770489\n"
     ]
    }
   ],
   "source": [
    "print(f\"The accuracy is: {metrics.accuracy_score(test_y, pred_y_dt)}\")\n",
    "print(f\"The AUC is: {metrics.roc_auc_score(test_y, pred_y_dt)}\")\n",
    "print(f\"The Cohen Kappa is: {metrics.cohen_kappa_score(test_y, pred_y_dt)}\")"
   ]
  },
  {
   "cell_type": "markdown",
   "metadata": {},
   "source": [
    "#### Random Forest"
   ]
  },
  {
   "cell_type": "code",
   "execution_count": 96,
   "metadata": {},
   "outputs": [],
   "source": [
    "from sklearn.ensemble import RandomForestClassifier"
   ]
  },
  {
   "cell_type": "code",
   "execution_count": 97,
   "metadata": {},
   "outputs": [],
   "source": [
    "rf = RandomForestClassifier(n_estimators=5, max_features=7, random_state=123, class_weight=\"balanced\")"
   ]
  },
  {
   "cell_type": "code",
   "execution_count": 98,
   "metadata": {},
   "outputs": [
    {
     "data": {
      "text/plain": [
       "RandomForestClassifier(class_weight='balanced', max_features=7, n_estimators=5,\n",
       "                       random_state=123)"
      ]
     },
     "execution_count": 98,
     "metadata": {},
     "output_type": "execute_result"
    }
   ],
   "source": [
    "rf.fit(train_X, train_y)"
   ]
  },
  {
   "cell_type": "code",
   "execution_count": 99,
   "metadata": {},
   "outputs": [
    {
     "data": {
      "text/html": [
       "<div>\n",
       "<style scoped>\n",
       "    .dataframe tbody tr th:only-of-type {\n",
       "        vertical-align: middle;\n",
       "    }\n",
       "\n",
       "    .dataframe tbody tr th {\n",
       "        vertical-align: top;\n",
       "    }\n",
       "\n",
       "    .dataframe thead th {\n",
       "        text-align: right;\n",
       "    }\n",
       "</style>\n",
       "<table border=\"1\" class=\"dataframe\">\n",
       "  <thead>\n",
       "    <tr style=\"text-align: right;\">\n",
       "      <th></th>\n",
       "      <th>importance</th>\n",
       "    </tr>\n",
       "  </thead>\n",
       "  <tbody>\n",
       "    <tr>\n",
       "      <th>TotalPaid</th>\n",
       "      <td>0.481646</td>\n",
       "    </tr>\n",
       "    <tr>\n",
       "      <th>DaysTillReleased</th>\n",
       "      <td>0.396314</td>\n",
       "    </tr>\n",
       "    <tr>\n",
       "      <th>VehicleAge</th>\n",
       "      <td>0.056233</td>\n",
       "    </tr>\n",
       "    <tr>\n",
       "      <th>TitleRenounciation</th>\n",
       "      <td>0.026221</td>\n",
       "    </tr>\n",
       "    <tr>\n",
       "      <th>City</th>\n",
       "      <td>0.011451</td>\n",
       "    </tr>\n",
       "    <tr>\n",
       "      <th>Stolen Recovered</th>\n",
       "      <td>0.005643</td>\n",
       "    </tr>\n",
       "    <tr>\n",
       "      <th>Frankford</th>\n",
       "      <td>0.004262</td>\n",
       "    </tr>\n",
       "    <tr>\n",
       "      <th>Bermans</th>\n",
       "      <td>0.003766</td>\n",
       "    </tr>\n",
       "    <tr>\n",
       "      <th>Scofflaw</th>\n",
       "      <td>0.003470</td>\n",
       "    </tr>\n",
       "    <tr>\n",
       "      <th>Accident</th>\n",
       "      <td>0.001726</td>\n",
       "    </tr>\n",
       "    <tr>\n",
       "      <th>TowCharge</th>\n",
       "      <td>0.001496</td>\n",
       "    </tr>\n",
       "    <tr>\n",
       "      <th>Accident (Owner/Operator Hospitalized)</th>\n",
       "      <td>0.001206</td>\n",
       "    </tr>\n",
       "    <tr>\n",
       "      <th>StolenVehicleFlag</th>\n",
       "      <td>0.001106</td>\n",
       "    </tr>\n",
       "    <tr>\n",
       "      <th>Police Action (Misc.)</th>\n",
       "      <td>0.000994</td>\n",
       "    </tr>\n",
       "    <tr>\n",
       "      <th>MD</th>\n",
       "      <td>0.000608</td>\n",
       "    </tr>\n",
       "    <tr>\n",
       "      <th>Van</th>\n",
       "      <td>0.000567</td>\n",
       "    </tr>\n",
       "    <tr>\n",
       "      <th>Car</th>\n",
       "      <td>0.000525</td>\n",
       "    </tr>\n",
       "    <tr>\n",
       "      <th>Front</th>\n",
       "      <td>0.000470</td>\n",
       "    </tr>\n",
       "    <tr>\n",
       "      <th>Rear</th>\n",
       "      <td>0.000448</td>\n",
       "    </tr>\n",
       "    <tr>\n",
       "      <th>SUV</th>\n",
       "      <td>0.000435</td>\n",
       "    </tr>\n",
       "    <tr>\n",
       "      <th>VA</th>\n",
       "      <td>0.000404</td>\n",
       "    </tr>\n",
       "    <tr>\n",
       "      <th>Universal</th>\n",
       "      <td>0.000296</td>\n",
       "    </tr>\n",
       "    <tr>\n",
       "      <th>Pick-up Truck</th>\n",
       "      <td>0.000255</td>\n",
       "    </tr>\n",
       "    <tr>\n",
       "      <th>PA</th>\n",
       "      <td>0.000252</td>\n",
       "    </tr>\n",
       "    <tr>\n",
       "      <th>Station Wagon</th>\n",
       "      <td>0.000155</td>\n",
       "    </tr>\n",
       "    <tr>\n",
       "      <th>Truck</th>\n",
       "      <td>0.000050</td>\n",
       "    </tr>\n",
       "    <tr>\n",
       "      <th>Const</th>\n",
       "      <td>0.000000</td>\n",
       "    </tr>\n",
       "  </tbody>\n",
       "</table>\n",
       "</div>"
      ],
      "text/plain": [
       "                                        importance\n",
       "TotalPaid                                 0.481646\n",
       "DaysTillReleased                          0.396314\n",
       "VehicleAge                                0.056233\n",
       "TitleRenounciation                        0.026221\n",
       "City                                      0.011451\n",
       "Stolen Recovered                          0.005643\n",
       "Frankford                                 0.004262\n",
       "Bermans                                   0.003766\n",
       "Scofflaw                                  0.003470\n",
       "Accident                                  0.001726\n",
       "TowCharge                                 0.001496\n",
       "Accident (Owner/Operator Hospitalized)    0.001206\n",
       "StolenVehicleFlag                         0.001106\n",
       "Police Action (Misc.)                     0.000994\n",
       "MD                                        0.000608\n",
       "Van                                       0.000567\n",
       "Car                                       0.000525\n",
       "Front                                     0.000470\n",
       "Rear                                      0.000448\n",
       "SUV                                       0.000435\n",
       "VA                                        0.000404\n",
       "Universal                                 0.000296\n",
       "Pick-up Truck                             0.000255\n",
       "PA                                        0.000252\n",
       "Station Wagon                             0.000155\n",
       "Truck                                     0.000050\n",
       "Const                                     0.000000"
      ]
     },
     "execution_count": 99,
     "metadata": {},
     "output_type": "execute_result"
    }
   ],
   "source": [
    "feature_importances = pd.DataFrame(rf.feature_importances_,\n",
    "                                   index = train_X.columns,\n",
    "                                   columns=['importance'])\n",
    "feature_importances = feature_importances.sort_values('importance',ascending=False)\n",
    "\n",
    "feature_importances"
   ]
  },
  {
   "cell_type": "code",
   "execution_count": 100,
   "metadata": {},
   "outputs": [
    {
     "data": {
      "text/plain": [
       "<matplotlib.axes._subplots.AxesSubplot at 0x201066023d0>"
      ]
     },
     "execution_count": 100,
     "metadata": {},
     "output_type": "execute_result"
    },
    {
     "data": {
      "image/png": "[encoded data removed]",
      "text/plain": [
       "<Figure size 1296x720 with 1 Axes>"
      ]
     },
     "metadata": {},
     "output_type": "display_data"
    }
   ],
   "source": [
    "feature_importances.plot(kind = 'bar',figsize=(18,10),\n",
    "                         title='Feature Importance of Towing Dataset')"
   ]
  },
  {
   "cell_type": "code",
   "execution_count": 101,
   "metadata": {},
   "outputs": [],
   "source": [
    "pred_y_rf = rf.predict(test_X)"
   ]
  },
  {
   "cell_type": "code",
   "execution_count": 102,
   "metadata": {},
   "outputs": [
    {
     "name": "stdout",
     "output_type": "stream",
     "text": [
      "              precision    recall  f1-score   support\n",
      "\n",
      "           0       1.00      1.00      1.00     20274\n",
      "           1       0.98      0.99      0.98      4264\n",
      "\n",
      "    accuracy                           0.99     24538\n",
      "   macro avg       0.99      0.99      0.99     24538\n",
      "weighted avg       0.99      0.99      0.99     24538\n",
      "\n"
     ]
    }
   ],
   "source": [
    "print(metrics.classification_report(test_y, pred_y_rf))"
   ]
  },
  {
   "cell_type": "code",
   "execution_count": 137,
   "metadata": {},
   "outputs": [
    {
     "name": "stdout",
     "output_type": "stream",
     "text": [
      "The accuracy is: 0.9939277854755889\n",
      "The AUC is: 0.9910472192316113\n",
      "The Cohen Kappa is: 0.9789217988534359\n"
     ]
    }
   ],
   "source": [
    "print(f\"The accuracy is: {metrics.accuracy_score(test_y, pred_y_rf)}\")\n",
    "print(f\"The AUC is: {metrics.roc_auc_score(test_y, pred_y_rf)}\")\n",
    "print(f\"The Cohen Kappa is: {metrics.cohen_kappa_score(test_y, pred_y_rf)}\")"
   ]
  },
  {
   "cell_type": "markdown",
   "metadata": {},
   "source": [
    "We can see from this that TotalPaid and DaysTillReleased has the biggest impact on whether the car is auctioned or not."
   ]
  },
  {
   "cell_type": "markdown",
   "metadata": {},
   "source": [
    "#### ANN"
   ]
  },
  {
   "cell_type": "code",
   "execution_count": 113,
   "metadata": {},
   "outputs": [],
   "source": [
    "from sklearn import neural_network"
   ]
  },
  {
   "cell_type": "code",
   "execution_count": 114,
   "metadata": {},
   "outputs": [],
   "source": [
    "ann = neural_network.MLPRegressor(alpha=1e-5,\n",
    "                                   hidden_layer_sizes=(20),\n",
    "                                   random_state=1)"
   ]
  },
  {
   "cell_type": "code",
   "execution_count": 116,
   "metadata": {},
   "outputs": [
    {
     "data": {
      "text/plain": [
       "MLPRegressor(alpha=1e-05, hidden_layer_sizes=20, random_state=1)"
      ]
     },
     "execution_count": 116,
     "metadata": {},
     "output_type": "execute_result"
    }
   ],
   "source": [
    "ann.fit(train_X_scale, train_y)"
   ]
  },
  {
   "cell_type": "code",
   "execution_count": 125,
   "metadata": {},
   "outputs": [],
   "source": [
    "pred_y_ann_raw = ann.predict(test_X_scale)"
   ]
  },
  {
   "cell_type": "code",
   "execution_count": 130,
   "metadata": {},
   "outputs": [],
   "source": [
    "pred_y_ann = pred_y_ann_raw\n",
    "pred_y_ann[pred_y_ann_raw >= 0.5] = 1\n",
    "pred_y_ann[pred_y_ann_raw < 0.5] = 0"
   ]
  },
  {
   "cell_type": "code",
   "execution_count": 131,
   "metadata": {},
   "outputs": [
    {
     "name": "stdout",
     "output_type": "stream",
     "text": [
      "              precision    recall  f1-score   support\n",
      "\n",
      "           0       1.00      0.99      1.00     20274\n",
      "           1       0.98      1.00      0.99      4264\n",
      "\n",
      "    accuracy                           0.99     24538\n",
      "   macro avg       0.99      1.00      0.99     24538\n",
      "weighted avg       0.99      0.99      0.99     24538\n",
      "\n"
     ]
    }
   ],
   "source": [
    "print(metrics.classification_report(test_y, pred_y_ann))"
   ]
  },
  {
   "cell_type": "code",
   "execution_count": 136,
   "metadata": {},
   "outputs": [
    {
     "name": "stdout",
     "output_type": "stream",
     "text": [
      "The accuracy is: 0.9948651071806993\n",
      "The AUC is: 0.9951331972428018\n",
      "The Cohen Kappa is: 0.982262251749732\n"
     ]
    }
   ],
   "source": [
    "print(f\"The accuracy is: {metrics.accuracy_score(test_y, pred_y_ann)}\")\n",
    "print(f\"The AUC is: {metrics.roc_auc_score(test_y, pred_y_ann)}\")\n",
    "print(f\"The Cohen Kappa is: {metrics.cohen_kappa_score(test_y, pred_y_ann)}\")"
   ]
  },
  {
   "cell_type": "markdown",
   "metadata": {},
   "source": [
    "#### Comparing Models"
   ]
  },
  {
   "cell_type": "code",
   "execution_count": 133,
   "metadata": {},
   "outputs": [],
   "source": [
    "acc = [metrics.accuracy_score(test_y, pred_y_knn5),\n",
    "       metrics.accuracy_score(test_y, pred_y_gnb),\n",
    "       metrics.accuracy_score(test_y, pred_y_bnb),\n",
    "       metrics.accuracy_score(test_y, pred_y_dt),\n",
    "       metrics.accuracy_score(test_y, pred_y_rf),\n",
    "       metrics.accuracy_score(test_y, pred_y_ann)]\n",
    "\n",
    "\n",
    "pre = [metrics.precision_score(test_y, pred_y_knn5),\n",
    "       metrics.precision_score(test_y, pred_y_gnb),\n",
    "       metrics.precision_score(test_y, pred_y_bnb),\n",
    "       metrics.precision_score(test_y, pred_y_dt),\n",
    "       metrics.precision_score(test_y, pred_y_rf),\n",
    "       metrics.precision_score(test_y, pred_y_ann)]\n",
    "\n",
    "\n",
    "rec = [metrics.recall_score(test_y, pred_y_knn5),\n",
    "       metrics.recall_score(test_y, pred_y_gnb),\n",
    "       metrics.recall_score(test_y, pred_y_bnb),\n",
    "       metrics.recall_score(test_y, pred_y_dt),\n",
    "       metrics.recall_score(test_y, pred_y_rf),\n",
    "       metrics.recall_score(test_y, pred_y_ann)]\n",
    "\n",
    "f1  = [metrics.f1_score(test_y, pred_y_knn5),\n",
    "       metrics.f1_score(test_y, pred_y_gnb),\n",
    "       metrics.f1_score(test_y, pred_y_bnb),\n",
    "       metrics.f1_score(test_y, pred_y_dt),\n",
    "       metrics.f1_score(test_y, pred_y_rf),\n",
    "       metrics.f1_score(test_y, pred_y_ann)]\n",
    "\n",
    "auc  = [metrics.roc_auc_score(test_y, pred_y_knn5),\n",
    "        metrics.roc_auc_score(test_y, pred_y_gnb),\n",
    "        metrics.roc_auc_score(test_y, pred_y_bnb),\n",
    "        metrics.roc_auc_score(test_y, pred_y_dt),\n",
    "        metrics.roc_auc_score(test_y, pred_y_rf),\n",
    "        metrics.roc_auc_score(test_y, pred_y_ann)]"
   ]
  },
  {
   "cell_type": "code",
   "execution_count": 135,
   "metadata": {
    "scrolled": true
   },
   "outputs": [
    {
     "data": {
      "text/html": [
       "<div>\n",
       "<style scoped>\n",
       "    .dataframe tbody tr th:only-of-type {\n",
       "        vertical-align: middle;\n",
       "    }\n",
       "\n",
       "    .dataframe tbody tr th {\n",
       "        vertical-align: top;\n",
       "    }\n",
       "\n",
       "    .dataframe thead th {\n",
       "        text-align: right;\n",
       "    }\n",
       "</style>\n",
       "<table border=\"1\" class=\"dataframe\">\n",
       "  <thead>\n",
       "    <tr style=\"text-align: right;\">\n",
       "      <th></th>\n",
       "      <th>Accuracy</th>\n",
       "      <th>Precision</th>\n",
       "      <th>Recall</th>\n",
       "      <th>F1 Score</th>\n",
       "      <th>AUC</th>\n",
       "    </tr>\n",
       "  </thead>\n",
       "  <tbody>\n",
       "    <tr>\n",
       "      <th>k-NN (k=5)</th>\n",
       "      <td>0.975385</td>\n",
       "      <td>0.953419</td>\n",
       "      <td>0.902439</td>\n",
       "      <td>0.927229</td>\n",
       "      <td>0.946583</td>\n",
       "    </tr>\n",
       "    <tr>\n",
       "      <th>Gaussian Naive Bayes</th>\n",
       "      <td>0.920083</td>\n",
       "      <td>0.807805</td>\n",
       "      <td>0.708724</td>\n",
       "      <td>0.755028</td>\n",
       "      <td>0.836630</td>\n",
       "    </tr>\n",
       "    <tr>\n",
       "      <th>Bernoulli Naive Bayes</th>\n",
       "      <td>0.988630</td>\n",
       "      <td>0.961120</td>\n",
       "      <td>0.973968</td>\n",
       "      <td>0.967501</td>\n",
       "      <td>0.982841</td>\n",
       "    </tr>\n",
       "    <tr>\n",
       "      <th>Decision Tree</th>\n",
       "      <td>0.991768</td>\n",
       "      <td>0.978333</td>\n",
       "      <td>0.974203</td>\n",
       "      <td>0.976263</td>\n",
       "      <td>0.984832</td>\n",
       "    </tr>\n",
       "    <tr>\n",
       "      <th>Random Forest</th>\n",
       "      <td>0.993928</td>\n",
       "      <td>0.978600</td>\n",
       "      <td>0.986632</td>\n",
       "      <td>0.982600</td>\n",
       "      <td>0.991047</td>\n",
       "    </tr>\n",
       "    <tr>\n",
       "      <th>Artificial NN</th>\n",
       "      <td>0.994865</td>\n",
       "      <td>0.975414</td>\n",
       "      <td>0.995544</td>\n",
       "      <td>0.985376</td>\n",
       "      <td>0.995133</td>\n",
       "    </tr>\n",
       "  </tbody>\n",
       "</table>\n",
       "</div>"
      ],
      "text/plain": [
       "                       Accuracy  Precision    Recall  F1 Score       AUC\n",
       "k-NN (k=5)             0.975385   0.953419  0.902439  0.927229  0.946583\n",
       "Gaussian Naive Bayes   0.920083   0.807805  0.708724  0.755028  0.836630\n",
       "Bernoulli Naive Bayes  0.988630   0.961120  0.973968  0.967501  0.982841\n",
       "Decision Tree          0.991768   0.978333  0.974203  0.976263  0.984832\n",
       "Random Forest          0.993928   0.978600  0.986632  0.982600  0.991047\n",
       "Artificial NN          0.994865   0.975414  0.995544  0.985376  0.995133"
      ]
     },
     "execution_count": 135,
     "metadata": {},
     "output_type": "execute_result"
    }
   ],
   "source": [
    "pd.DataFrame({'Accuracy':acc, 'Precision':pre, 'Recall':rec, 'F1 Score': f1, 'AUC':auc},\n",
    "             index = ['k-NN (k=5)',\n",
    "                      'Gaussian Naive Bayes',\n",
    "                      'Bernoulli Naive Bayes',\n",
    "                      'Decision Tree',\n",
    "                      'Random Forest',\n",
    "                        'Artificial NN'])"
   ]
  },
  {
   "cell_type": "markdown",
   "metadata": {},
   "source": [
    "Artificial NN has the highest Accuracy and AUC. To predict if a car is towed we recomend using a NN since it has a 99.49% accuracy, followed closely by random forest with a 99.39% accuracy."
   ]
  },
  {
   "cell_type": "code",
   "execution_count": null,
   "metadata": {},
   "outputs": [],
   "source": []
  }
 ],
 "metadata": {
  "kernelspec": {
   "display_name": "Python 3",
   "language": "python",
   "name": "python3"
  },
  "language_info": {
   "codemirror_mode": {
    "name": "ipython",
    "version": 3
   },
   "file_extension": ".py",
   "mimetype": "text/x-python",
   "name": "python",
   "nbconvert_exporter": "python",
   "pygments_lexer": "ipython3",
   "version": "3.8.3"
  }
 },
 "nbformat": 4,
 "nbformat_minor": 5
}
